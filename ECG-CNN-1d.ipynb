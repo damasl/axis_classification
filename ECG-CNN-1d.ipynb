{
 "cells": [
  {
   "cell_type": "code",
   "execution_count": 1,
   "metadata": {},
   "outputs": [
    {
     "data": {
      "text/plain": [
       "True"
      ]
     },
     "execution_count": 1,
     "metadata": {},
     "output_type": "execute_result"
    }
   ],
   "source": [
    "import torch\n",
    "torch.cuda.is_available()"
   ]
  },
  {
   "cell_type": "code",
   "execution_count": 2,
   "metadata": {},
   "outputs": [],
   "source": [
    "import pandas as pd"
   ]
  },
  {
   "cell_type": "code",
   "execution_count": 3,
   "metadata": {},
   "outputs": [],
   "source": [
    "from scipy import signal\n",
    "import numpy as np\n",
    "import matplotlib.pyplot as plt\n",
    "from wfdb import processing\n",
    "import numpy as np"
   ]
  },
  {
   "cell_type": "code",
   "execution_count": 4,
   "metadata": {},
   "outputs": [],
   "source": [
    "data = pd.read_csv(\"X_train.csv\")"
   ]
  },
  {
   "cell_type": "code",
   "execution_count": 5,
   "metadata": {},
   "outputs": [],
   "source": [
    "answers = pd.read_csv(\"y_train.csv\")"
   ]
  },
  {
   "cell_type": "code",
   "execution_count": 6,
   "metadata": {},
   "outputs": [],
   "source": [
    "data = (pd.merge(data ,answers, on = \"Unnamed: 0\"))\n",
    "data['age'] = (data['age'] - data['age'].mean(axis = 0))/data['age'].std(axis = 0)"
   ]
  },
  {
   "cell_type": "code",
   "execution_count": 7,
   "metadata": {},
   "outputs": [],
   "source": [
    "data = data.drop( [\"Unnamed: 0\"], axis = 1)"
   ]
  },
  {
   "cell_type": "code",
   "execution_count": 8,
   "metadata": {},
   "outputs": [
    {
     "data": {
      "text/html": [
       "<div>\n",
       "<style scoped>\n",
       "    .dataframe tbody tr th:only-of-type {\n",
       "        vertical-align: middle;\n",
       "    }\n",
       "\n",
       "    .dataframe tbody tr th {\n",
       "        vertical-align: top;\n",
       "    }\n",
       "\n",
       "    .dataframe thead th {\n",
       "        text-align: right;\n",
       "    }\n",
       "</style>\n",
       "<table border=\"1\" class=\"dataframe\">\n",
       "  <thead>\n",
       "    <tr style=\"text-align: right;\">\n",
       "      <th></th>\n",
       "      <th>age</th>\n",
       "      <th>gender</th>\n",
       "      <th>i_0</th>\n",
       "      <th>i_1</th>\n",
       "      <th>i_2</th>\n",
       "      <th>i_3</th>\n",
       "      <th>i_4</th>\n",
       "      <th>i_5</th>\n",
       "      <th>i_6</th>\n",
       "      <th>i_7</th>\n",
       "      <th>...</th>\n",
       "      <th>v6_4991</th>\n",
       "      <th>v6_4992</th>\n",
       "      <th>v6_4993</th>\n",
       "      <th>v6_4994</th>\n",
       "      <th>v6_4995</th>\n",
       "      <th>v6_4996</th>\n",
       "      <th>v6_4997</th>\n",
       "      <th>v6_4998</th>\n",
       "      <th>v6_4999</th>\n",
       "      <th>axis_id</th>\n",
       "    </tr>\n",
       "  </thead>\n",
       "  <tbody>\n",
       "    <tr>\n",
       "      <th>0</th>\n",
       "      <td>0.192357</td>\n",
       "      <td>1</td>\n",
       "      <td>-59.0</td>\n",
       "      <td>-58.0</td>\n",
       "      <td>-58.0</td>\n",
       "      <td>-58.0</td>\n",
       "      <td>-58.0</td>\n",
       "      <td>-58.0</td>\n",
       "      <td>-58.0</td>\n",
       "      <td>-58.0</td>\n",
       "      <td>...</td>\n",
       "      <td>114.0</td>\n",
       "      <td>119.0</td>\n",
       "      <td>124.0</td>\n",
       "      <td>129.0</td>\n",
       "      <td>134.0</td>\n",
       "      <td>147.0</td>\n",
       "      <td>172.0</td>\n",
       "      <td>200.0</td>\n",
       "      <td>143.0</td>\n",
       "      <td>3</td>\n",
       "    </tr>\n",
       "    <tr>\n",
       "      <th>1</th>\n",
       "      <td>1.399105</td>\n",
       "      <td>0</td>\n",
       "      <td>-39.0</td>\n",
       "      <td>-38.0</td>\n",
       "      <td>-38.0</td>\n",
       "      <td>-38.0</td>\n",
       "      <td>-38.0</td>\n",
       "      <td>-38.0</td>\n",
       "      <td>-38.0</td>\n",
       "      <td>-38.0</td>\n",
       "      <td>...</td>\n",
       "      <td>229.0</td>\n",
       "      <td>259.0</td>\n",
       "      <td>289.0</td>\n",
       "      <td>319.0</td>\n",
       "      <td>349.0</td>\n",
       "      <td>379.0</td>\n",
       "      <td>409.0</td>\n",
       "      <td>439.0</td>\n",
       "      <td>302.0</td>\n",
       "      <td>3</td>\n",
       "    </tr>\n",
       "    <tr>\n",
       "      <th>2</th>\n",
       "      <td>0.137505</td>\n",
       "      <td>0</td>\n",
       "      <td>0.0</td>\n",
       "      <td>0.0</td>\n",
       "      <td>0.0</td>\n",
       "      <td>0.0</td>\n",
       "      <td>0.0</td>\n",
       "      <td>0.0</td>\n",
       "      <td>0.0</td>\n",
       "      <td>0.0</td>\n",
       "      <td>...</td>\n",
       "      <td>-58.0</td>\n",
       "      <td>-58.0</td>\n",
       "      <td>-58.0</td>\n",
       "      <td>-58.0</td>\n",
       "      <td>-58.0</td>\n",
       "      <td>-58.0</td>\n",
       "      <td>-38.0</td>\n",
       "      <td>-11.0</td>\n",
       "      <td>-2.0</td>\n",
       "      <td>2</td>\n",
       "    </tr>\n",
       "    <tr>\n",
       "      <th>3</th>\n",
       "      <td>1.344253</td>\n",
       "      <td>0</td>\n",
       "      <td>108.0</td>\n",
       "      <td>106.0</td>\n",
       "      <td>93.0</td>\n",
       "      <td>79.0</td>\n",
       "      <td>86.0</td>\n",
       "      <td>74.0</td>\n",
       "      <td>64.0</td>\n",
       "      <td>51.0</td>\n",
       "      <td>...</td>\n",
       "      <td>81.0</td>\n",
       "      <td>89.0</td>\n",
       "      <td>79.0</td>\n",
       "      <td>59.0</td>\n",
       "      <td>61.0</td>\n",
       "      <td>64.0</td>\n",
       "      <td>49.0</td>\n",
       "      <td>26.0</td>\n",
       "      <td>10.0</td>\n",
       "      <td>3</td>\n",
       "    </tr>\n",
       "    <tr>\n",
       "      <th>4</th>\n",
       "      <td>-1.453208</td>\n",
       "      <td>1</td>\n",
       "      <td>363.0</td>\n",
       "      <td>366.0</td>\n",
       "      <td>366.0</td>\n",
       "      <td>353.0</td>\n",
       "      <td>334.0</td>\n",
       "      <td>314.0</td>\n",
       "      <td>306.0</td>\n",
       "      <td>294.0</td>\n",
       "      <td>...</td>\n",
       "      <td>-61.0</td>\n",
       "      <td>-59.0</td>\n",
       "      <td>-86.0</td>\n",
       "      <td>-66.0</td>\n",
       "      <td>-71.0</td>\n",
       "      <td>-91.0</td>\n",
       "      <td>-84.0</td>\n",
       "      <td>-11.0</td>\n",
       "      <td>-4.0</td>\n",
       "      <td>0</td>\n",
       "    </tr>\n",
       "  </tbody>\n",
       "</table>\n",
       "<p>5 rows × 60003 columns</p>\n",
       "</div>"
      ],
      "text/plain": [
       "        age  gender    i_0    i_1    i_2    i_3    i_4    i_5    i_6    i_7  \\\n",
       "0  0.192357       1  -59.0  -58.0  -58.0  -58.0  -58.0  -58.0  -58.0  -58.0   \n",
       "1  1.399105       0  -39.0  -38.0  -38.0  -38.0  -38.0  -38.0  -38.0  -38.0   \n",
       "2  0.137505       0    0.0    0.0    0.0    0.0    0.0    0.0    0.0    0.0   \n",
       "3  1.344253       0  108.0  106.0   93.0   79.0   86.0   74.0   64.0   51.0   \n",
       "4 -1.453208       1  363.0  366.0  366.0  353.0  334.0  314.0  306.0  294.0   \n",
       "\n",
       "    ...     v6_4991  v6_4992  v6_4993  v6_4994  v6_4995  v6_4996  v6_4997  \\\n",
       "0   ...       114.0    119.0    124.0    129.0    134.0    147.0    172.0   \n",
       "1   ...       229.0    259.0    289.0    319.0    349.0    379.0    409.0   \n",
       "2   ...       -58.0    -58.0    -58.0    -58.0    -58.0    -58.0    -38.0   \n",
       "3   ...        81.0     89.0     79.0     59.0     61.0     64.0     49.0   \n",
       "4   ...       -61.0    -59.0    -86.0    -66.0    -71.0    -91.0    -84.0   \n",
       "\n",
       "   v6_4998  v6_4999  axis_id  \n",
       "0    200.0    143.0        3  \n",
       "1    439.0    302.0        3  \n",
       "2    -11.0     -2.0        2  \n",
       "3     26.0     10.0        3  \n",
       "4    -11.0     -4.0        0  \n",
       "\n",
       "[5 rows x 60003 columns]"
      ]
     },
     "execution_count": 8,
     "metadata": {},
     "output_type": "execute_result"
    }
   ],
   "source": [
    "data.head()"
   ]
  },
  {
   "cell_type": "code",
   "execution_count": 10,
   "metadata": {},
   "outputs": [],
   "source": [
    "from torch.utils.data import Dataset, DataLoader\n",
    "from torchvision import transforms"
   ]
  },
  {
   "cell_type": "code",
   "execution_count": 11,
   "metadata": {},
   "outputs": [],
   "source": [
    "from filters import bandpass_filter"
   ]
  },
  {
   "cell_type": "code",
   "execution_count": 12,
   "metadata": {},
   "outputs": [],
   "source": [
    "class ECGDataset(Dataset):\n",
    "    def __init__(self, data, signal_length):\n",
    "        super().__init__()\n",
    "        self.data = data.values\n",
    "        self._process_dataset()\n",
    "        self.signal_length = signal_length\n",
    "        used_data = self.signals\n",
    "        used_data = [np.array(row) for row in used_data.copy()]\n",
    "        used_data = np.array(used_data)\n",
    "        self.mean = used_data.mean()\n",
    "        self.std = used_data.std()\n",
    "        self.values = (used_data - used_data.mean())/used_data.std()\n",
    "\n",
    "    def __len__(self):\n",
    "        return len(self.values)\n",
    "\n",
    "    def _get_row(self, row):\n",
    "        return [bandpass_filter(row[i : i + 5000], {}) for i in range(2, 55003, 5000)]\n",
    "        \n",
    "    def _process_dataset(self):\n",
    "        self.signals = np.apply_along_axis(lambda x: self._get_row(x), 1, self.data)\n",
    "\n",
    "        \n",
    "    def __getitem__(self, idx):\n",
    "        \"\"\"\n",
    "        Generates one sample of data.\n",
    "        \"\"\"\n",
    "        cut_point = 0 if self.signal_length >= 5000 else np.random.randint(5001 - self.signal_length)\n",
    "        signals = self.values[idx][:, cut_point:cut_point+self.signal_length]\n",
    "        \n",
    "        return signals, self.data[idx][-1]"
   ]
  },
  {
   "cell_type": "code",
   "execution_count": 13,
   "metadata": {},
   "outputs": [],
   "source": [
    "class TestECGDataset(Dataset):\n",
    "    def __init__(self, data, signal_length, train_mean, train_std):\n",
    "        super().__init__()\n",
    "        self.data = data.values\n",
    "        self._process_dataset()\n",
    "        self.signal_length = signal_length\n",
    "        used_data = self.signals\n",
    "        used_data = [np.array(row) for row in used_data.copy()]\n",
    "        used_data = np.array(used_data)\n",
    "        self.values = (used_data - train_mean)/train_std\n",
    "\n",
    "\n",
    "    def __len__(self):\n",
    "        return len(self.values)\n",
    "\n",
    "        \n",
    "    def _get_row(self, row):\n",
    "        return [bandpass_filter(row[i : i + 5000], {}) for i in range(2, 55003, 5000)]\n",
    "        \n",
    "    def _process_dataset(self):\n",
    "        self.signals = np.apply_along_axis(lambda x: self._get_row(x), 1, self.data)\n",
    "\n",
    "        \n",
    "    def __getitem__(self, idx):\n",
    "        \"\"\"\n",
    "        Generates one sample of data.\n",
    "        \"\"\"\n",
    "        cut_point = 0 if self.signal_length >= 5000 else np.random.randint(5001 - self.signal_length)\n",
    "        signals = self.values[idx][:, cut_point:cut_point+self.signal_length]\n",
    "        \n",
    "        return signals, self.data[idx][-1]"
   ]
  },
  {
   "cell_type": "code",
   "execution_count": 14,
   "metadata": {},
   "outputs": [
    {
     "name": "stderr",
     "output_type": "stream",
     "text": [
      "C:\\ProgramData\\Anaconda3\\lib\\site-packages\\scipy\\signal\\_arraytools.py:45: FutureWarning: Using a non-tuple sequence for multidimensional indexing is deprecated; use `arr[tuple(seq)]` instead of `arr[seq]`. In the future this will be interpreted as an array index, `arr[np.array(seq)]`, which will result either in an error or a different result.\n",
      "  b = a[a_slice]\n"
     ]
    }
   ],
   "source": [
    "valid_size = 0.1\n",
    "\n",
    "num_train = len(data)\n",
    "indices = list(range(num_train))\n",
    "split = int(np.floor(valid_size * num_train))\n",
    "\n",
    "np.random.seed(7)\n",
    "np.random.shuffle(indices)\n",
    "\n",
    "train_idx, valid_idx = indices[split:], indices[:split]\n",
    "train_dataset = ECGDataset(data.iloc[train_idx], 3000)\n",
    "valid_dataset = TestECGDataset(data.iloc[valid_idx], 3000, train_dataset.mean, train_dataset.std)"
   ]
  },
  {
   "cell_type": "code",
   "execution_count": 15,
   "metadata": {},
   "outputs": [],
   "source": [
    "batchsize = 32\n",
    "train_loader = torch.utils.data.DataLoader(\n",
    "    train_dataset, batch_size=batchsize, shuffle = True\n",
    ")\n",
    "valid_loader = torch.utils.data.DataLoader(\n",
    "    valid_dataset, batch_size=batchsize, shuffle = False\n",
    ")"
   ]
  },
  {
   "cell_type": "code",
   "execution_count": 16,
   "metadata": {},
   "outputs": [],
   "source": [
    "import torch.nn as nn"
   ]
  },
  {
   "cell_type": "code",
   "execution_count": 18,
   "metadata": {},
   "outputs": [],
   "source": [
    "class CNN1d(nn.Module):\n",
    "    def __init__(self, dropout=0.3):\n",
    "        super(CNN1d, self).__init__()\n",
    "        #[batch size, channels_12, 3000]\n",
    "        \n",
    "        self.layer1 = nn.Sequential(\n",
    "            nn.Conv1d(12, 128, kernel_size=3, padding = 1), \n",
    "            nn.BatchNorm1d(128),\n",
    "            nn.ReLU(), \n",
    "            nn.Conv1d(128, 128, kernel_size=3, padding = 1), \n",
    "            nn.BatchNorm1d(128),\n",
    "            nn.ReLU(),\n",
    "            nn.Conv1d(128, 128, kernel_size=3, padding = 1), \n",
    "            nn.BatchNorm1d(128),\n",
    "            nn.Dropout(dropout)\n",
    "        ) \n",
    "        \n",
    "        self.shortcut1 =  nn.Sequential(\n",
    "            nn.Conv1d(12, 128, kernel_size=1),\n",
    "            nn.BatchNorm1d(128)\n",
    "        )\n",
    "        self.sum_relu1 = nn.ReLU()\n",
    "        \n",
    "        self.layer2 = nn.Sequential(\n",
    "            nn.Conv1d(128, 256, kernel_size=3, padding = 1), \n",
    "            nn.BatchNorm1d(256),\n",
    "            nn.ReLU(), \n",
    "            nn.Conv1d(256, 256, kernel_size=3, padding = 1), \n",
    "            nn.BatchNorm1d(256),\n",
    "            nn.ReLU(),\n",
    "            nn.Conv1d(256, 256, kernel_size=3, padding = 1), \n",
    "            nn.BatchNorm1d(256),\n",
    "            nn.Dropout(dropout)\n",
    "        ) \n",
    "        \n",
    "        self.shortcut2 =  nn.Sequential(\n",
    "            nn.Conv1d(128, 256, kernel_size=1),\n",
    "            nn.BatchNorm1d(256)\n",
    "        )\n",
    "        \n",
    "        self.sum_relu2 = nn.ReLU()\n",
    "        \n",
    "        self.layer3 = nn.Sequential(\n",
    "            nn.Conv1d(256, 256, kernel_size=3, padding = 1), \n",
    "            nn.BatchNorm1d(256),\n",
    "            nn.ReLU(), \n",
    "            nn.Conv1d(256, 256, kernel_size=3, padding = 1), \n",
    "            nn.BatchNorm1d(256),\n",
    "            nn.ReLU(),\n",
    "            nn.Conv1d(256, 256, kernel_size=3, padding = 1), \n",
    "            nn.BatchNorm1d(256),\n",
    "            nn.Dropout(dropout)\n",
    "        ) \n",
    "        \n",
    "        self.shortcut3 =  nn.Sequential(\n",
    "            nn.BatchNorm1d(256)\n",
    "        )\n",
    "        self.sum_relu3 = nn.ReLU()\n",
    "        \n",
    "        self.time_avg = nn.AvgPool1d(3000)\n",
    "       \n",
    "        self.fc = nn.Linear(256, 4)\n",
    "        self.sm = nn.Softmax(dim = 1)\n",
    "        \n",
    "    def forward(self, x):\n",
    "        identity = x\n",
    "        \n",
    "        out = self.layer1(identity)\n",
    "        short = self.shortcut1(identity)\n",
    "        out += short\n",
    "        identity = self.sum_relu1(out)\n",
    "        \n",
    "        \n",
    "        out = self.layer2(identity)\n",
    "        short = self.shortcut2(identity)\n",
    "        out += short\n",
    "        identity = self.sum_relu2(out)\n",
    "        \n",
    "        out = self.layer3(identity)\n",
    "        short = self.shortcut3(identity)\n",
    "        out += short\n",
    "        identity = self.sum_relu3(out)\n",
    "        \n",
    "        out = self.time_avg(identity)\n",
    "        out = out.squeeze(2)\n",
    "        \n",
    "        out = self.fc(out)\n",
    "        out = self.sm(out)\n",
    "        return out"
   ]
  },
  {
   "cell_type": "code",
   "execution_count": 22,
   "metadata": {},
   "outputs": [],
   "source": [
    "device = torch.device('cuda:0' if torch.cuda.is_available() else 'cpu')"
   ]
  },
  {
   "cell_type": "code",
   "execution_count": 23,
   "metadata": {},
   "outputs": [],
   "source": [
    "model = CNN1d().to(device)"
   ]
  },
  {
   "cell_type": "code",
   "execution_count": 24,
   "metadata": {},
   "outputs": [],
   "source": [
    "import torch.nn as nn\n",
    "from torch import optim\n",
    "import torch.nn.functional as F"
   ]
  },
  {
   "cell_type": "code",
   "execution_count": 25,
   "metadata": {},
   "outputs": [],
   "source": [
    "weigths = torch.tensor([sum(data.axis_id==2)/sum(data.axis_id==0),sum(data.axis_id==2)/sum(data.axis_id==1),sum(data.axis_id==2)/sum(data.axis_id==2),sum(data.axis_id==2)/sum(data.axis_id==3)]).to(device)"
   ]
  },
  {
   "cell_type": "code",
   "execution_count": 26,
   "metadata": {},
   "outputs": [],
   "source": [
    "optimizer = optim.Adam(model.parameters(), lr = 0.01)\n",
    "criterion = nn.CrossEntropyLoss(weigths)"
   ]
  },
  {
   "cell_type": "code",
   "execution_count": 27,
   "metadata": {},
   "outputs": [],
   "source": [
    "def validate(model, loader):\n",
    "    model.eval()\n",
    "    val_length = 0\n",
    "    correct_answers = 0\n",
    "    for i, (ecg, label_idx) in enumerate(loader):\n",
    "\n",
    "        src = ecg.to(device).float()\n",
    "        trg = label_idx.to(device).long()\n",
    "\n",
    "        output = model(src)\n",
    "        \n",
    "        answer = output.argmax(dim = 1).long()\n",
    "        res = answer == trg \n",
    "        \n",
    "        val_length += len(answer)\n",
    "        correct_answers += res.sum().float()\n",
    "    return correct_answers/val_length\n",
    "        "
   ]
  },
  {
   "cell_type": "code",
   "execution_count": 28,
   "metadata": {},
   "outputs": [
    {
     "data": {
      "text/plain": [
       "tensor(0.1692, device='cuda:0')"
      ]
     },
     "execution_count": 28,
     "metadata": {},
     "output_type": "execute_result"
    }
   ],
   "source": [
    "validate(model, valid_loader)"
   ]
  },
  {
   "cell_type": "code",
   "execution_count": 29,
   "metadata": {},
   "outputs": [],
   "source": [
    "def train(model, n_epoch, optimizer, criterion, print_every = 100, valid_every=10):\n",
    "    model.train()\n",
    "    total_step = len(train_loader)\n",
    "    history = []\n",
    "    for epoch in range(n_epoch):\n",
    "        epoch_loss = 0\n",
    "        \n",
    "\n",
    "        for i, (ecg, label_idx) in enumerate(train_loader):\n",
    "            \n",
    "            src = ecg.to(device).float()\n",
    "            trg = label_idx.to(device).long()\n",
    "\n",
    "            optimizer.zero_grad()\n",
    "\n",
    "            output = model(src)\n",
    "\n",
    "            loss = criterion(output, trg )\n",
    "            if (torch.isnan(loss).item()  == 1):\n",
    "                print(\"NAN loss\")\n",
    "                print(src)\n",
    "                print(trg)\n",
    "                return\n",
    "\n",
    "            loss.backward()\n",
    "            optimizer.step()\n",
    "            \n",
    "            if ((epoch+1) % valid_every == 0) and ((i+1) % print_every == 0):\n",
    "                print ('Epoch [{}/{}], Step [{}/{}], Loss: {:.4f}' \n",
    "                   .format(epoch+1, n_epoch, i+1, total_step, loss.item()))\n",
    "        \n",
    "        if ((epoch+1) % valid_every == 0):\n",
    "            train_accuracy = validate(model, train_loader).item()\n",
    "            valid_accuracy = validate(model, valid_loader).item()\n",
    "            history.append([train_accuracy, valid_accuracy])\n",
    "            print ('Epoch [{}/{}], Accuracy: {:.4f} / {:.4f}' \n",
    "                   .format(epoch+1, n_epoch, train_accuracy, valid_accuracy))\n",
    "            print()\n",
    "            model.train()\n",
    "    return history\n",
    "        \n",
    "                "
   ]
  },
  {
   "cell_type": "code",
   "execution_count": 30,
   "metadata": {},
   "outputs": [
    {
     "name": "stdout",
     "output_type": "stream",
     "text": [
      "Epoch [10/1000], Step [9/19], Loss: 0.9300\n",
      "Epoch [10/1000], Step [18/19], Loss: 1.0563\n",
      "Epoch [10/1000], Accuracy: 0.6330 / 0.6154\n",
      "\n",
      "Epoch [20/1000], Step [9/19], Loss: 0.9131\n",
      "Epoch [20/1000], Step [18/19], Loss: 1.0690\n",
      "Epoch [20/1000], Accuracy: 0.7290 / 0.6000\n",
      "\n",
      "Epoch [30/1000], Step [9/19], Loss: 0.8933\n",
      "Epoch [30/1000], Step [18/19], Loss: 1.0009\n",
      "Epoch [30/1000], Accuracy: 0.7576 / 0.7077\n",
      "\n",
      "Epoch [40/1000], Step [9/19], Loss: 0.9712\n",
      "Epoch [40/1000], Step [18/19], Loss: 1.0373\n",
      "Epoch [40/1000], Accuracy: 0.6768 / 0.6154\n",
      "\n",
      "Epoch [50/1000], Step [9/19], Loss: 0.8649\n",
      "Epoch [50/1000], Step [18/19], Loss: 0.9692\n",
      "Epoch [50/1000], Accuracy: 0.7997 / 0.7077\n",
      "\n",
      "Epoch [60/1000], Step [9/19], Loss: 0.9384\n",
      "Epoch [60/1000], Step [18/19], Loss: 0.9188\n",
      "Epoch [60/1000], Accuracy: 0.7862 / 0.6769\n",
      "\n",
      "Epoch [70/1000], Step [9/19], Loss: 0.8938\n",
      "Epoch [70/1000], Step [18/19], Loss: 0.8748\n",
      "Epoch [70/1000], Accuracy: 0.7458 / 0.6615\n",
      "\n",
      "Epoch [80/1000], Step [9/19], Loss: 0.9267\n",
      "Epoch [80/1000], Step [18/19], Loss: 0.9085\n",
      "Epoch [80/1000], Accuracy: 0.7694 / 0.6462\n",
      "\n",
      "Epoch [90/1000], Step [9/19], Loss: 0.9754\n",
      "Epoch [90/1000], Step [18/19], Loss: 0.9404\n",
      "Epoch [90/1000], Accuracy: 0.8098 / 0.7077\n",
      "\n",
      "Epoch [100/1000], Step [9/19], Loss: 0.9746\n",
      "Epoch [100/1000], Step [18/19], Loss: 0.8701\n",
      "Epoch [100/1000], Accuracy: 0.8249 / 0.6923\n",
      "\n",
      "Epoch [110/1000], Step [9/19], Loss: 0.9810\n",
      "Epoch [110/1000], Step [18/19], Loss: 1.0202\n",
      "Epoch [110/1000], Accuracy: 0.8148 / 0.6923\n",
      "\n",
      "Epoch [120/1000], Step [9/19], Loss: 0.8730\n",
      "Epoch [120/1000], Step [18/19], Loss: 0.8654\n",
      "Epoch [120/1000], Accuracy: 0.8064 / 0.6769\n",
      "\n",
      "Epoch [130/1000], Step [9/19], Loss: 0.7955\n",
      "Epoch [130/1000], Step [18/19], Loss: 0.7889\n",
      "Epoch [130/1000], Accuracy: 0.8653 / 0.7385\n",
      "\n",
      "Epoch [140/1000], Step [9/19], Loss: 0.8040\n",
      "Epoch [140/1000], Step [18/19], Loss: 0.8173\n",
      "Epoch [140/1000], Accuracy: 0.8300 / 0.6308\n",
      "\n",
      "Epoch [150/1000], Step [9/19], Loss: 0.9720\n",
      "Epoch [150/1000], Step [18/19], Loss: 0.8775\n",
      "Epoch [150/1000], Accuracy: 0.8502 / 0.7077\n",
      "\n",
      "Epoch [160/1000], Step [9/19], Loss: 0.8397\n",
      "Epoch [160/1000], Step [18/19], Loss: 0.8354\n",
      "Epoch [160/1000], Accuracy: 0.8266 / 0.6308\n",
      "\n",
      "Epoch [170/1000], Step [9/19], Loss: 0.8395\n",
      "Epoch [170/1000], Step [18/19], Loss: 0.8718\n",
      "Epoch [170/1000], Accuracy: 0.8451 / 0.6615\n",
      "\n",
      "Epoch [180/1000], Step [9/19], Loss: 0.9194\n",
      "Epoch [180/1000], Step [18/19], Loss: 0.8012\n",
      "Epoch [180/1000], Accuracy: 0.8653 / 0.7231\n",
      "\n",
      "Epoch [190/1000], Step [9/19], Loss: 0.8402\n",
      "Epoch [190/1000], Step [18/19], Loss: 0.8156\n",
      "Epoch [190/1000], Accuracy: 0.8620 / 0.6462\n",
      "\n",
      "Epoch [200/1000], Step [9/19], Loss: 0.8222\n",
      "Epoch [200/1000], Step [18/19], Loss: 0.8451\n",
      "Epoch [200/1000], Accuracy: 0.8838 / 0.6154\n",
      "\n",
      "Epoch [210/1000], Step [9/19], Loss: 0.8575\n",
      "Epoch [210/1000], Step [18/19], Loss: 0.8481\n",
      "Epoch [210/1000], Accuracy: 0.8939 / 0.6769\n",
      "\n",
      "Epoch [220/1000], Step [9/19], Loss: 0.9627\n",
      "Epoch [220/1000], Step [18/19], Loss: 0.8408\n",
      "Epoch [220/1000], Accuracy: 0.8838 / 0.7231\n",
      "\n",
      "Epoch [230/1000], Step [9/19], Loss: 0.9053\n",
      "Epoch [230/1000], Step [18/19], Loss: 0.8871\n",
      "Epoch [230/1000], Accuracy: 0.9007 / 0.7077\n",
      "\n",
      "Epoch [240/1000], Step [9/19], Loss: 0.8020\n",
      "Epoch [240/1000], Step [18/19], Loss: 0.7878\n",
      "Epoch [240/1000], Accuracy: 0.8939 / 0.7231\n",
      "\n",
      "Epoch [250/1000], Step [9/19], Loss: 0.8604\n",
      "Epoch [250/1000], Step [18/19], Loss: 0.8189\n",
      "Epoch [250/1000], Accuracy: 0.8771 / 0.7077\n",
      "\n",
      "Epoch [260/1000], Step [9/19], Loss: 0.8970\n",
      "Epoch [260/1000], Step [18/19], Loss: 0.8766\n",
      "Epoch [260/1000], Accuracy: 0.8939 / 0.6615\n",
      "\n",
      "Epoch [270/1000], Step [9/19], Loss: 0.8639\n",
      "Epoch [270/1000], Step [18/19], Loss: 0.7944\n",
      "Epoch [270/1000], Accuracy: 0.8956 / 0.6923\n",
      "\n",
      "Epoch [280/1000], Step [9/19], Loss: 0.9233\n",
      "Epoch [280/1000], Step [18/19], Loss: 0.8370\n",
      "Epoch [280/1000], Accuracy: 0.8906 / 0.6923\n",
      "\n",
      "Epoch [290/1000], Step [9/19], Loss: 0.8197\n",
      "Epoch [290/1000], Step [18/19], Loss: 0.8566\n",
      "Epoch [290/1000], Accuracy: 0.8721 / 0.7385\n",
      "\n",
      "Epoch [300/1000], Step [9/19], Loss: 0.8810\n",
      "Epoch [300/1000], Step [18/19], Loss: 0.8489\n",
      "Epoch [300/1000], Accuracy: 0.9293 / 0.7385\n",
      "\n",
      "Epoch [310/1000], Step [9/19], Loss: 0.8609\n",
      "Epoch [310/1000], Step [18/19], Loss: 0.8178\n",
      "Epoch [310/1000], Accuracy: 0.9024 / 0.7077\n",
      "\n",
      "Epoch [320/1000], Step [9/19], Loss: 0.7760\n",
      "Epoch [320/1000], Step [18/19], Loss: 0.8716\n",
      "Epoch [320/1000], Accuracy: 0.9226 / 0.7385\n",
      "\n",
      "Epoch [330/1000], Step [9/19], Loss: 0.9144\n",
      "Epoch [330/1000], Step [18/19], Loss: 0.9246\n",
      "Epoch [330/1000], Accuracy: 0.8838 / 0.6923\n",
      "\n",
      "Epoch [340/1000], Step [9/19], Loss: 0.8418\n",
      "Epoch [340/1000], Step [18/19], Loss: 0.8390\n",
      "Epoch [340/1000], Accuracy: 0.9007 / 0.6154\n",
      "\n",
      "Epoch [350/1000], Step [9/19], Loss: 0.8110\n",
      "Epoch [350/1000], Step [18/19], Loss: 0.8447\n",
      "Epoch [350/1000], Accuracy: 0.9259 / 0.6923\n",
      "\n",
      "Epoch [360/1000], Step [9/19], Loss: 0.7450\n",
      "Epoch [360/1000], Step [18/19], Loss: 0.9000\n",
      "Epoch [360/1000], Accuracy: 0.9242 / 0.7231\n",
      "\n",
      "Epoch [370/1000], Step [9/19], Loss: 0.7755\n",
      "Epoch [370/1000], Step [18/19], Loss: 0.7899\n",
      "Epoch [370/1000], Accuracy: 0.9040 / 0.6615\n",
      "\n",
      "Epoch [380/1000], Step [9/19], Loss: 0.8422\n",
      "Epoch [380/1000], Step [18/19], Loss: 0.8391\n",
      "Epoch [380/1000], Accuracy: 0.9327 / 0.7077\n",
      "\n",
      "Epoch [390/1000], Step [9/19], Loss: 0.7633\n",
      "Epoch [390/1000], Step [18/19], Loss: 0.7837\n",
      "Epoch [390/1000], Accuracy: 0.9259 / 0.6769\n",
      "\n",
      "Epoch [400/1000], Step [9/19], Loss: 0.8754\n",
      "Epoch [400/1000], Step [18/19], Loss: 0.9170\n",
      "Epoch [400/1000], Accuracy: 0.9209 / 0.6462\n",
      "\n",
      "Epoch [410/1000], Step [9/19], Loss: 0.8053\n",
      "Epoch [410/1000], Step [18/19], Loss: 0.7675\n",
      "Epoch [410/1000], Accuracy: 0.9175 / 0.6615\n",
      "\n",
      "Epoch [420/1000], Step [9/19], Loss: 0.7775\n",
      "Epoch [420/1000], Step [18/19], Loss: 0.8209\n",
      "Epoch [420/1000], Accuracy: 0.9226 / 0.6923\n",
      "\n",
      "Epoch [430/1000], Step [9/19], Loss: 0.8121\n",
      "Epoch [430/1000], Step [18/19], Loss: 0.7940\n",
      "Epoch [430/1000], Accuracy: 0.9158 / 0.7077\n",
      "\n",
      "Epoch [440/1000], Step [9/19], Loss: 0.7714\n",
      "Epoch [440/1000], Step [18/19], Loss: 0.8169\n",
      "Epoch [440/1000], Accuracy: 0.9293 / 0.7077\n",
      "\n",
      "Epoch [450/1000], Step [9/19], Loss: 0.7897\n",
      "Epoch [450/1000], Step [18/19], Loss: 0.8130\n",
      "Epoch [450/1000], Accuracy: 0.9259 / 0.6462\n",
      "\n",
      "Epoch [460/1000], Step [9/19], Loss: 0.8493\n",
      "Epoch [460/1000], Step [18/19], Loss: 0.7930\n",
      "Epoch [460/1000], Accuracy: 0.9108 / 0.6308\n",
      "\n",
      "Epoch [470/1000], Step [9/19], Loss: 0.7933\n",
      "Epoch [470/1000], Step [18/19], Loss: 0.8769\n",
      "Epoch [470/1000], Accuracy: 0.9377 / 0.6615\n",
      "\n",
      "Epoch [480/1000], Step [9/19], Loss: 0.8300\n",
      "Epoch [480/1000], Step [18/19], Loss: 0.9083\n",
      "Epoch [480/1000], Accuracy: 0.9343 / 0.7077\n",
      "\n",
      "Epoch [490/1000], Step [9/19], Loss: 0.7836\n",
      "Epoch [490/1000], Step [18/19], Loss: 0.7619\n",
      "Epoch [490/1000], Accuracy: 0.9394 / 0.7231\n",
      "\n",
      "Epoch [500/1000], Step [9/19], Loss: 0.7670\n",
      "Epoch [500/1000], Step [18/19], Loss: 0.8235\n",
      "Epoch [500/1000], Accuracy: 0.9411 / 0.6615\n",
      "\n",
      "Epoch [510/1000], Step [9/19], Loss: 0.8401\n",
      "Epoch [510/1000], Step [18/19], Loss: 0.7843\n",
      "Epoch [510/1000], Accuracy: 0.9377 / 0.6923\n",
      "\n",
      "Epoch [520/1000], Step [9/19], Loss: 0.8122\n",
      "Epoch [520/1000], Step [18/19], Loss: 0.7658\n",
      "Epoch [520/1000], Accuracy: 0.9377 / 0.6615\n",
      "\n",
      "Epoch [530/1000], Step [9/19], Loss: 0.8715\n",
      "Epoch [530/1000], Step [18/19], Loss: 0.8325\n",
      "Epoch [530/1000], Accuracy: 0.9394 / 0.6615\n",
      "\n",
      "Epoch [540/1000], Step [9/19], Loss: 0.7688\n",
      "Epoch [540/1000], Step [18/19], Loss: 0.7479\n",
      "Epoch [540/1000], Accuracy: 0.9428 / 0.6923\n",
      "\n",
      "Epoch [550/1000], Step [9/19], Loss: 0.8590\n",
      "Epoch [550/1000], Step [18/19], Loss: 0.8559\n",
      "Epoch [550/1000], Accuracy: 0.9310 / 0.6308\n",
      "\n",
      "Epoch [560/1000], Step [9/19], Loss: 0.7442\n",
      "Epoch [560/1000], Step [18/19], Loss: 0.7613\n",
      "Epoch [560/1000], Accuracy: 0.9411 / 0.6615\n",
      "\n",
      "Epoch [570/1000], Step [9/19], Loss: 0.7666\n",
      "Epoch [570/1000], Step [18/19], Loss: 0.8118\n",
      "Epoch [570/1000], Accuracy: 0.9226 / 0.6000\n",
      "\n",
      "Epoch [580/1000], Step [9/19], Loss: 0.7764\n",
      "Epoch [580/1000], Step [18/19], Loss: 0.8873\n",
      "Epoch [580/1000], Accuracy: 0.9394 / 0.6308\n",
      "\n",
      "Epoch [590/1000], Step [9/19], Loss: 0.7595\n",
      "Epoch [590/1000], Step [18/19], Loss: 0.7692\n",
      "Epoch [590/1000], Accuracy: 0.9360 / 0.6154\n",
      "\n",
      "Epoch [600/1000], Step [9/19], Loss: 0.7644\n",
      "Epoch [600/1000], Step [18/19], Loss: 0.8553\n",
      "Epoch [600/1000], Accuracy: 0.9394 / 0.6000\n",
      "\n",
      "Epoch [610/1000], Step [9/19], Loss: 0.7722\n",
      "Epoch [610/1000], Step [18/19], Loss: 0.7636\n",
      "Epoch [610/1000], Accuracy: 0.9461 / 0.6615\n",
      "\n",
      "Epoch [620/1000], Step [9/19], Loss: 0.8374\n",
      "Epoch [620/1000], Step [18/19], Loss: 0.8281\n",
      "Epoch [620/1000], Accuracy: 0.9158 / 0.5692\n",
      "\n",
      "Epoch [630/1000], Step [9/19], Loss: 0.7937\n",
      "Epoch [630/1000], Step [18/19], Loss: 0.8210\n",
      "Epoch [630/1000], Accuracy: 0.9444 / 0.6462\n",
      "\n",
      "Epoch [640/1000], Step [9/19], Loss: 0.8670\n",
      "Epoch [640/1000], Step [18/19], Loss: 0.8136\n",
      "Epoch [640/1000], Accuracy: 0.9209 / 0.6462\n",
      "\n",
      "Epoch [650/1000], Step [9/19], Loss: 0.7875\n",
      "Epoch [650/1000], Step [18/19], Loss: 0.7536\n",
      "Epoch [650/1000], Accuracy: 0.9495 / 0.5846\n",
      "\n",
      "Epoch [660/1000], Step [9/19], Loss: 0.8350\n",
      "Epoch [660/1000], Step [18/19], Loss: 0.7449\n",
      "Epoch [660/1000], Accuracy: 0.9394 / 0.6923\n",
      "\n",
      "Epoch [670/1000], Step [9/19], Loss: 0.8635\n",
      "Epoch [670/1000], Step [18/19], Loss: 0.8216\n",
      "Epoch [670/1000], Accuracy: 0.9310 / 0.6615\n",
      "\n",
      "Epoch [680/1000], Step [9/19], Loss: 0.7671\n",
      "Epoch [680/1000], Step [18/19], Loss: 0.7785\n",
      "Epoch [680/1000], Accuracy: 0.9360 / 0.6769\n",
      "\n",
      "Epoch [690/1000], Step [9/19], Loss: 0.7449\n",
      "Epoch [690/1000], Step [18/19], Loss: 0.7865\n",
      "Epoch [690/1000], Accuracy: 0.9428 / 0.6769\n",
      "\n",
      "Epoch [700/1000], Step [9/19], Loss: 0.7919\n",
      "Epoch [700/1000], Step [18/19], Loss: 0.8340\n",
      "Epoch [700/1000], Accuracy: 0.9411 / 0.6000\n",
      "\n",
      "Epoch [710/1000], Step [9/19], Loss: 0.8041\n",
      "Epoch [710/1000], Step [18/19], Loss: 0.7682\n",
      "Epoch [710/1000], Accuracy: 0.9495 / 0.6615\n",
      "\n",
      "Epoch [720/1000], Step [9/19], Loss: 0.8470\n",
      "Epoch [720/1000], Step [18/19], Loss: 0.9075\n",
      "Epoch [720/1000], Accuracy: 0.9512 / 0.6462\n",
      "\n",
      "Epoch [730/1000], Step [9/19], Loss: 0.8093\n",
      "Epoch [730/1000], Step [18/19], Loss: 0.8143\n",
      "Epoch [730/1000], Accuracy: 0.9428 / 0.6769\n",
      "\n",
      "Epoch [740/1000], Step [9/19], Loss: 0.7464\n",
      "Epoch [740/1000], Step [18/19], Loss: 0.7771\n",
      "Epoch [740/1000], Accuracy: 0.9579 / 0.6923\n",
      "\n",
      "Epoch [750/1000], Step [9/19], Loss: 0.7697\n",
      "Epoch [750/1000], Step [18/19], Loss: 0.7638\n",
      "Epoch [750/1000], Accuracy: 0.9411 / 0.6769\n",
      "\n",
      "Epoch [760/1000], Step [9/19], Loss: 0.7862\n",
      "Epoch [760/1000], Step [18/19], Loss: 0.8063\n",
      "Epoch [760/1000], Accuracy: 0.9529 / 0.6462\n",
      "\n",
      "Epoch [770/1000], Step [9/19], Loss: 0.7847\n",
      "Epoch [770/1000], Step [18/19], Loss: 0.7712\n",
      "Epoch [770/1000], Accuracy: 0.9495 / 0.7077\n",
      "\n",
      "Epoch [780/1000], Step [9/19], Loss: 0.8145\n",
      "Epoch [780/1000], Step [18/19], Loss: 0.7445\n",
      "Epoch [780/1000], Accuracy: 0.9428 / 0.6154\n",
      "\n",
      "Epoch [790/1000], Step [9/19], Loss: 0.8112\n",
      "Epoch [790/1000], Step [18/19], Loss: 0.7438\n",
      "Epoch [790/1000], Accuracy: 0.9562 / 0.6462\n",
      "\n",
      "Epoch [800/1000], Step [9/19], Loss: 0.8343\n",
      "Epoch [800/1000], Step [18/19], Loss: 0.8047\n",
      "Epoch [800/1000], Accuracy: 0.9545 / 0.6308\n",
      "\n",
      "Epoch [810/1000], Step [9/19], Loss: 0.8259\n",
      "Epoch [810/1000], Step [18/19], Loss: 0.8936\n",
      "Epoch [810/1000], Accuracy: 0.9596 / 0.6923\n",
      "\n",
      "Epoch [820/1000], Step [9/19], Loss: 0.8278\n",
      "Epoch [820/1000], Step [18/19], Loss: 0.7657\n",
      "Epoch [820/1000], Accuracy: 0.9360 / 0.6000\n",
      "\n",
      "Epoch [830/1000], Step [9/19], Loss: 0.8013\n",
      "Epoch [830/1000], Step [18/19], Loss: 0.7804\n",
      "Epoch [830/1000], Accuracy: 0.9529 / 0.6769\n",
      "\n",
      "Epoch [840/1000], Step [9/19], Loss: 0.7927\n",
      "Epoch [840/1000], Step [18/19], Loss: 0.7438\n",
      "Epoch [840/1000], Accuracy: 0.9596 / 0.7077\n",
      "\n",
      "Epoch [850/1000], Step [9/19], Loss: 0.7440\n",
      "Epoch [850/1000], Step [18/19], Loss: 0.7826\n",
      "Epoch [850/1000], Accuracy: 0.9613 / 0.6154\n",
      "\n",
      "Epoch [860/1000], Step [9/19], Loss: 0.7893\n",
      "Epoch [860/1000], Step [18/19], Loss: 0.7437\n",
      "Epoch [860/1000], Accuracy: 0.9613 / 0.6154\n",
      "\n",
      "Epoch [870/1000], Step [9/19], Loss: 0.7629\n",
      "Epoch [870/1000], Step [18/19], Loss: 0.7437\n",
      "Epoch [870/1000], Accuracy: 0.9646 / 0.6308\n",
      "\n",
      "Epoch [880/1000], Step [9/19], Loss: 0.8407\n",
      "Epoch [880/1000], Step [18/19], Loss: 0.7766\n",
      "Epoch [880/1000], Accuracy: 0.9428 / 0.6462\n",
      "\n",
      "Epoch [890/1000], Step [9/19], Loss: 0.9830\n",
      "Epoch [890/1000], Step [18/19], Loss: 0.7672\n",
      "Epoch [890/1000], Accuracy: 0.9125 / 0.5846\n",
      "\n",
      "Epoch [900/1000], Step [9/19], Loss: 0.7693\n",
      "Epoch [900/1000], Step [18/19], Loss: 0.8021\n",
      "Epoch [900/1000], Accuracy: 0.9461 / 0.6154\n",
      "\n",
      "Epoch [910/1000], Step [9/19], Loss: 0.8203\n",
      "Epoch [910/1000], Step [18/19], Loss: 0.7591\n",
      "Epoch [910/1000], Accuracy: 0.9630 / 0.6462\n",
      "\n",
      "Epoch [920/1000], Step [9/19], Loss: 0.7886\n",
      "Epoch [920/1000], Step [18/19], Loss: 0.7878\n",
      "Epoch [920/1000], Accuracy: 0.9630 / 0.6769\n",
      "\n",
      "Epoch [930/1000], Step [9/19], Loss: 0.7708\n",
      "Epoch [930/1000], Step [18/19], Loss: 0.7632\n",
      "Epoch [930/1000], Accuracy: 0.9663 / 0.6462\n",
      "\n",
      "Epoch [940/1000], Step [9/19], Loss: 0.7437\n",
      "Epoch [940/1000], Step [18/19], Loss: 0.7917\n",
      "Epoch [940/1000], Accuracy: 0.9646 / 0.6308\n",
      "\n",
      "Epoch [950/1000], Step [9/19], Loss: 0.8315\n",
      "Epoch [950/1000], Step [18/19], Loss: 0.7695\n",
      "Epoch [950/1000], Accuracy: 0.9613 / 0.6615\n",
      "\n",
      "Epoch [960/1000], Step [9/19], Loss: 0.8765\n",
      "Epoch [960/1000], Step [18/19], Loss: 0.7680\n",
      "Epoch [960/1000], Accuracy: 0.9613 / 0.5692\n",
      "\n",
      "Epoch [970/1000], Step [9/19], Loss: 0.7638\n",
      "Epoch [970/1000], Step [18/19], Loss: 0.8050\n",
      "Epoch [970/1000], Accuracy: 0.9630 / 0.6615\n",
      "\n",
      "Epoch [980/1000], Step [9/19], Loss: 0.8118\n",
      "Epoch [980/1000], Step [18/19], Loss: 0.7629\n",
      "Epoch [980/1000], Accuracy: 0.9630 / 0.6462\n",
      "\n",
      "Epoch [990/1000], Step [9/19], Loss: 0.7605\n",
      "Epoch [990/1000], Step [18/19], Loss: 0.7444\n",
      "Epoch [990/1000], Accuracy: 0.9596 / 0.6615\n",
      "\n",
      "Epoch [1000/1000], Step [9/19], Loss: 0.8135\n",
      "Epoch [1000/1000], Step [18/19], Loss: 0.7899\n",
      "Epoch [1000/1000], Accuracy: 0.9461 / 0.6769\n",
      "\n"
     ]
    }
   ],
   "source": [
    "history = train(model, 1000, optimizer, criterion, 9, 10)"
   ]
  },
  {
   "cell_type": "code",
   "execution_count": 31,
   "metadata": {},
   "outputs": [
    {
     "data": {
      "text/plain": [
       "7"
      ]
     },
     "execution_count": 31,
     "metadata": {},
     "output_type": "execute_result"
    }
   ],
   "source": [
    "import gc\n",
    "gc.collect()"
   ]
  },
  {
   "cell_type": "code",
   "execution_count": 32,
   "metadata": {},
   "outputs": [],
   "source": [
    "torch.cuda.empty_cache()"
   ]
  },
  {
   "cell_type": "code",
   "execution_count": 33,
   "metadata": {},
   "outputs": [
    {
     "data": {
      "text/plain": [
       "0.6769230961799622"
      ]
     },
     "execution_count": 33,
     "metadata": {},
     "output_type": "execute_result"
    }
   ],
   "source": [
    "validate(model, valid_loader).item()"
   ]
  },
  {
   "cell_type": "code",
   "execution_count": 34,
   "metadata": {},
   "outputs": [],
   "source": [
    "import seaborn as sn"
   ]
  },
  {
   "cell_type": "code",
   "execution_count": 35,
   "metadata": {},
   "outputs": [],
   "source": [
    "def get_preds_and_true(model, loader, dataset):\n",
    "    y_pred = np.zeros((len(dataset),))\n",
    "    y_true = np.zeros((len(dataset),))\n",
    "    offset = 0\n",
    "    for i, (ecg,  label_idx) in enumerate(loader):\n",
    "\n",
    "        src = ecg.to(device).float()\n",
    "        trg = label_idx.to(device).long()\n",
    "\n",
    "        output = model(src)\n",
    "        \n",
    "        answer = output.argmax(dim = 1).long()\n",
    "        l = len(answer)\n",
    "\n",
    "        y_pred[offset:offset+l] = answer.cpu().numpy()\n",
    "        y_true[offset:offset+l] = trg.cpu().numpy()\n",
    "\n",
    "        offset = offset + l\n",
    "        \n",
    "    return y_pred, y_true"
   ]
  },
  {
   "cell_type": "code",
   "execution_count": 36,
   "metadata": {},
   "outputs": [],
   "source": [
    "batchsize = 32\n",
    "train_loader = torch.utils.data.DataLoader(\n",
    "    train_dataset, batch_size=batchsize, shuffle = True\n",
    ")\n",
    "valid_loader = torch.utils.data.DataLoader(\n",
    "    valid_dataset, batch_size=batchsize, shuffle = False\n",
    ")"
   ]
  },
  {
   "cell_type": "code",
   "execution_count": 37,
   "metadata": {},
   "outputs": [
    {
     "data": {
      "text/plain": [
       "(array([2., 2., 3., 3., 0., 3., 2., 3., 3., 2., 0., 2., 2., 0., 3., 3., 3.,\n",
       "        0., 0., 3., 1., 2., 3., 2., 2., 3., 0., 3., 3., 3., 2., 3., 3., 3.,\n",
       "        2., 0., 3., 1., 1., 3., 1., 1., 2., 2., 3., 1., 3., 2., 2., 1., 3.,\n",
       "        1., 3., 2., 0., 3., 3., 3., 1., 2., 3., 0., 1., 2., 1.]),\n",
       " array([2., 2., 3., 3., 0., 3., 1., 3., 3., 2., 2., 2., 0., 0., 3., 3., 3.,\n",
       "        0., 2., 3., 2., 2., 3., 3., 3., 3., 2., 3., 3., 3., 2., 3., 1., 3.,\n",
       "        3., 2., 0., 3., 1., 3., 2., 1., 1., 1., 1., 1., 3., 2., 2., 1., 3.,\n",
       "        2., 3., 2., 0., 1., 3., 3., 2., 2., 3., 1., 2., 2., 3.]))"
      ]
     },
     "execution_count": 37,
     "metadata": {},
     "output_type": "execute_result"
    }
   ],
   "source": [
    "get_preds_and_true(model, valid_loader, valid_dataset)"
   ]
  },
  {
   "cell_type": "code",
   "execution_count": 38,
   "metadata": {},
   "outputs": [],
   "source": [
    "import gc"
   ]
  },
  {
   "cell_type": "code",
   "execution_count": 39,
   "metadata": {},
   "outputs": [
    {
     "data": {
      "text/plain": [
       "0"
      ]
     },
     "execution_count": 39,
     "metadata": {},
     "output_type": "execute_result"
    }
   ],
   "source": [
    "gc.collect()"
   ]
  },
  {
   "cell_type": "code",
   "execution_count": 40,
   "metadata": {},
   "outputs": [],
   "source": [
    "torch.cuda.empty_cache()"
   ]
  },
  {
   "cell_type": "code",
   "execution_count": 41,
   "metadata": {},
   "outputs": [],
   "source": [
    "from sklearn.metrics import confusion_matrix"
   ]
  },
  {
   "cell_type": "code",
   "execution_count": 42,
   "metadata": {},
   "outputs": [],
   "source": [
    "def plot_confusion_matrix( y_test_predict, y_test):\n",
    "    sn.heatmap(confusion_matrix(y_test, y_test_predict), annot=True)\n",
    "   "
   ]
  },
  {
   "cell_type": "code",
   "execution_count": 325,
   "metadata": {},
   "outputs": [
    {
     "data": {
      "text/plain": [
       "0.6923076923076923"
      ]
     },
     "execution_count": 325,
     "metadata": {},
     "output_type": "execute_result"
    }
   ],
   "source": [
    "y_pred, y_true = get_preds_and_true(model, valid_loader, valid_dataset)\n",
    "np.sum(y_pred==y_true)/len(y_pred)"
   ]
  },
  {
   "cell_type": "code",
   "execution_count": 279,
   "metadata": {},
   "outputs": [
    {
     "data": {
      "image/png": "[encoded data removed]",
      "text/plain": [
       "<Figure size 432x288 with 2 Axes>"
      ]
     },
     "metadata": {
      "needs_background": "light"
     },
     "output_type": "display_data"
    }
   ],
   "source": [
    "plot_confusion_matrix(y_pred, y_true)"
   ]
  },
  {
   "cell_type": "code",
   "execution_count": 280,
   "metadata": {},
   "outputs": [
    {
     "data": {
      "text/plain": [
       "array([ 6, 42, 43])"
      ]
     },
     "execution_count": 280,
     "metadata": {},
     "output_type": "execute_result"
    }
   ],
   "source": [
    "np.array(range(len(valid_dataset)))[np.logical_and((y_true == 1),(y_pred==2))]"
   ]
  },
  {
   "cell_type": "code",
   "execution_count": 281,
   "metadata": {},
   "outputs": [
    {
     "data": {
      "text/plain": [
       "(3000, 12)"
      ]
     },
     "execution_count": 281,
     "metadata": {},
     "output_type": "execute_result"
    }
   ],
   "source": [
    "valid_dataset[38][0].transpose().shape"
   ]
  },
  {
   "cell_type": "code",
   "execution_count": 282,
   "metadata": {},
   "outputs": [],
   "source": [
    "leds = ['i', 'ii', 'iii', 'avr', 'avl', 'avf', 'v1', 'v2', 'v3', 'v4', 'v5',\n",
    "       'v6']"
   ]
  },
  {
   "cell_type": "code",
   "execution_count": 283,
   "metadata": {},
   "outputs": [
    {
     "data": {
      "text/plain": [
       "(65, 60003)"
      ]
     },
     "execution_count": 283,
     "metadata": {},
     "output_type": "execute_result"
    }
   ],
   "source": [
    "valid_dataset.data.shape"
   ]
  },
  {
   "cell_type": "code",
   "execution_count": 284,
   "metadata": {},
   "outputs": [],
   "source": [
    "from sklearn import metrics"
   ]
  },
  {
   "cell_type": "code",
   "execution_count": 285,
   "metadata": {},
   "outputs": [
    {
     "data": {
      "text/plain": [
       "0.676923076923077"
      ]
     },
     "execution_count": 285,
     "metadata": {},
     "output_type": "execute_result"
    }
   ],
   "source": [
    "metrics.accuracy_score(y_true, y_pred)"
   ]
  },
  {
   "cell_type": "code",
   "execution_count": 286,
   "metadata": {},
   "outputs": [
    {
     "data": {
      "text/plain": [
       "array([0.66666667, 0.36363636, 0.7       , 0.78571429])"
      ]
     },
     "execution_count": 286,
     "metadata": {},
     "output_type": "execute_result"
    }
   ],
   "source": [
    "metrics.recall_score(y_true, y_pred, average=None)"
   ]
  },
  {
   "cell_type": "code",
   "execution_count": 287,
   "metadata": {},
   "outputs": [
    {
     "data": {
      "text/plain": [
       "array([0.44444444, 0.44444444, 0.66666667, 0.84615385])"
      ]
     },
     "execution_count": 287,
     "metadata": {},
     "output_type": "execute_result"
    }
   ],
   "source": [
    "metrics.precision_score(y_true, y_pred, average=None)"
   ]
  },
  {
   "cell_type": "code",
   "execution_count": 288,
   "metadata": {},
   "outputs": [
    {
     "data": {
      "text/plain": [
       "array([0.53333333, 0.4       , 0.68292683, 0.81481481])"
      ]
     },
     "execution_count": 288,
     "metadata": {},
     "output_type": "execute_result"
    }
   ],
   "source": [
    "metrics.f1_score(y_true, y_pred, average=None)"
   ]
  },
  {
   "cell_type": "code",
   "execution_count": 289,
   "metadata": {},
   "outputs": [
    {
     "data": {
      "text/plain": [
       "0.676923076923077"
      ]
     },
     "execution_count": 289,
     "metadata": {},
     "output_type": "execute_result"
    }
   ],
   "source": [
    "metrics.recall_score(y_true, y_pred, average='weighted')"
   ]
  },
  {
   "cell_type": "code",
   "execution_count": 57,
   "metadata": {},
   "outputs": [],
   "source": [
    "history_arr = np.array(history)"
   ]
  },
  {
   "cell_type": "code",
   "execution_count": 58,
   "metadata": {},
   "outputs": [
    {
     "data": {
      "image/png": "[encoded data removed]",
      "text/plain": [
       "<Figure size 432x288 with 1 Axes>"
      ]
     },
     "metadata": {
      "needs_background": "light"
     },
     "output_type": "display_data"
    }
   ],
   "source": [
    "plt.plot(range(1, 1001, 10), history_arr[:, 0], 'b')\n",
    "plt.plot(range(1, 1001, 10), history_arr[:, 1], 'g')\n",
    "plt.xlabel('number of epohs')\n",
    "plt.ylabel('accuracy')\n",
    "plt.legend(['train', 'test'])\n",
    "plt.show()"
   ]
  },
  {
   "cell_type": "code",
   "execution_count": null,
   "metadata": {},
   "outputs": [],
   "source": []
  }
 ],
 "metadata": {
  "kernelspec": {
   "display_name": "Python 3",
   "language": "python",
   "name": "python3"
  },
  "language_info": {
   "codemirror_mode": {
    "name": "ipython",
    "version": 3
   },
   "file_extension": ".py",
   "mimetype": "text/x-python",
   "name": "python",
   "nbconvert_exporter": "python",
   "pygments_lexer": "ipython3",
   "version": "3.6.7"
  }
 },
 "nbformat": 4,
 "nbformat_minor": 2
}
