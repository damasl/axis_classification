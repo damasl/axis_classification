{
 "cells": [
  {
   "cell_type": "code",
   "execution_count": 1,
   "metadata": {},
   "outputs": [
    {
     "data": {
      "text/plain": [
       "True"
      ]
     },
     "execution_count": 1,
     "metadata": {},
     "output_type": "execute_result"
    }
   ],
   "source": [
    "import torch\n",
    "torch.cuda.is_available()"
   ]
  },
  {
   "cell_type": "code",
   "execution_count": 2,
   "metadata": {},
   "outputs": [],
   "source": [
    "import pandas as pd"
   ]
  },
  {
   "cell_type": "code",
   "execution_count": 3,
   "metadata": {},
   "outputs": [],
   "source": [
    "from scipy import signal\n",
    "import numpy as np\n",
    "import matplotlib.pyplot as plt\n",
    "from wfdb import processing\n",
    "import numpy as np"
   ]
  },
  {
   "cell_type": "code",
   "execution_count": 4,
   "metadata": {},
   "outputs": [],
   "source": [
    "data = pd.read_csv(\"X_train.csv\")"
   ]
  },
  {
   "cell_type": "code",
   "execution_count": 5,
   "metadata": {},
   "outputs": [],
   "source": [
    "answers = pd.read_csv(\"y_train.csv\")"
   ]
  },
  {
   "cell_type": "code",
   "execution_count": 6,
   "metadata": {},
   "outputs": [],
   "source": [
    "data = (pd.merge(data ,answers, on = \"Unnamed: 0\"))\n",
    "data['age'] = (data['age'] - data['age'].mean(axis = 0))/data['age'].std(axis = 0)"
   ]
  },
  {
   "cell_type": "code",
   "execution_count": 7,
   "metadata": {},
   "outputs": [],
   "source": [
    "data = data.drop( [\"Unnamed: 0\"], axis = 1)"
   ]
  },
  {
   "cell_type": "code",
   "execution_count": 8,
   "metadata": {},
   "outputs": [
    {
     "data": {
      "text/html": [
       "<div>\n",
       "<style scoped>\n",
       "    .dataframe tbody tr th:only-of-type {\n",
       "        vertical-align: middle;\n",
       "    }\n",
       "\n",
       "    .dataframe tbody tr th {\n",
       "        vertical-align: top;\n",
       "    }\n",
       "\n",
       "    .dataframe thead th {\n",
       "        text-align: right;\n",
       "    }\n",
       "</style>\n",
       "<table border=\"1\" class=\"dataframe\">\n",
       "  <thead>\n",
       "    <tr style=\"text-align: right;\">\n",
       "      <th></th>\n",
       "      <th>age</th>\n",
       "      <th>gender</th>\n",
       "      <th>i_0</th>\n",
       "      <th>i_1</th>\n",
       "      <th>i_2</th>\n",
       "      <th>i_3</th>\n",
       "      <th>i_4</th>\n",
       "      <th>i_5</th>\n",
       "      <th>i_6</th>\n",
       "      <th>i_7</th>\n",
       "      <th>...</th>\n",
       "      <th>v6_4991</th>\n",
       "      <th>v6_4992</th>\n",
       "      <th>v6_4993</th>\n",
       "      <th>v6_4994</th>\n",
       "      <th>v6_4995</th>\n",
       "      <th>v6_4996</th>\n",
       "      <th>v6_4997</th>\n",
       "      <th>v6_4998</th>\n",
       "      <th>v6_4999</th>\n",
       "      <th>axis_id</th>\n",
       "    </tr>\n",
       "  </thead>\n",
       "  <tbody>\n",
       "    <tr>\n",
       "      <th>0</th>\n",
       "      <td>0.192357</td>\n",
       "      <td>1</td>\n",
       "      <td>-59.0</td>\n",
       "      <td>-58.0</td>\n",
       "      <td>-58.0</td>\n",
       "      <td>-58.0</td>\n",
       "      <td>-58.0</td>\n",
       "      <td>-58.0</td>\n",
       "      <td>-58.0</td>\n",
       "      <td>-58.0</td>\n",
       "      <td>...</td>\n",
       "      <td>114.0</td>\n",
       "      <td>119.0</td>\n",
       "      <td>124.0</td>\n",
       "      <td>129.0</td>\n",
       "      <td>134.0</td>\n",
       "      <td>147.0</td>\n",
       "      <td>172.0</td>\n",
       "      <td>200.0</td>\n",
       "      <td>143.0</td>\n",
       "      <td>3</td>\n",
       "    </tr>\n",
       "    <tr>\n",
       "      <th>1</th>\n",
       "      <td>1.399105</td>\n",
       "      <td>0</td>\n",
       "      <td>-39.0</td>\n",
       "      <td>-38.0</td>\n",
       "      <td>-38.0</td>\n",
       "      <td>-38.0</td>\n",
       "      <td>-38.0</td>\n",
       "      <td>-38.0</td>\n",
       "      <td>-38.0</td>\n",
       "      <td>-38.0</td>\n",
       "      <td>...</td>\n",
       "      <td>229.0</td>\n",
       "      <td>259.0</td>\n",
       "      <td>289.0</td>\n",
       "      <td>319.0</td>\n",
       "      <td>349.0</td>\n",
       "      <td>379.0</td>\n",
       "      <td>409.0</td>\n",
       "      <td>439.0</td>\n",
       "      <td>302.0</td>\n",
       "      <td>3</td>\n",
       "    </tr>\n",
       "    <tr>\n",
       "      <th>2</th>\n",
       "      <td>0.137505</td>\n",
       "      <td>0</td>\n",
       "      <td>0.0</td>\n",
       "      <td>0.0</td>\n",
       "      <td>0.0</td>\n",
       "      <td>0.0</td>\n",
       "      <td>0.0</td>\n",
       "      <td>0.0</td>\n",
       "      <td>0.0</td>\n",
       "      <td>0.0</td>\n",
       "      <td>...</td>\n",
       "      <td>-58.0</td>\n",
       "      <td>-58.0</td>\n",
       "      <td>-58.0</td>\n",
       "      <td>-58.0</td>\n",
       "      <td>-58.0</td>\n",
       "      <td>-58.0</td>\n",
       "      <td>-38.0</td>\n",
       "      <td>-11.0</td>\n",
       "      <td>-2.0</td>\n",
       "      <td>2</td>\n",
       "    </tr>\n",
       "    <tr>\n",
       "      <th>3</th>\n",
       "      <td>1.344253</td>\n",
       "      <td>0</td>\n",
       "      <td>108.0</td>\n",
       "      <td>106.0</td>\n",
       "      <td>93.0</td>\n",
       "      <td>79.0</td>\n",
       "      <td>86.0</td>\n",
       "      <td>74.0</td>\n",
       "      <td>64.0</td>\n",
       "      <td>51.0</td>\n",
       "      <td>...</td>\n",
       "      <td>81.0</td>\n",
       "      <td>89.0</td>\n",
       "      <td>79.0</td>\n",
       "      <td>59.0</td>\n",
       "      <td>61.0</td>\n",
       "      <td>64.0</td>\n",
       "      <td>49.0</td>\n",
       "      <td>26.0</td>\n",
       "      <td>10.0</td>\n",
       "      <td>3</td>\n",
       "    </tr>\n",
       "    <tr>\n",
       "      <th>4</th>\n",
       "      <td>-1.453208</td>\n",
       "      <td>1</td>\n",
       "      <td>363.0</td>\n",
       "      <td>366.0</td>\n",
       "      <td>366.0</td>\n",
       "      <td>353.0</td>\n",
       "      <td>334.0</td>\n",
       "      <td>314.0</td>\n",
       "      <td>306.0</td>\n",
       "      <td>294.0</td>\n",
       "      <td>...</td>\n",
       "      <td>-61.0</td>\n",
       "      <td>-59.0</td>\n",
       "      <td>-86.0</td>\n",
       "      <td>-66.0</td>\n",
       "      <td>-71.0</td>\n",
       "      <td>-91.0</td>\n",
       "      <td>-84.0</td>\n",
       "      <td>-11.0</td>\n",
       "      <td>-4.0</td>\n",
       "      <td>0</td>\n",
       "    </tr>\n",
       "  </tbody>\n",
       "</table>\n",
       "<p>5 rows × 60003 columns</p>\n",
       "</div>"
      ],
      "text/plain": [
       "        age  gender    i_0    i_1    i_2    i_3    i_4    i_5    i_6    i_7  \\\n",
       "0  0.192357       1  -59.0  -58.0  -58.0  -58.0  -58.0  -58.0  -58.0  -58.0   \n",
       "1  1.399105       0  -39.0  -38.0  -38.0  -38.0  -38.0  -38.0  -38.0  -38.0   \n",
       "2  0.137505       0    0.0    0.0    0.0    0.0    0.0    0.0    0.0    0.0   \n",
       "3  1.344253       0  108.0  106.0   93.0   79.0   86.0   74.0   64.0   51.0   \n",
       "4 -1.453208       1  363.0  366.0  366.0  353.0  334.0  314.0  306.0  294.0   \n",
       "\n",
       "    ...     v6_4991  v6_4992  v6_4993  v6_4994  v6_4995  v6_4996  v6_4997  \\\n",
       "0   ...       114.0    119.0    124.0    129.0    134.0    147.0    172.0   \n",
       "1   ...       229.0    259.0    289.0    319.0    349.0    379.0    409.0   \n",
       "2   ...       -58.0    -58.0    -58.0    -58.0    -58.0    -58.0    -38.0   \n",
       "3   ...        81.0     89.0     79.0     59.0     61.0     64.0     49.0   \n",
       "4   ...       -61.0    -59.0    -86.0    -66.0    -71.0    -91.0    -84.0   \n",
       "\n",
       "   v6_4998  v6_4999  axis_id  \n",
       "0    200.0    143.0        3  \n",
       "1    439.0    302.0        3  \n",
       "2    -11.0     -2.0        2  \n",
       "3     26.0     10.0        3  \n",
       "4    -11.0     -4.0        0  \n",
       "\n",
       "[5 rows x 60003 columns]"
      ]
     },
     "execution_count": 8,
     "metadata": {},
     "output_type": "execute_result"
    }
   ],
   "source": [
    "data.head()"
   ]
  },
  {
   "cell_type": "code",
   "execution_count": 9,
   "metadata": {},
   "outputs": [],
   "source": [
    "from scipy import signal\n",
    "import numpy as np\n",
    "import matplotlib.pyplot as plt"
   ]
  },
  {
   "cell_type": "code",
   "execution_count": 10,
   "metadata": {},
   "outputs": [],
   "source": [
    "from torch.utils.data import Dataset, DataLoader\n",
    "from torchvision import transforms"
   ]
  },
  {
   "cell_type": "code",
   "execution_count": 11,
   "metadata": {},
   "outputs": [],
   "source": [
    "from basics import *"
   ]
  },
  {
   "cell_type": "code",
   "execution_count": 12,
   "metadata": {},
   "outputs": [],
   "source": [
    "class ECGDataset(FilteredDataset):\n",
    "    def __init__(self, data, signal_length, low_cut = 5, high_cut = 20):\n",
    "        super().__init__(data, low_cut, high_cut)\n",
    "        self.signal_length = signal_length\n",
    "        used_data = self.filtered_data\n",
    "        used_data = [np.array(row) for row in used_data.copy()]\n",
    "        used_data = np.array(used_data)\n",
    "        self.values = (used_data - used_data.mean())/used_data.std()\n",
    "\n",
    "\n",
    "    def __getitem__(self, idx):\n",
    "        \"\"\"\n",
    "        Generates one sample of data.\n",
    "        \"\"\"\n",
    "        label = self._get_label(idx)\n",
    "        cut_point = 0 if self.signal_length >= 5000 else np.random.randint(5001 - self.signal_length)\n",
    "        signals = self.values[idx][:, cut_point:cut_point+self.signal_length]\n",
    "        \n",
    "        return signals, label, self.data[idx][-1]"
   ]
  },
  {
   "cell_type": "code",
   "execution_count": 13,
   "metadata": {},
   "outputs": [
    {
     "name": "stderr",
     "output_type": "stream",
     "text": [
      "C:\\ProgramData\\Anaconda3\\lib\\site-packages\\scipy\\signal\\_arraytools.py:45: FutureWarning: Using a non-tuple sequence for multidimensional indexing is deprecated; use `arr[tuple(seq)]` instead of `arr[seq]`. In the future this will be interpreted as an array index, `arr[np.array(seq)]`, which will result either in an error or a different result.\n",
      "  b = a[a_slice]\n"
     ]
    }
   ],
   "source": [
    "valid_size = 0.1\n",
    "\n",
    "num_train = len(data)\n",
    "indices = list(range(num_train))\n",
    "split = int(np.floor(valid_size * num_train))\n",
    "\n",
    "np.random.seed(7)\n",
    "np.random.shuffle(indices)\n",
    "\n",
    "train_idx, valid_idx = indices[split:], indices[:split]\n",
    "train_dataset = ECGDataset(data.iloc[train_idx], 2000)\n",
    "valid_dataset = ECGDataset(data.iloc[valid_idx],  2000)"
   ]
  },
  {
   "cell_type": "code",
   "execution_count": 14,
   "metadata": {},
   "outputs": [],
   "source": [
    "batchsize = 64\n",
    "train_loader = torch.utils.data.DataLoader(\n",
    "    train_dataset, batch_size=batchsize, shuffle = True\n",
    ")\n",
    "valid_loader = torch.utils.data.DataLoader(\n",
    "    valid_dataset, batch_size=batchsize, shuffle = True\n",
    ")"
   ]
  },
  {
   "cell_type": "code",
   "execution_count": 15,
   "metadata": {},
   "outputs": [],
   "source": [
    "import torch.nn as nn"
   ]
  },
  {
   "cell_type": "code",
   "execution_count": 16,
   "metadata": {},
   "outputs": [],
   "source": [
    "ecg, labels, labels_idx = train_dataset[0]\n",
    "ecg = torch.tensor([ecg]).float()"
   ]
  },
  {
   "cell_type": "code",
   "execution_count": 17,
   "metadata": {},
   "outputs": [
    {
     "data": {
      "text/plain": [
       "1.0"
      ]
     },
     "execution_count": 17,
     "metadata": {},
     "output_type": "execute_result"
    }
   ],
   "source": [
    "labels_idx"
   ]
  },
  {
   "cell_type": "code",
   "execution_count": 18,
   "metadata": {},
   "outputs": [],
   "source": [
    "avg_pool = nn.AvgPool1d(10)"
   ]
  },
  {
   "cell_type": "code",
   "execution_count": 19,
   "metadata": {},
   "outputs": [],
   "source": [
    "evg_ecg = avg_pool(ecg)"
   ]
  },
  {
   "cell_type": "code",
   "execution_count": 20,
   "metadata": {},
   "outputs": [
    {
     "data": {
      "text/plain": [
       "torch.Size([1, 12, 200])"
      ]
     },
     "execution_count": 20,
     "metadata": {},
     "output_type": "execute_result"
    }
   ],
   "source": [
    "evg_ecg.shape"
   ]
  },
  {
   "cell_type": "code",
   "execution_count": null,
   "metadata": {},
   "outputs": [],
   "source": []
  },
  {
   "cell_type": "code",
   "execution_count": 21,
   "metadata": {},
   "outputs": [
    {
     "data": {
      "image/png": "[encoded data removed]",
      "text/plain": [
       "<Figure size 432x288 with 1 Axes>"
      ]
     },
     "metadata": {
      "needs_background": "light"
     },
     "output_type": "display_data"
    },
    {
     "data": {
      "image/png": "[encoded data removed]",
      "text/plain": [
       "<Figure size 432x288 with 1 Axes>"
      ]
     },
     "metadata": {
      "needs_background": "light"
     },
     "output_type": "display_data"
    }
   ],
   "source": [
    "plt.plot(ecg[0][6].cpu().numpy())\n",
    "plt.show()\n",
    "plt.plot(evg_ecg.detach()[0][6].cpu().numpy())\n",
    "plt.show()\n"
   ]
  },
  {
   "cell_type": "code",
   "execution_count": 22,
   "metadata": {},
   "outputs": [],
   "source": [
    "class CNN1d(nn.Module):\n",
    "    def __init__(self, dropout=0.3):\n",
    "        super(CNN1d, self).__init__()\n",
    "        #[batch size, channels_12, 3000]\n",
    "        self.reduce_layer = nn.AvgPool1d(5)\n",
    "        #[batch size, channels_12, 300]\n",
    "        \n",
    "        self.layer1 = nn.Sequential(\n",
    "            nn.Conv1d(12, 128, kernel_size=9, padding = 4), \n",
    "            nn.BatchNorm1d(128),\n",
    "            nn.ReLU(), \n",
    "            nn.Conv1d(128, 128, kernel_size=5, padding = 2), \n",
    "            nn.BatchNorm1d(128),\n",
    "            nn.ReLU(),\n",
    "            nn.Conv1d(128, 128, kernel_size=3, padding = 1), \n",
    "            nn.BatchNorm1d(128),\n",
    "            nn.Dropout(dropout)\n",
    "        ) \n",
    "        \n",
    "        self.shortcut1 =  nn.Sequential(\n",
    "            nn.Conv1d(12, 128, kernel_size=1),\n",
    "            nn.BatchNorm1d(128)\n",
    "        )\n",
    "        self.sum_relu1 = nn.ReLU()\n",
    "        \n",
    "        self.layer2 = nn.Sequential(\n",
    "            nn.Conv1d(128, 256, kernel_size=9, padding = 4), \n",
    "            nn.BatchNorm1d(256),\n",
    "            nn.ReLU(), \n",
    "            nn.Conv1d(256, 256, kernel_size=5, padding = 2), \n",
    "            nn.BatchNorm1d(256),\n",
    "            nn.ReLU(),\n",
    "            nn.Conv1d(256, 256, kernel_size=3, padding = 1), \n",
    "            nn.BatchNorm1d(256),\n",
    "            nn.Dropout(dropout)\n",
    "        ) \n",
    "        \n",
    "        self.shortcut2 =  nn.Sequential(\n",
    "            nn.Conv1d(128, 256, kernel_size=1),\n",
    "            nn.BatchNorm1d(256)\n",
    "        )\n",
    "        \n",
    "        self.sum_relu2 = nn.ReLU()\n",
    "        \n",
    "        self.layer3 = nn.Sequential(\n",
    "            nn.Conv1d(256, 256, kernel_size=9, padding = 4), \n",
    "            nn.BatchNorm1d(256),\n",
    "            nn.ReLU(), \n",
    "            nn.Conv1d(256, 256, kernel_size=5, padding = 2), \n",
    "            nn.BatchNorm1d(256),\n",
    "            nn.ReLU(),\n",
    "            nn.Conv1d(256, 256, kernel_size=3, padding = 1), \n",
    "            nn.BatchNorm1d(256),\n",
    "            nn.Dropout(dropout)\n",
    "        ) \n",
    "        \n",
    "        self.shortcut3 =  nn.Sequential(\n",
    "            nn.BatchNorm1d(256)\n",
    "        )\n",
    "        self.sum_relu3 = nn.ReLU()\n",
    "        \n",
    "        self.time_avg = nn.AvgPool1d(400)\n",
    "       \n",
    "        self.fc = nn.Linear(256, 4)\n",
    "        self.sm = nn.Softmax(dim = 1)\n",
    "        \n",
    "    def forward(self, x):\n",
    "        identity = self.reduce_layer(x)\n",
    "        \n",
    "        out = self.layer1(identity)\n",
    "        short = self.shortcut1(identity)\n",
    "        out += short\n",
    "        identity = self.sum_relu1(out)\n",
    "        \n",
    "        \n",
    "        out = self.layer2(identity)\n",
    "        short = self.shortcut2(identity)\n",
    "        out += short\n",
    "        identity = self.sum_relu2(out)\n",
    "        \n",
    "        out = self.layer3(identity)\n",
    "        short = self.shortcut3(identity)\n",
    "        out += short\n",
    "        identity = self.sum_relu3(out)\n",
    "        \n",
    "        out = self.time_avg(identity)\n",
    "        out = out.squeeze(2)\n",
    "        \n",
    "        out = self.fc(out)\n",
    "        out = self.sm(out)\n",
    "        return out"
   ]
  },
  {
   "cell_type": "code",
   "execution_count": 23,
   "metadata": {},
   "outputs": [],
   "source": [
    "cnn1d = CNN1d()"
   ]
  },
  {
   "cell_type": "code",
   "execution_count": 24,
   "metadata": {},
   "outputs": [],
   "source": [
    "pred = cnn1d(ecg)"
   ]
  },
  {
   "cell_type": "code",
   "execution_count": 25,
   "metadata": {},
   "outputs": [
    {
     "data": {
      "text/plain": [
       "tensor([[0.2350, 0.2520, 0.2546, 0.2585]], grad_fn=<SoftmaxBackward>)"
      ]
     },
     "execution_count": 25,
     "metadata": {},
     "output_type": "execute_result"
    }
   ],
   "source": [
    "pred"
   ]
  },
  {
   "cell_type": "code",
   "execution_count": 26,
   "metadata": {},
   "outputs": [],
   "source": [
    "device = torch.device('cuda:0' if torch.cuda.is_available() else 'cpu')"
   ]
  },
  {
   "cell_type": "code",
   "execution_count": 27,
   "metadata": {},
   "outputs": [],
   "source": [
    "model = CNN1d().to(device)"
   ]
  },
  {
   "cell_type": "code",
   "execution_count": 28,
   "metadata": {},
   "outputs": [],
   "source": [
    "import torch.nn as nn\n",
    "from torch import optim\n",
    "import torch.nn.functional as F"
   ]
  },
  {
   "cell_type": "code",
   "execution_count": 29,
   "metadata": {},
   "outputs": [],
   "source": [
    "optimizer = optim.Adam(model.parameters(), lr = 0.0001)\n",
    "criterion = nn.CrossEntropyLoss()"
   ]
  },
  {
   "cell_type": "code",
   "execution_count": 30,
   "metadata": {},
   "outputs": [],
   "source": [
    "def validate(model, loader):\n",
    "    model.eval()\n",
    "    val_length = 0\n",
    "    correct_answers = 0\n",
    "    for i, (ecg, labels, label_idx) in enumerate(loader):\n",
    "\n",
    "        src = ecg.to(device).float()\n",
    "        trg = label_idx.to(device).long()\n",
    "\n",
    "        output = model(src)\n",
    "        \n",
    "        answer = output.argmax(dim = 1).long()\n",
    "        res = answer == trg \n",
    "        \n",
    "        val_length += len(answer)\n",
    "        correct_answers += res.sum().float()\n",
    "    return correct_answers/val_length\n",
    "        "
   ]
  },
  {
   "cell_type": "code",
   "execution_count": 31,
   "metadata": {},
   "outputs": [
    {
     "data": {
      "text/plain": [
       "tensor(0.0923, device='cuda:0')"
      ]
     },
     "execution_count": 31,
     "metadata": {},
     "output_type": "execute_result"
    }
   ],
   "source": [
    "validate(model, valid_loader)"
   ]
  },
  {
   "cell_type": "code",
   "execution_count": 32,
   "metadata": {},
   "outputs": [],
   "source": [
    "def train(model, n_epoch, optimizer, criterion, print_every = 100, valid_every=10):\n",
    "    model.train()\n",
    "    total_step = len(train_loader)\n",
    "    for epoch in range(n_epoch):\n",
    "        epoch_loss = 0\n",
    "        \n",
    "\n",
    "        for i, (ecg, labels, label_idx) in enumerate(train_loader):\n",
    "            \n",
    "            src = ecg.to(device).float()\n",
    "            trg = label_idx.to(device).long()\n",
    "\n",
    "            optimizer.zero_grad()\n",
    "\n",
    "            output = model(src)\n",
    "\n",
    "            loss = criterion(output, trg )\n",
    "            if (torch.isnan(loss).item()  == 1):\n",
    "                print(\"NAN loss\")\n",
    "                print(src)\n",
    "                print(trg)\n",
    "                return\n",
    "\n",
    "            loss.backward()\n",
    "            optimizer.step()\n",
    "            \n",
    "            if (epoch % valid_every == 0) and (i % print_every == 0):\n",
    "                print ('Epoch [{}/{}], Step [{}/{}], Loss: {:.4f}' \n",
    "                   .format(epoch+1, n_epoch, i+1, total_step, loss.item()))\n",
    "        \n",
    "        if (epoch % valid_every == 0):\n",
    "            print ('Epoch [{}/{}], Accuracy: {:.4f} / {:.4f}' \n",
    "                   .format(epoch+1, n_epoch, validate(model, train_loader).item(), validate(model, valid_loader).item()))\n",
    "            model.train()\n",
    "        \n",
    "                "
   ]
  },
  {
   "cell_type": "code",
   "execution_count": 33,
   "metadata": {},
   "outputs": [
    {
     "name": "stdout",
     "output_type": "stream",
     "text": [
      "Epoch [1/500], Step [1/10], Loss: 1.4059\n",
      "Epoch [1/500], Step [10/10], Loss: 1.3461\n",
      "Epoch [1/500], Accuracy: 0.1347 / 0.1846\n",
      "Epoch [21/500], Step [1/10], Loss: 0.9510\n",
      "Epoch [21/500], Step [10/10], Loss: 1.1275\n",
      "Epoch [21/500], Accuracy: 0.8232 / 0.7231\n",
      "Epoch [41/500], Step [1/10], Loss: 0.8857\n",
      "Epoch [41/500], Step [10/10], Loss: 0.9134\n",
      "Epoch [41/500], Accuracy: 0.9242 / 0.6615\n",
      "Epoch [61/500], Step [1/10], Loss: 0.7867\n",
      "Epoch [61/500], Step [10/10], Loss: 0.8736\n",
      "Epoch [61/500], Accuracy: 0.9714 / 0.7385\n",
      "Epoch [81/500], Step [1/10], Loss: 0.8542\n",
      "Epoch [81/500], Step [10/10], Loss: 0.7859\n",
      "Epoch [81/500], Accuracy: 0.9646 / 0.6462\n",
      "Epoch [101/500], Step [1/10], Loss: 0.7722\n",
      "Epoch [101/500], Step [10/10], Loss: 0.8072\n",
      "Epoch [101/500], Accuracy: 0.9848 / 0.7385\n",
      "Epoch [121/500], Step [1/10], Loss: 0.7679\n",
      "Epoch [121/500], Step [10/10], Loss: 0.8057\n",
      "Epoch [121/500], Accuracy: 0.9731 / 0.6308\n",
      "Epoch [141/500], Step [1/10], Loss: 0.7793\n",
      "Epoch [141/500], Step [10/10], Loss: 0.7551\n",
      "Epoch [141/500], Accuracy: 0.9882 / 0.7231\n",
      "Epoch [161/500], Step [1/10], Loss: 0.7572\n",
      "Epoch [161/500], Step [10/10], Loss: 0.7712\n",
      "Epoch [161/500], Accuracy: 0.9714 / 0.7692\n",
      "Epoch [181/500], Step [1/10], Loss: 0.7639\n",
      "Epoch [181/500], Step [10/10], Loss: 0.7468\n",
      "Epoch [181/500], Accuracy: 0.9916 / 0.7231\n",
      "Epoch [201/500], Step [1/10], Loss: 0.7705\n",
      "Epoch [201/500], Step [10/10], Loss: 0.8089\n",
      "Epoch [201/500], Accuracy: 0.9899 / 0.6615\n",
      "Epoch [221/500], Step [1/10], Loss: 0.7445\n",
      "Epoch [221/500], Step [10/10], Loss: 0.8807\n",
      "Epoch [221/500], Accuracy: 0.9949 / 0.6923\n",
      "Epoch [241/500], Step [1/10], Loss: 0.7678\n",
      "Epoch [241/500], Step [10/10], Loss: 0.7624\n",
      "Epoch [241/500], Accuracy: 0.9933 / 0.7692\n",
      "Epoch [261/500], Step [1/10], Loss: 0.7616\n",
      "Epoch [261/500], Step [10/10], Loss: 0.7517\n",
      "Epoch [261/500], Accuracy: 0.9933 / 0.6769\n",
      "Epoch [281/500], Step [1/10], Loss: 0.7469\n",
      "Epoch [281/500], Step [10/10], Loss: 0.7588\n",
      "Epoch [281/500], Accuracy: 0.9933 / 0.7538\n",
      "Epoch [301/500], Step [1/10], Loss: 0.7610\n",
      "Epoch [301/500], Step [10/10], Loss: 0.7440\n",
      "Epoch [301/500], Accuracy: 0.9933 / 0.6308\n",
      "Epoch [321/500], Step [1/10], Loss: 0.7474\n",
      "Epoch [321/500], Step [10/10], Loss: 0.8056\n",
      "Epoch [321/500], Accuracy: 0.9680 / 0.6769\n",
      "Epoch [341/500], Step [1/10], Loss: 0.7461\n",
      "Epoch [341/500], Step [10/10], Loss: 0.7512\n",
      "Epoch [341/500], Accuracy: 0.9933 / 0.7231\n",
      "Epoch [361/500], Step [1/10], Loss: 0.7470\n",
      "Epoch [361/500], Step [10/10], Loss: 0.7699\n",
      "Epoch [361/500], Accuracy: 0.9832 / 0.6769\n",
      "Epoch [381/500], Step [1/10], Loss: 0.7685\n",
      "Epoch [381/500], Step [10/10], Loss: 0.7717\n",
      "Epoch [381/500], Accuracy: 0.9916 / 0.7231\n",
      "Epoch [401/500], Step [1/10], Loss: 0.7449\n",
      "Epoch [401/500], Step [10/10], Loss: 0.7463\n",
      "Epoch [401/500], Accuracy: 0.9949 / 0.6923\n",
      "Epoch [421/500], Step [1/10], Loss: 0.7441\n",
      "Epoch [421/500], Step [10/10], Loss: 0.7442\n",
      "Epoch [421/500], Accuracy: 0.9966 / 0.7538\n",
      "Epoch [441/500], Step [1/10], Loss: 0.7472\n",
      "Epoch [441/500], Step [10/10], Loss: 0.7999\n",
      "Epoch [441/500], Accuracy: 0.9966 / 0.7077\n",
      "Epoch [461/500], Step [1/10], Loss: 0.7443\n",
      "Epoch [461/500], Step [10/10], Loss: 0.8011\n",
      "Epoch [461/500], Accuracy: 0.9882 / 0.6923\n",
      "Epoch [481/500], Step [1/10], Loss: 0.7641\n",
      "Epoch [481/500], Step [10/10], Loss: 0.7583\n",
      "Epoch [481/500], Accuracy: 0.9966 / 0.7077\n"
     ]
    }
   ],
   "source": [
    "train(model, 500, optimizer, criterion, 9, 20)"
   ]
  },
  {
   "cell_type": "code",
   "execution_count": 34,
   "metadata": {},
   "outputs": [
    {
     "data": {
      "text/plain": [
       "0.7384615540504456"
      ]
     },
     "execution_count": 34,
     "metadata": {},
     "output_type": "execute_result"
    }
   ],
   "source": [
    "validate(model, valid_loader).item()"
   ]
  },
  {
   "cell_type": "code",
   "execution_count": 35,
   "metadata": {},
   "outputs": [],
   "source": [
    "import seaborn as sn"
   ]
  },
  {
   "cell_type": "code",
   "execution_count": 36,
   "metadata": {},
   "outputs": [],
   "source": [
    "def get_preds_and_true(model, loader, dataset):\n",
    "    y_pred = np.zeros((len(dataset),))\n",
    "    y_true = np.zeros((len(dataset),))\n",
    "    offset = 0\n",
    "    for i, (ecg, labels, label_idx) in enumerate(loader):\n",
    "\n",
    "        src = ecg.to(device).float()\n",
    "        trg = label_idx.to(device).long()\n",
    "\n",
    "        output = model(src)\n",
    "        \n",
    "        answer = output.argmax(dim = 1).long()\n",
    "        l = len(answer)\n",
    "\n",
    "        y_pred[offset:offset+l] = answer.cpu().numpy()\n",
    "        y_true[offset:offset+l] = trg.cpu().numpy()\n",
    "\n",
    "        offset = offset + l\n",
    "        \n",
    "    return y_pred, y_true"
   ]
  },
  {
   "cell_type": "code",
   "execution_count": 37,
   "metadata": {},
   "outputs": [
    {
     "data": {
      "text/plain": [
       "(array([3., 3., 2., 3., 2., 2., 0., 3., 1., 3., 3., 3., 2., 2., 3., 2., 2.,\n",
       "        2., 1., 3., 2., 3., 3., 3., 3., 2., 2., 2., 2., 2., 2., 1., 3., 1.,\n",
       "        2., 2., 0., 0., 3., 1., 2., 3., 3., 3., 0., 3., 3., 2., 3., 1., 3.,\n",
       "        2., 2., 1., 3., 3., 3., 3., 1., 2., 2., 1., 2., 3., 3.]),\n",
       " array([3., 3., 2., 3., 1., 3., 0., 3., 2., 3., 3., 3., 2., 2., 3., 1., 2.,\n",
       "        2., 3., 3., 3., 3., 3., 3., 3., 0., 1., 2., 2., 2., 2., 1., 3., 3.,\n",
       "        2., 2., 0., 0., 3., 2., 0., 3., 3., 2., 0., 3., 3., 2., 3., 1., 3.,\n",
       "        1., 2., 1., 3., 1., 3., 1., 2., 2., 2., 1., 2., 3., 1.]))"
      ]
     },
     "execution_count": 37,
     "metadata": {},
     "output_type": "execute_result"
    }
   ],
   "source": [
    "get_preds_and_true(model, valid_loader, valid_dataset)"
   ]
  },
  {
   "cell_type": "code",
   "execution_count": 38,
   "metadata": {},
   "outputs": [],
   "source": [
    "from sklearn.metrics import confusion_matrix"
   ]
  },
  {
   "cell_type": "code",
   "execution_count": 39,
   "metadata": {},
   "outputs": [],
   "source": [
    "def plot_confusion_matrix( y_test_predict, y_test):\n",
    "    sn.heatmap(confusion_matrix(y_test, y_test_predict), annot=True)\n",
    "   "
   ]
  },
  {
   "cell_type": "code",
   "execution_count": 41,
   "metadata": {},
   "outputs": [],
   "source": [
    "y_pred, y_true = get_preds_and_true(model, valid_loader, valid_dataset)"
   ]
  },
  {
   "cell_type": "code",
   "execution_count": 42,
   "metadata": {},
   "outputs": [
    {
     "data": {
      "image/png": "[encoded data removed]",
      "text/plain": [
       "<Figure size 432x288 with 2 Axes>"
      ]
     },
     "metadata": {
      "needs_background": "light"
     },
     "output_type": "display_data"
    }
   ],
   "source": [
    "plot_confusion_matrix(y_pred, y_true)"
   ]
  },
  {
   "cell_type": "code",
   "execution_count": 43,
   "metadata": {},
   "outputs": [],
   "source": [
    "from sklearn import metrics"
   ]
  },
  {
   "cell_type": "code",
   "execution_count": 45,
   "metadata": {},
   "outputs": [
    {
     "data": {
      "text/plain": [
       "0.7384615384615385"
      ]
     },
     "execution_count": 45,
     "metadata": {},
     "output_type": "execute_result"
    }
   ],
   "source": [
    "metrics.accuracy_score(y_true, y_pred)"
   ]
  },
  {
   "cell_type": "code",
   "execution_count": 49,
   "metadata": {},
   "outputs": [
    {
     "ename": "ValueError",
     "evalue": "Target is multiclass but average='binary'. Please choose another average setting.",
     "output_type": "error",
     "traceback": [
      "\u001b[1;31m---------------------------------------------------------------------------\u001b[0m",
      "\u001b[1;31mValueError\u001b[0m                                Traceback (most recent call last)",
      "\u001b[1;32m<ipython-input-49-917d0371c478>\u001b[0m in \u001b[0;36m<module>\u001b[1;34m\u001b[0m\n\u001b[1;32m----> 1\u001b[1;33m \u001b[0mmetrics\u001b[0m\u001b[1;33m.\u001b[0m\u001b[0mf1_score\u001b[0m\u001b[1;33m(\u001b[0m\u001b[0my_true\u001b[0m\u001b[1;33m,\u001b[0m \u001b[0my_pred\u001b[0m\u001b[1;33m)\u001b[0m\u001b[1;33m\u001b[0m\u001b[1;33m\u001b[0m\u001b[0m\n\u001b[0m",
      "\u001b[1;32mC:\\ProgramData\\Anaconda3\\lib\\site-packages\\sklearn\\metrics\\classification.py\u001b[0m in \u001b[0;36mf1_score\u001b[1;34m(y_true, y_pred, labels, pos_label, average, sample_weight)\u001b[0m\n\u001b[0;32m    718\u001b[0m     return fbeta_score(y_true, y_pred, 1, labels=labels,\n\u001b[0;32m    719\u001b[0m                        \u001b[0mpos_label\u001b[0m\u001b[1;33m=\u001b[0m\u001b[0mpos_label\u001b[0m\u001b[1;33m,\u001b[0m \u001b[0maverage\u001b[0m\u001b[1;33m=\u001b[0m\u001b[0maverage\u001b[0m\u001b[1;33m,\u001b[0m\u001b[1;33m\u001b[0m\u001b[1;33m\u001b[0m\u001b[0m\n\u001b[1;32m--> 720\u001b[1;33m                        sample_weight=sample_weight)\n\u001b[0m\u001b[0;32m    721\u001b[0m \u001b[1;33m\u001b[0m\u001b[0m\n\u001b[0;32m    722\u001b[0m \u001b[1;33m\u001b[0m\u001b[0m\n",
      "\u001b[1;32mC:\\ProgramData\\Anaconda3\\lib\\site-packages\\sklearn\\metrics\\classification.py\u001b[0m in \u001b[0;36mfbeta_score\u001b[1;34m(y_true, y_pred, beta, labels, pos_label, average, sample_weight)\u001b[0m\n\u001b[0;32m    832\u001b[0m                                                  \u001b[0maverage\u001b[0m\u001b[1;33m=\u001b[0m\u001b[0maverage\u001b[0m\u001b[1;33m,\u001b[0m\u001b[1;33m\u001b[0m\u001b[1;33m\u001b[0m\u001b[0m\n\u001b[0;32m    833\u001b[0m                                                  \u001b[0mwarn_for\u001b[0m\u001b[1;33m=\u001b[0m\u001b[1;33m(\u001b[0m\u001b[1;34m'f-score'\u001b[0m\u001b[1;33m,\u001b[0m\u001b[1;33m)\u001b[0m\u001b[1;33m,\u001b[0m\u001b[1;33m\u001b[0m\u001b[1;33m\u001b[0m\u001b[0m\n\u001b[1;32m--> 834\u001b[1;33m                                                  sample_weight=sample_weight)\n\u001b[0m\u001b[0;32m    835\u001b[0m     \u001b[1;32mreturn\u001b[0m \u001b[0mf\u001b[0m\u001b[1;33m\u001b[0m\u001b[1;33m\u001b[0m\u001b[0m\n\u001b[0;32m    836\u001b[0m \u001b[1;33m\u001b[0m\u001b[0m\n",
      "\u001b[1;32mC:\\ProgramData\\Anaconda3\\lib\\site-packages\\sklearn\\metrics\\classification.py\u001b[0m in \u001b[0;36mprecision_recall_fscore_support\u001b[1;34m(y_true, y_pred, beta, labels, pos_label, average, warn_for, sample_weight)\u001b[0m\n\u001b[0;32m   1045\u001b[0m         \u001b[1;32melse\u001b[0m\u001b[1;33m:\u001b[0m\u001b[1;33m\u001b[0m\u001b[1;33m\u001b[0m\u001b[0m\n\u001b[0;32m   1046\u001b[0m             raise ValueError(\"Target is %s but average='binary'. Please \"\n\u001b[1;32m-> 1047\u001b[1;33m                              \"choose another average setting.\" % y_type)\n\u001b[0m\u001b[0;32m   1048\u001b[0m     \u001b[1;32melif\u001b[0m \u001b[0mpos_label\u001b[0m \u001b[1;32mnot\u001b[0m \u001b[1;32min\u001b[0m \u001b[1;33m(\u001b[0m\u001b[1;32mNone\u001b[0m\u001b[1;33m,\u001b[0m \u001b[1;36m1\u001b[0m\u001b[1;33m)\u001b[0m\u001b[1;33m:\u001b[0m\u001b[1;33m\u001b[0m\u001b[1;33m\u001b[0m\u001b[0m\n\u001b[0;32m   1049\u001b[0m         warnings.warn(\"Note that pos_label (set to %r) is ignored when \"\n",
      "\u001b[1;31mValueError\u001b[0m: Target is multiclass but average='binary'. Please choose another average setting."
     ]
    }
   ],
   "source": [
    "metrics.f1_score(y_true, y_pred)"
   ]
  },
  {
   "cell_type": "code",
   "execution_count": 52,
   "metadata": {},
   "outputs": [
    {
     "data": {
      "text/plain": [
       "array([0.72727273, 0.47619048, 0.71428571, 0.85714286])"
      ]
     },
     "execution_count": 52,
     "metadata": {},
     "output_type": "execute_result"
    }
   ],
   "source": [
    "metrics.f1_score(y_true, y_pred, average=None)"
   ]
  },
  {
   "cell_type": "code",
   "execution_count": 48,
   "metadata": {},
   "outputs": [
    {
     "data": {
      "text/plain": [
       "0.7384615384615385"
      ]
     },
     "execution_count": 48,
     "metadata": {},
     "output_type": "execute_result"
    }
   ],
   "source": [
    "metrics.recall_score(y_true, y_pred, average='weighted')"
   ]
  },
  {
   "cell_type": "code",
   "execution_count": null,
   "metadata": {},
   "outputs": [],
   "source": []
  }
 ],
 "metadata": {
  "kernelspec": {
   "display_name": "Python 3",
   "language": "python",
   "name": "python3"
  },
  "language_info": {
   "codemirror_mode": {
    "name": "ipython",
    "version": 3
   },
   "file_extension": ".py",
   "mimetype": "text/x-python",
   "name": "python",
   "nbconvert_exporter": "python",
   "pygments_lexer": "ipython3",
   "version": "3.6.7"
  }
 },
 "nbformat": 4,
 "nbformat_minor": 2
}
