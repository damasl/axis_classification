{
 "cells": [
  {
   "cell_type": "code",
   "execution_count": 1,
   "metadata": {},
   "outputs": [],
   "source": [
    "import scipy.io\n",
    "import numpy as np\n",
    "import pandas as pd"
   ]
  },
  {
   "cell_type": "code",
   "execution_count": 2,
   "metadata": {},
   "outputs": [],
   "source": [
    "mat = scipy.io.loadmat('china//data//data_00001.mat')"
   ]
  },
  {
   "cell_type": "code",
   "execution_count": 3,
   "metadata": {},
   "outputs": [
    {
     "data": {
      "text/plain": [
       "{'__header__': b'MATLAB 5.0 MAT-file, Platform: PCWIN64, Created on: Thu Jan 10 12:44:24 2019',\n",
       " '__version__': '1.0',\n",
       " '__globals__': [],\n",
       " 'ecg': array([[-0.13405921],\n",
       "        [-0.21474772],\n",
       "        [-0.22356306],\n",
       "        ...,\n",
       "        [ 0.00581536],\n",
       "        [ 0.01781873],\n",
       "        [ 0.02576693]])}"
      ]
     },
     "execution_count": 3,
     "metadata": {},
     "output_type": "execute_result"
    }
   ],
   "source": [
    "mat"
   ]
  },
  {
   "cell_type": "code",
   "execution_count": 4,
   "metadata": {},
   "outputs": [
    {
     "data": {
      "text/plain": [
       "(5000, 1)"
      ]
     },
     "execution_count": 4,
     "metadata": {},
     "output_type": "execute_result"
    }
   ],
   "source": [
    "mat['ecg'].shape"
   ]
  },
  {
   "cell_type": "code",
   "execution_count": 5,
   "metadata": {},
   "outputs": [],
   "source": [
    "ref = scipy.io.loadmat('china//ref//R_00001.mat')"
   ]
  },
  {
   "cell_type": "code",
   "execution_count": 6,
   "metadata": {},
   "outputs": [
    {
     "data": {
      "text/plain": [
       "16"
      ]
     },
     "execution_count": 6,
     "metadata": {},
     "output_type": "execute_result"
    }
   ],
   "source": [
    "max(ref['R_peak'].shape)"
   ]
  },
  {
   "cell_type": "code",
   "execution_count": 7,
   "metadata": {},
   "outputs": [],
   "source": [
    "def get_dataset():\n",
    "    data = []\n",
    "    for i in range(1, 2001, 1):\n",
    "        mat = scipy.io.loadmat(\"china//data//data_{:05d}.mat\".format(i))\n",
    "        ref = scipy.io.loadmat(\"china//ref//R_{:05d}.mat\".format(i))\n",
    "        ecg = np.reshape(mat[\"ecg\"], (5000,))\n",
    "        r_peak = np.reshape(ref[\"R_peak\"], (max(ref['R_peak'].shape),)).astype(np.int32)\n",
    "        is_r_peak = np.zeros((5000,), dtype=np.int32)\n",
    "        is_r_peak[r_peak] = 1\n",
    "        data.append({\"ecg\": ecg,\n",
    "                        \"is_r_peak\": is_r_peak,\n",
    "                       \"r_peak\": r_peak})\n",
    "    return pd.DataFrame.from_dict(data, orient='columns')\n",
    "        "
   ]
  },
  {
   "cell_type": "code",
   "execution_count": 8,
   "metadata": {},
   "outputs": [],
   "source": [
    "dataset = get_dataset()"
   ]
  },
  {
   "cell_type": "code",
   "execution_count": 9,
   "metadata": {},
   "outputs": [
    {
     "data": {
      "text/html": [
       "<div>\n",
       "<style scoped>\n",
       "    .dataframe tbody tr th:only-of-type {\n",
       "        vertical-align: middle;\n",
       "    }\n",
       "\n",
       "    .dataframe tbody tr th {\n",
       "        vertical-align: top;\n",
       "    }\n",
       "\n",
       "    .dataframe thead th {\n",
       "        text-align: right;\n",
       "    }\n",
       "</style>\n",
       "<table border=\"1\" class=\"dataframe\">\n",
       "  <thead>\n",
       "    <tr style=\"text-align: right;\">\n",
       "      <th></th>\n",
       "      <th>ecg</th>\n",
       "      <th>is_r_peak</th>\n",
       "      <th>r_peak</th>\n",
       "    </tr>\n",
       "  </thead>\n",
       "  <tbody>\n",
       "    <tr>\n",
       "      <th>0</th>\n",
       "      <td>[-0.13405921413885352, -0.21474771537475584, -...</td>\n",
       "      <td>[0, 0, 0, 0, 0, 0, 0, 0, 0, 0, 0, 0, 0, 0, 0, ...</td>\n",
       "      <td>[381, 674, 969, 1198, 1556, 1845, 2138, 2431, ...</td>\n",
       "    </tr>\n",
       "    <tr>\n",
       "      <th>1</th>\n",
       "      <td>[0.47198353280431776, 0.6738849259204285, 0.57...</td>\n",
       "      <td>[0, 0, 0, 0, 0, 0, 0, 0, 0, 0, 0, 0, 0, 0, 0, ...</td>\n",
       "      <td>[385, 661, 974, 1207, 1557, 1832, 2142, 2420, ...</td>\n",
       "    </tr>\n",
       "    <tr>\n",
       "      <th>2</th>\n",
       "      <td>[0.5275130125839788, 0.7764709089168801, 0.729...</td>\n",
       "      <td>[0, 0, 0, 0, 0, 0, 0, 0, 0, 0, 0, 0, 0, 0, 0, ...</td>\n",
       "      <td>[387, 674, 976, 1198, 1558, 1845, 2144, 2430, ...</td>\n",
       "    </tr>\n",
       "    <tr>\n",
       "      <th>3</th>\n",
       "      <td>[-0.4074087051006681, -0.6210424172689245, -0....</td>\n",
       "      <td>[0, 0, 0, 0, 0, 0, 0, 0, 0, 0, 0, 0, 0, 0, 0, ...</td>\n",
       "      <td>[389, 659, 976, 1202, 1559, 1833, 2146, 2415, ...</td>\n",
       "    </tr>\n",
       "    <tr>\n",
       "      <th>4</th>\n",
       "      <td>[0.6138668013405897, 0.9190979337867135, 0.891...</td>\n",
       "      <td>[0, 0, 0, 0, 0, 0, 0, 0, 0, 0, 0, 0, 0, 0, 0, ...</td>\n",
       "      <td>[389, 668, 977, 1202, 1560, 1839, 2145, 2418, ...</td>\n",
       "    </tr>\n",
       "  </tbody>\n",
       "</table>\n",
       "</div>"
      ],
      "text/plain": [
       "                                                 ecg  \\\n",
       "0  [-0.13405921413885352, -0.21474771537475584, -...   \n",
       "1  [0.47198353280431776, 0.6738849259204285, 0.57...   \n",
       "2  [0.5275130125839788, 0.7764709089168801, 0.729...   \n",
       "3  [-0.4074087051006681, -0.6210424172689245, -0....   \n",
       "4  [0.6138668013405897, 0.9190979337867135, 0.891...   \n",
       "\n",
       "                                           is_r_peak  \\\n",
       "0  [0, 0, 0, 0, 0, 0, 0, 0, 0, 0, 0, 0, 0, 0, 0, ...   \n",
       "1  [0, 0, 0, 0, 0, 0, 0, 0, 0, 0, 0, 0, 0, 0, 0, ...   \n",
       "2  [0, 0, 0, 0, 0, 0, 0, 0, 0, 0, 0, 0, 0, 0, 0, ...   \n",
       "3  [0, 0, 0, 0, 0, 0, 0, 0, 0, 0, 0, 0, 0, 0, 0, ...   \n",
       "4  [0, 0, 0, 0, 0, 0, 0, 0, 0, 0, 0, 0, 0, 0, 0, ...   \n",
       "\n",
       "                                              r_peak  \n",
       "0  [381, 674, 969, 1198, 1556, 1845, 2138, 2431, ...  \n",
       "1  [385, 661, 974, 1207, 1557, 1832, 2142, 2420, ...  \n",
       "2  [387, 674, 976, 1198, 1558, 1845, 2144, 2430, ...  \n",
       "3  [389, 659, 976, 1202, 1559, 1833, 2146, 2415, ...  \n",
       "4  [389, 668, 977, 1202, 1560, 1839, 2145, 2418, ...  "
      ]
     },
     "execution_count": 9,
     "metadata": {},
     "output_type": "execute_result"
    }
   ],
   "source": [
    "dataset.head()"
   ]
  },
  {
   "cell_type": "code",
   "execution_count": 10,
   "metadata": {},
   "outputs": [],
   "source": [
    "from basics import bandpass"
   ]
  },
  {
   "cell_type": "code",
   "execution_count": 11,
   "metadata": {},
   "outputs": [
    {
     "name": "stderr",
     "output_type": "stream",
     "text": [
      "C:\\ProgramData\\Anaconda3\\lib\\site-packages\\scipy\\signal\\_arraytools.py:45: FutureWarning: Using a non-tuple sequence for multidimensional indexing is deprecated; use `arr[tuple(seq)]` instead of `arr[seq]`. In the future this will be interpreted as an array index, `arr[np.array(seq)]`, which will result either in an error or a different result.\n",
      "  b = a[a_slice]\n"
     ]
    }
   ],
   "source": [
    "dataset['filtered_ecg'] = dataset[\"ecg\"].apply(lambda ecg: bandpass(ecg, 500, 1, 50))"
   ]
  },
  {
   "cell_type": "code",
   "execution_count": 12,
   "metadata": {},
   "outputs": [
    {
     "data": {
      "text/html": [
       "<div>\n",
       "<style scoped>\n",
       "    .dataframe tbody tr th:only-of-type {\n",
       "        vertical-align: middle;\n",
       "    }\n",
       "\n",
       "    .dataframe tbody tr th {\n",
       "        vertical-align: top;\n",
       "    }\n",
       "\n",
       "    .dataframe thead th {\n",
       "        text-align: right;\n",
       "    }\n",
       "</style>\n",
       "<table border=\"1\" class=\"dataframe\">\n",
       "  <thead>\n",
       "    <tr style=\"text-align: right;\">\n",
       "      <th></th>\n",
       "      <th>ecg</th>\n",
       "      <th>is_r_peak</th>\n",
       "      <th>r_peak</th>\n",
       "      <th>filtered_ecg</th>\n",
       "    </tr>\n",
       "  </thead>\n",
       "  <tbody>\n",
       "    <tr>\n",
       "      <th>0</th>\n",
       "      <td>[-0.13405921413885352, -0.21474771537475584, -...</td>\n",
       "      <td>[0, 0, 0, 0, 0, 0, 0, 0, 0, 0, 0, 0, 0, 0, 0, ...</td>\n",
       "      <td>[381, 674, 969, 1198, 1556, 1845, 2138, 2431, ...</td>\n",
       "      <td>[-0.2205334727973998, -0.2613449650310951, -0....</td>\n",
       "    </tr>\n",
       "    <tr>\n",
       "      <th>1</th>\n",
       "      <td>[0.47198353280431776, 0.6738849259204285, 0.57...</td>\n",
       "      <td>[0, 0, 0, 0, 0, 0, 0, 0, 0, 0, 0, 0, 0, 0, 0, ...</td>\n",
       "      <td>[385, 661, 974, 1207, 1557, 1832, 2142, 2420, ...</td>\n",
       "      <td>[-0.25661576852804396, -0.19684326135993602, -...</td>\n",
       "    </tr>\n",
       "    <tr>\n",
       "      <th>2</th>\n",
       "      <td>[0.5275130125839788, 0.7764709089168801, 0.729...</td>\n",
       "      <td>[0, 0, 0, 0, 0, 0, 0, 0, 0, 0, 0, 0, 0, 0, 0, ...</td>\n",
       "      <td>[387, 674, 976, 1198, 1558, 1845, 2144, 2430, ...</td>\n",
       "      <td>[0.39743390640005294, 0.49529574420845146, 0.5...</td>\n",
       "    </tr>\n",
       "    <tr>\n",
       "      <th>3</th>\n",
       "      <td>[-0.4074087051006681, -0.6210424172689245, -0....</td>\n",
       "      <td>[0, 0, 0, 0, 0, 0, 0, 0, 0, 0, 0, 0, 0, 0, 0, ...</td>\n",
       "      <td>[389, 659, 976, 1202, 1559, 1833, 2146, 2415, ...</td>\n",
       "      <td>[-0.5481683707876643, -0.6430956442287931, -0....</td>\n",
       "    </tr>\n",
       "    <tr>\n",
       "      <th>4</th>\n",
       "      <td>[0.6138668013405897, 0.9190979337867135, 0.891...</td>\n",
       "      <td>[0, 0, 0, 0, 0, 0, 0, 0, 0, 0, 0, 0, 0, 0, 0, ...</td>\n",
       "      <td>[389, 668, 977, 1202, 1560, 1839, 2145, 2418, ...</td>\n",
       "      <td>[0.7661361305497841, 0.8947251456675774, 1.006...</td>\n",
       "    </tr>\n",
       "  </tbody>\n",
       "</table>\n",
       "</div>"
      ],
      "text/plain": [
       "                                                 ecg  \\\n",
       "0  [-0.13405921413885352, -0.21474771537475584, -...   \n",
       "1  [0.47198353280431776, 0.6738849259204285, 0.57...   \n",
       "2  [0.5275130125839788, 0.7764709089168801, 0.729...   \n",
       "3  [-0.4074087051006681, -0.6210424172689245, -0....   \n",
       "4  [0.6138668013405897, 0.9190979337867135, 0.891...   \n",
       "\n",
       "                                           is_r_peak  \\\n",
       "0  [0, 0, 0, 0, 0, 0, 0, 0, 0, 0, 0, 0, 0, 0, 0, ...   \n",
       "1  [0, 0, 0, 0, 0, 0, 0, 0, 0, 0, 0, 0, 0, 0, 0, ...   \n",
       "2  [0, 0, 0, 0, 0, 0, 0, 0, 0, 0, 0, 0, 0, 0, 0, ...   \n",
       "3  [0, 0, 0, 0, 0, 0, 0, 0, 0, 0, 0, 0, 0, 0, 0, ...   \n",
       "4  [0, 0, 0, 0, 0, 0, 0, 0, 0, 0, 0, 0, 0, 0, 0, ...   \n",
       "\n",
       "                                              r_peak  \\\n",
       "0  [381, 674, 969, 1198, 1556, 1845, 2138, 2431, ...   \n",
       "1  [385, 661, 974, 1207, 1557, 1832, 2142, 2420, ...   \n",
       "2  [387, 674, 976, 1198, 1558, 1845, 2144, 2430, ...   \n",
       "3  [389, 659, 976, 1202, 1559, 1833, 2146, 2415, ...   \n",
       "4  [389, 668, 977, 1202, 1560, 1839, 2145, 2418, ...   \n",
       "\n",
       "                                        filtered_ecg  \n",
       "0  [-0.2205334727973998, -0.2613449650310951, -0....  \n",
       "1  [-0.25661576852804396, -0.19684326135993602, -...  \n",
       "2  [0.39743390640005294, 0.49529574420845146, 0.5...  \n",
       "3  [-0.5481683707876643, -0.6430956442287931, -0....  \n",
       "4  [0.7661361305497841, 0.8947251456675774, 1.006...  "
      ]
     },
     "execution_count": 12,
     "metadata": {},
     "output_type": "execute_result"
    }
   ],
   "source": [
    "dataset.head()"
   ]
  },
  {
   "cell_type": "code",
   "execution_count": 13,
   "metadata": {},
   "outputs": [],
   "source": [
    "import matplotlib.pyplot as plt"
   ]
  },
  {
   "cell_type": "code",
   "execution_count": 14,
   "metadata": {},
   "outputs": [],
   "source": [
    "from pylab import rcParams\n",
    "rcParams['figure.figsize'] = 20, 10"
   ]
  },
  {
   "cell_type": "code",
   "execution_count": 15,
   "metadata": {},
   "outputs": [
    {
     "data": {
      "text/plain": [
       "[<matplotlib.lines.Line2D at 0x22e21b72390>]"
      ]
     },
     "execution_count": 15,
     "metadata": {},
     "output_type": "execute_result"
    },
    {
     "data": {
      "image/png": "[encoded data removed]",
      "text/plain": [
       "<Figure size 1440x720 with 1 Axes>"
      ]
     },
     "metadata": {
      "needs_background": "light"
     },
     "output_type": "display_data"
    }
   ],
   "source": [
    "plt.plot(dataset[\"ecg\"][0])\n",
    "plt.plot(dataset[\"filtered_ecg\"][0])\n",
    "plt.plot(dataset[\"r_peak\"][0], dataset[\"filtered_ecg\"][0][dataset[\"r_peak\"][0]], 'o')"
   ]
  },
  {
   "cell_type": "code",
   "execution_count": 16,
   "metadata": {},
   "outputs": [
    {
     "data": {
      "text/plain": [
       "True"
      ]
     },
     "execution_count": 16,
     "metadata": {},
     "output_type": "execute_result"
    }
   ],
   "source": [
    "import torch\n",
    "torch.cuda.is_available()"
   ]
  },
  {
   "cell_type": "code",
   "execution_count": 17,
   "metadata": {},
   "outputs": [],
   "source": [
    "from torch.utils.data import Dataset"
   ]
  },
  {
   "cell_type": "code",
   "execution_count": 18,
   "metadata": {},
   "outputs": [],
   "source": [
    "SOS_TOKEN = -1\n",
    "EOS_TOKEN = 5001"
   ]
  },
  {
   "cell_type": "code",
   "execution_count": 19,
   "metadata": {},
   "outputs": [],
   "source": [
    "class EcgDataset(Dataset):\n",
    "    def __init__(self, data, crop_size = 5000, use_raw = True):\n",
    "        self.data = data\n",
    "        self.crop_size = crop_size\n",
    "        self.use_raw = use_raw\n",
    "    \n",
    "    def __len__(self):\n",
    "        return len(self.data)\n",
    "    \n",
    "    def __getitem__(self, idx):\n",
    "        try:\n",
    "            cut_point = 0 if self.crop_size >= 5000 else np.random.randint(5001 - self.crop_size)\n",
    "            ecg = self.data[\"ecg\" if self.use_raw else \"filtered_ecg\"].iloc[idx][cut_point:cut_point+self.crop_size]\n",
    "            points = np.array([point-cut_point  for point in self.data['r_peak'].iloc[idx] if point >= cut_point and point < cut_point + self.crop_size])\n",
    "            points_as_array = EOS_TOKEN * np.ones((self.crop_size,))\n",
    "            points_as_array[:len(points)] = points\n",
    "            labels = self.data[\"is_r_peak\"].iloc[idx][cut_point:cut_point+self.crop_size]\n",
    "        except:\n",
    "            print(idx)\n",
    "        return ecg, labels, points"
   ]
  },
  {
   "cell_type": "code",
   "execution_count": 20,
   "metadata": {},
   "outputs": [
    {
     "data": {
      "text/plain": [
       "array([-0.40740871, -0.62104242, -0.61362342, ...,  0.04569391,\n",
       "        0.05198878,  0.0639296 ])"
      ]
     },
     "execution_count": 20,
     "metadata": {},
     "output_type": "execute_result"
    }
   ],
   "source": [
    "dataset['ecg'].iloc[[2,3]].iloc[1]"
   ]
  },
  {
   "cell_type": "code",
   "execution_count": 21,
   "metadata": {},
   "outputs": [],
   "source": [
    "ecg_dataset = EcgDataset(dataset, 3000)"
   ]
  },
  {
   "cell_type": "code",
   "execution_count": 22,
   "metadata": {},
   "outputs": [
    {
     "data": {
      "text/plain": [
       "(array([-0.09364049, -0.11175372, -0.13740243, ...,  0.07537291,\n",
       "         0.07820179,  0.07087971]),\n",
       " array([0, 0, 0, ..., 0, 0, 0]),\n",
       " array([  22,  380,  669,  962, 1255, 1541, 1836, 2124, 2419, 2703, 2938]))"
      ]
     },
     "execution_count": 22,
     "metadata": {},
     "output_type": "execute_result"
    }
   ],
   "source": [
    "ecg_dataset[0]"
   ]
  },
  {
   "cell_type": "code",
   "execution_count": 23,
   "metadata": {},
   "outputs": [],
   "source": [
    "valid_size = 0.1\n",
    "random_seed = 7\n",
    "\n",
    "num_train = len(dataset)\n",
    "indices = list(range(num_train))\n",
    "split = int(np.floor(valid_size * num_train))\n",
    "\n",
    "\n",
    "np.random.seed(random_seed)\n",
    "np.random.shuffle(indices)\n",
    "\n",
    "train_idx, valid_idx = indices[split:], indices[:split]\n",
    "train_dataset = EcgDataset(dataset.iloc[train_idx], 3000)\n",
    "valid_dataset = EcgDataset(dataset.iloc[valid_idx], 3000)"
   ]
  },
  {
   "cell_type": "code",
   "execution_count": 24,
   "metadata": {},
   "outputs": [],
   "source": [
    "import torch.nn as nn\n",
    "from torch import optim\n",
    "import torch.nn.functional as F"
   ]
  },
  {
   "cell_type": "code",
   "execution_count": 25,
   "metadata": {},
   "outputs": [],
   "source": [
    "device = torch.device(\"cuda:0\" if torch.cuda.is_available() else \"cpu\")"
   ]
  },
  {
   "cell_type": "code",
   "execution_count": 26,
   "metadata": {},
   "outputs": [],
   "source": [
    "device = \"cpu\""
   ]
  },
  {
   "cell_type": "code",
   "execution_count": 27,
   "metadata": {},
   "outputs": [],
   "source": [
    "class Encoder(nn.Module):\n",
    "    def __init__(self, input_dim, hid_dim, n_layers, dropout):\n",
    "        super().__init__()\n",
    "        \n",
    "        self.input_dim = input_dim\n",
    "        self.hid_dim = hid_dim\n",
    "        self.n_layers = n_layers\n",
    "        self.dropout = dropout\n",
    "        \n",
    "        self.dense = nn.Linear(input_dim, hid_dim)\n",
    "        \n",
    "        self.rnn = nn.LSTM(hid_dim, hid_dim, n_layers, dropout = dropout)\n",
    "        \n",
    "        self.dropout = nn.Dropout(dropout)\n",
    "        \n",
    "    def init_hidden(self, batch_size):\n",
    "        return torch.zeros((self.n_layers, batch_size, self.hid_dim), dtype = torch.float)\n",
    "    \n",
    "    def init_cell(self, batch_size):\n",
    "        return torch.zeros((self.n_layers, batch_size, self.hid_dim), dtype = torch.float)\n",
    "        \n",
    "    def forward(self, src, h0, c0):\n",
    "        \n",
    "        #src = [seq len, batch size, input dim]\n",
    "        #print(src.shape)\n",
    "        \n",
    "        embedded = self.dropout(self.dense(src))\n",
    "        \n",
    "        #embedded = [ seq len, batch size, hid dim]\n",
    "        \n",
    "        #print(embedded.shape)\n",
    "        \n",
    "        outputs, (hidden, cell) = self.rnn(embedded, (h0, c0))\n",
    "        \n",
    "        \n",
    "        #print(outputs.shape)\n",
    "        \n",
    "        #outputs = [seq_len, batch,  hidden_size]\n",
    "        #hidden = [num_layers, batch, hidden_size]\n",
    "        #cell = [num_layers, batch, hidden_size]\n",
    "        \n",
    "        #outputs are always from the top hidden layer\n",
    "        \n",
    "        return hidden, cell"
   ]
  },
  {
   "cell_type": "code",
   "execution_count": 28,
   "metadata": {},
   "outputs": [],
   "source": [
    "encoder = Encoder(1, 16, 2, 0.01)"
   ]
  },
  {
   "cell_type": "code",
   "execution_count": 29,
   "metadata": {},
   "outputs": [],
   "source": [
    "ecg, labels, points = ecg_dataset[0]\n",
    "ecg = torch.tensor([ecg]).view(-1, 1, 1).float()\n",
    "points = torch.tensor([points]).view(-1, 1, 1).float()"
   ]
  },
  {
   "cell_type": "code",
   "execution_count": 30,
   "metadata": {},
   "outputs": [],
   "source": [
    "h0 = encoder.init_hidden(1)\n",
    "c0 = encoder.init_cell(1)"
   ]
  },
  {
   "cell_type": "code",
   "execution_count": 31,
   "metadata": {},
   "outputs": [],
   "source": [
    "hidden, cell = encoder(ecg, h0, c0)"
   ]
  },
  {
   "cell_type": "code",
   "execution_count": 32,
   "metadata": {},
   "outputs": [
    {
     "data": {
      "text/plain": [
       "torch.Size([2, 1, 16])"
      ]
     },
     "execution_count": 32,
     "metadata": {},
     "output_type": "execute_result"
    }
   ],
   "source": [
    "hidden.shape"
   ]
  },
  {
   "cell_type": "code",
   "execution_count": 33,
   "metadata": {},
   "outputs": [],
   "source": [
    "class Decoder(nn.Module):\n",
    "    def __init__(self, output_dim, hid_dim, n_layers, dropout):\n",
    "        super().__init__()\n",
    "\n",
    "        self.hid_dim = hid_dim\n",
    "        self.output_dim = output_dim\n",
    "        self.n_layers = n_layers\n",
    "        self.dropout = dropout\n",
    "        \n",
    "        self.dense_in = nn.Linear(output_dim, hid_dim)\n",
    "        \n",
    "        self.rnn = nn.LSTM(hid_dim, hid_dim, n_layers, dropout = dropout)\n",
    "        \n",
    "        self.dense_out = nn.Linear(hid_dim, output_dim)\n",
    "        \n",
    "        self.dropout = nn.Dropout(dropout)\n",
    "        \n",
    "    def forward(self, input, hidden, cell):\n",
    "        \n",
    "        #input = [batch size, output_size]\n",
    "        #hidden = [n layers, batch size, hid dim]\n",
    "        #cell = [n layers, batch size, hid dim]\n",
    "        \n",
    "        #n directions in the decoder will both always be 1, therefore:\n",
    "        #hidden = [n layers, batch size, hid dim]\n",
    "        #context = [n layers, batch size, hid dim]\n",
    "        \n",
    "        input = input.unsqueeze(0)\n",
    "        #print(input.shape)\n",
    "        \n",
    "        #input = [1, batch size, output_size]\n",
    "        \n",
    "        embedded = self.dropout(self.dense_in(input))\n",
    "        #print(embedded.shape)\n",
    "        \n",
    "        #embedded = [1, batch size, hid dim]\n",
    "                \n",
    "        output, (hidden, cell) = self.rnn(embedded, (hidden, cell))\n",
    "        \n",
    "        #output = [1, batch size, hid dim]\n",
    "        #hidden = [n layers, batch size, hid dim]\n",
    "        #cell = [n layers, batch size, hid dim]\n",
    "        \n",
    "        prediction = self.dense_out(output.squeeze(0))\n",
    "        \n",
    "        #prediction = [batch size, output dim]\n",
    "        \n",
    "        return prediction, hidden, cell"
   ]
  },
  {
   "cell_type": "code",
   "execution_count": 34,
   "metadata": {},
   "outputs": [],
   "source": [
    "decoder = Decoder(1, 16, 2, 0.01)"
   ]
  },
  {
   "cell_type": "code",
   "execution_count": 35,
   "metadata": {},
   "outputs": [],
   "source": [
    "pred, hidden2, cell2 = decoder(points[0], hidden, cell)"
   ]
  },
  {
   "cell_type": "code",
   "execution_count": 36,
   "metadata": {},
   "outputs": [
    {
     "data": {
      "text/plain": [
       "tensor([[-0.0837]], grad_fn=<AddmmBackward>)"
      ]
     },
     "execution_count": 36,
     "metadata": {},
     "output_type": "execute_result"
    }
   ],
   "source": [
    "pred"
   ]
  },
  {
   "cell_type": "code",
   "execution_count": 37,
   "metadata": {},
   "outputs": [
    {
     "data": {
      "text/plain": [
       "torch.Size([2, 1, 16])"
      ]
     },
     "execution_count": 37,
     "metadata": {},
     "output_type": "execute_result"
    }
   ],
   "source": [
    "hidden2.shape"
   ]
  },
  {
   "cell_type": "code",
   "execution_count": 38,
   "metadata": {},
   "outputs": [],
   "source": [
    "import random"
   ]
  },
  {
   "cell_type": "code",
   "execution_count": 49,
   "metadata": {},
   "outputs": [],
   "source": [
    "class Seq2Seq(nn.Module):\n",
    "    def __init__(self, encoder, decoder, device):\n",
    "        super().__init__()\n",
    "        \n",
    "        self.encoder = encoder\n",
    "        self.decoder = decoder\n",
    "        self.device = device\n",
    "        \n",
    "        assert encoder.hid_dim == decoder.hid_dim, \\\n",
    "            \"Hidden dimensions of encoder and decoder must be equal!\"\n",
    "        assert encoder.n_layers == decoder.n_layers, \\\n",
    "            \"Encoder and decoder must have equal number of layers!\"\n",
    "        \n",
    "    def forward(self, src, trg, teacher_forcing_ratio = 0.5):\n",
    "        \n",
    "        #src = [src seq len, batch size, input dim]\n",
    "        #trg = [trg seq len, batch size, output dim]\n",
    "        #teacher_forcing_ratio is probability to use teacher forcing\n",
    "        #e.g. if teacher_forcing_ratio is 0.75 we use ground-truth inputs 75% of the time\n",
    "        \n",
    "        src = src.to(self.device)\n",
    "        trg = trg.to(self.device)\n",
    "        \n",
    "        batch_size = trg.shape[1]\n",
    "        output_dim = trg.shape[2]\n",
    "        max_len = trg.shape[0]\n",
    "        \n",
    "        #encoder init states\n",
    "        h0 = encoder.init_hidden(batch_size).to(self.device)\n",
    "        c0 = encoder.init_cell(batch_size).to(self.device)\n",
    "        \n",
    "        #tensor to store decoder outputs\n",
    "        outputs = torch.zeros(max_len, batch_size, output_dim).to(self.device)\n",
    "        \n",
    "        #last hidden state of the encoder is used as the initial hidden state of the decoder\n",
    "        hidden, cell = self.encoder(src, h0, c0)\n",
    "        \n",
    "        #first input to the decoder is the <sos> tokens\n",
    "        input = SOS_TOKEN * torch.ones(batch_size, output_dim).to(self.device)\n",
    "        \n",
    "        for t in range(0, max_len):\n",
    "            \n",
    "            output, hidden, cell = self.decoder(input, hidden, cell)\n",
    "            outputs[t] = output\n",
    "            teacher_force = random.random() < teacher_forcing_ratio\n",
    "            \n",
    "            input = (trg[t] if teacher_force else output.round().detach())\n",
    "        \n",
    "        return outputs"
   ]
  },
  {
   "cell_type": "code",
   "execution_count": 50,
   "metadata": {},
   "outputs": [
    {
     "data": {
      "text/plain": [
       "torch.Size([10, 1, 1])"
      ]
     },
     "execution_count": 50,
     "metadata": {},
     "output_type": "execute_result"
    }
   ],
   "source": [
    "points.shape"
   ]
  },
  {
   "cell_type": "code",
   "execution_count": 51,
   "metadata": {},
   "outputs": [],
   "source": [
    "seq2seq = Seq2Seq(encoder, decoder, \"cpu\")"
   ]
  },
  {
   "cell_type": "code",
   "execution_count": 52,
   "metadata": {},
   "outputs": [
    {
     "data": {
      "text/plain": [
       "tensor([[[4.2920]],\n",
       "\n",
       "        [[4.4989]],\n",
       "\n",
       "        [[4.5330]],\n",
       "\n",
       "        [[4.5370]],\n",
       "\n",
       "        [[4.5402]],\n",
       "\n",
       "        [[4.5193]],\n",
       "\n",
       "        [[4.5384]],\n",
       "\n",
       "        [[4.5409]],\n",
       "\n",
       "        [[4.5424]],\n",
       "\n",
       "        [[4.5429]]], grad_fn=<CopySlices>)"
      ]
     },
     "execution_count": 52,
     "metadata": {},
     "output_type": "execute_result"
    }
   ],
   "source": [
    "seq2seq(ecg, points, 0.3)"
   ]
  },
  {
   "cell_type": "code",
   "execution_count": 53,
   "metadata": {},
   "outputs": [],
   "source": [
    "encoder = Encoder(1, 16, 2, 0.01)\n",
    "decoder = Decoder(1, 16, 2 , 0.01)\n",
    "model = Seq2Seq(encoder, decoder, device)"
   ]
  },
  {
   "cell_type": "code",
   "execution_count": 54,
   "metadata": {},
   "outputs": [],
   "source": [
    "optimizer = optim.Adam(model.parameters())\n",
    "criterion = nn.MSELoss()"
   ]
  },
  {
   "cell_type": "code",
   "execution_count": 55,
   "metadata": {},
   "outputs": [],
   "source": [
    "def train(model, dataset, n_epoch, optimizer, criterion, tfr=0.0, print_every = 100):\n",
    "    model.train()\n",
    "    total_step = len(dataset)\n",
    "    for epoch in range(n_epoch):\n",
    "        epoch_loss = 0\n",
    "        \n",
    "        indices = list(range(total_step))\n",
    "        np.random.shuffle(indices)\n",
    "\n",
    "        for i, ind in enumerate(indices):\n",
    "            \n",
    "            ecg, labels, points = dataset[ind]\n",
    "            src = torch.tensor([ecg]).view(-1, 1, 1).float()\n",
    "            trg = torch.tensor([points]).view(-1, 1, 1).float()\n",
    "\n",
    "            optimizer.zero_grad()\n",
    "\n",
    "            output = model(src, trg, tfr)\n",
    "\n",
    "            loss = criterion(output, trg)\n",
    "\n",
    "            optimizer.zero_grad()\n",
    "            loss.backward()\n",
    "            optimizer.step()\n",
    "            \n",
    "            if (i % print_every == 0):\n",
    "                print ('Epoch [{}/{}], Step [{}/{}], Loss: {:.4f}' \n",
    "                   .format(epoch+1, n_epoch, i+1, total_step, loss.item()))\n",
    "                print(\"True: \", points)\n",
    "                print(\"Pred: \", output.squeeze())\n",
    "        \n",
    "    \n",
    "    "
   ]
  },
  {
   "cell_type": "code",
   "execution_count": null,
   "metadata": {},
   "outputs": [
    {
     "name": "stdout",
     "output_type": "stream",
     "text": [
      "Epoch [1/5], Step [1/1800], Loss: 3183305.2500\n",
      "True:  [  51  474  864 1248 1744 2121 2549 2984]\n",
      "Pred:  tensor([0.2791, 0.2767, 0.2752, 0.2686, 0.2837, 0.2829, 0.2779, 0.2726],\n",
      "       grad_fn=<SqueezeBackward0>)\n",
      "Epoch [1/5], Step [11/1800], Loss: 2717766.5000\n",
      "True:  [  60  202  374  519  687  835 1041 1182 1312 1499 1622 1747 1956 2163\n",
      " 2351 2514 2636 2808]\n",
      "Pred:  tensor([0.3712, 0.3720, 0.3717, 0.3542, 0.3813, 0.3914, 0.3901, 0.3864, 0.3933,\n",
      "        0.4065, 0.4054, 0.4121, 0.4091, 0.4013, 0.3939, 0.3867, 0.4042, 0.4152],\n",
      "       grad_fn=<SqueezeBackward0>)\n",
      "Epoch [1/5], Step [21/1800], Loss: 3037626.0000\n",
      "True:  [  64  272  472  642  811  984 1227 1391 1561 1741 1952 2179 2398 2581\n",
      " 2768 2958]\n",
      "Pred:  tensor([0.5214, 0.5315, 0.5368, 0.5415, 0.5389, 0.5490, 0.5585, 0.5666, 0.5593,\n",
      "        0.5614, 0.5609, 0.5656, 0.5710, 0.5733, 0.5778, 0.5732],\n",
      "       grad_fn=<SqueezeBackward0>)\n",
      "Epoch [1/5], Step [31/1800], Loss: 2756254.0000\n",
      "True:  [ 115  315  655  853 1189 1389 1727 1927 2264 2463 2801]\n",
      "Pred:  tensor([0.7817, 0.8121, 0.8304, 0.8397, 0.8459, 0.8499, 0.8516, 0.8544, 0.8718,\n",
      "        0.8604, 0.8675], grad_fn=<SqueezeBackward0>)\n",
      "Epoch [1/5], Step [41/1800], Loss: 3308911.2500\n",
      "True:  [ 289  621  952 1281 1609 1937 2267 2598 2928]\n",
      "Pred:  tensor([1.1723, 1.2810, 1.3093, 1.3534, 1.3457, 1.3576, 1.3615, 1.3608, 1.3840],\n",
      "       grad_fn=<SqueezeBackward0>)\n",
      "Epoch [1/5], Step [51/1800], Loss: 2926750.0000\n",
      "True:  [ 219  801 1026 1612 1834 2415 2644]\n",
      "Pred:  tensor([1.6557, 1.8169, 1.8618, 1.8997, 1.9329, 1.9129, 1.9220],\n",
      "       grad_fn=<SqueezeBackward0>)\n",
      "Epoch [1/5], Step [61/1800], Loss: 3402522.5000\n",
      "True:  [ 133  747 1083 1675 2020 2578 2931]\n",
      "Pred:  tensor([2.1907, 2.3583, 2.3568, 2.4001, 2.4215, 2.4304, 2.4348],\n",
      "       grad_fn=<SqueezeBackward0>)\n",
      "Epoch [1/5], Step [71/1800], Loss: 3014634.0000\n",
      "True:  [  68  254  453  854 1039 1196 1351 1566 1751 1900 2069 2243 2493 2694\n",
      " 2846]\n",
      "Pred:  tensor([2.6739, 2.8449, 2.8877, 2.8499, 2.9076, 2.8906, 2.9133, 2.9164, 2.8929,\n",
      "        2.8913, 2.9142, 2.8929, 2.9144, 2.8929, 2.8914],\n",
      "       grad_fn=<SqueezeBackward0>)\n",
      "Epoch [1/5], Step [81/1800], Loss: 2857447.2500\n",
      "True:  [ 350  733 1117 1503 1891 2278 2672]\n",
      "Pred:  tensor([3.1035, 3.2515, 3.2822, 3.2891, 3.2907, 3.2905, 3.2902],\n",
      "       grad_fn=<SqueezeBackward0>)\n",
      "Epoch [1/5], Step [91/1800], Loss: 2884600.0000\n",
      "True:  [ 389  726 1056 1281 1729 2062 2399 2595]\n",
      "Pred:  tensor([3.4403, 3.6114, 3.6026, 3.6237, 3.6272, 3.6229, 3.5887, 3.6211],\n",
      "       grad_fn=<SqueezeBackward0>)\n",
      "Epoch [1/5], Step [101/1800], Loss: 3022228.2500\n",
      "True:  [  73  407  670 1037 1407 1846 2219 2622 2902]\n",
      "Pred:  tensor([3.7880, 3.8868, 3.9157, 3.9235, 3.9002, 3.9074, 3.9198, 3.9242, 3.9051],\n",
      "       grad_fn=<SqueezeBackward0>)\n",
      "Epoch [1/5], Step [111/1800], Loss: 2935380.0000\n",
      "True:  [ 140  395  668  943 1217 1490 1753 2031 2300 2573 2847]\n",
      "Pred:  tensor([4.0676, 4.1729, 4.1865, 4.1887, 4.1892, 4.1958, 4.1896, 4.1861, 4.1893,\n",
      "        4.1896, 4.1896], grad_fn=<SqueezeBackward0>)\n",
      "Epoch [1/5], Step [121/1800], Loss: 3078865.5000\n",
      "True:  [ 187  381  606  956 1157 1374 1763 2203 2397 2612 2966]\n",
      "Pred:  tensor([4.3329, 4.4240, 4.4391, 4.4356, 4.4404, 4.4246, 4.4402, 4.4361, 4.4247,\n",
      "        4.4400, 4.4361], grad_fn=<SqueezeBackward0>)\n",
      "Epoch [1/5], Step [131/1800], Loss: 2797768.7500\n",
      "True:  [ 282  627  976 1204 1699 2039 2258 2734]\n",
      "Pred:  tensor([4.5756, 4.6508, 4.6694, 4.6709, 4.6712, 4.6651, 4.6710, 4.6713],\n",
      "       grad_fn=<SqueezeBackward0>)\n",
      "Epoch [1/5], Step [141/1800], Loss: 2713160.2500\n",
      "True:  [ 172  533  896 1259 1618 1977 2331 2675]\n",
      "Pred:  tensor([4.8075, 4.8824, 4.8931, 4.8958, 4.8942, 4.8847, 4.8942, 4.8960],\n",
      "       grad_fn=<SqueezeBackward0>)\n",
      "Epoch [1/5], Step [151/1800], Loss: 3252126.2500\n",
      "True:  [ 463  869 1082 1679 2085 2294 2883]\n",
      "Pred:  tensor([5.0289, 5.1078, 5.1105, 5.1113, 5.0986, 5.1112, 5.1116],\n",
      "       grad_fn=<SqueezeBackward0>)\n",
      "Epoch [1/5], Step [161/1800], Loss: 2709168.5000\n",
      "True:  [ 426  864 1294 1565 2152 2582]\n",
      "Pred:  tensor([5.2548, 5.3268, 5.3289, 5.3295, 5.3297, 5.3306],\n",
      "       grad_fn=<SqueezeBackward0>)\n",
      "Epoch [1/5], Step [171/1800], Loss: 2554299.5000\n",
      "True:  [ 107  402  854 1144 1596 1884 2319 2621]\n",
      "Pred:  tensor([5.4571, 5.5368, 5.5417, 5.5424, 5.5421, 5.5358, 5.5328, 5.5420],\n",
      "       grad_fn=<SqueezeBackward0>)\n",
      "Epoch [1/5], Step [181/1800], Loss: 3171760.7500\n",
      "True:  [ 132  500  749 1116 1369 1732 1989 2346 2598 2956]\n",
      "Pred:  tensor([5.6847, 5.7387, 5.7469, 5.7470, 5.7472, 5.7474, 5.7471, 5.7422, 5.7472,\n",
      "        5.7474], grad_fn=<SqueezeBackward0>)\n",
      "Epoch [1/5], Step [191/1800], Loss: 3240247.7500\n",
      "True:  [ 111  481  847 1198 1543 1900 2264 2630 2983]\n",
      "Pred:  tensor([5.8954, 5.9485, 5.9512, 5.9516, 5.9516, 5.9517, 5.9517, 5.9517, 5.9517],\n",
      "       grad_fn=<SqueezeBackward0>)\n",
      "Epoch [1/5], Step [201/1800], Loss: 2591158.7500\n",
      "True:  [ 230  535  826 1246 1612 1893 2208 2690]\n",
      "Pred:  tensor([6.1031, 6.1525, 6.1548, 6.1561, 6.1552, 6.1458, 6.1551, 6.1552],\n",
      "       grad_fn=<SqueezeBackward0>)\n",
      "Epoch [1/5], Step [211/1800], Loss: 2999901.5000\n",
      "True:  [ 140  438  786 1088 1512 1819 2138 2564 2901]\n",
      "Pred:  tensor([6.3043, 6.3508, 6.3538, 6.3540, 6.3541, 6.3533, 6.3533, 6.3533, 6.3533],\n",
      "       grad_fn=<SqueezeBackward0>)\n",
      "Epoch [1/5], Step [221/1800], Loss: 2866590.2500\n",
      "True:  [ 192  424  730 1144 1623 2070 2446 2850]\n",
      "Pred:  tensor([6.5040, 6.5472, 6.5490, 6.5491, 6.5498, 6.5492, 6.5492, 6.5492],\n",
      "       grad_fn=<SqueezeBackward0>)\n",
      "Epoch [1/5], Step [231/1800], Loss: 2766505.7500\n",
      "True:  [  51  385  655  913 1173 1784 2291 2522 2736]\n",
      "Pred:  tensor([6.7014, 6.7419, 6.7435, 6.7437, 6.7443, 6.7443, 6.7438, 6.7437, 6.7437],\n",
      "       grad_fn=<SqueezeBackward0>)\n",
      "Epoch [1/5], Step [241/1800], Loss: 3092859.7500\n",
      "True:  [   0  267  540  817 1087 1307 1631 1904 2180 2450 2725 2996]\n",
      "Pred:  tensor([6.8978, 6.9274, 6.9375, 6.9383, 6.9378, 6.9378, 6.9383, 6.9380, 6.9321,\n",
      "        6.9320, 6.9383, 6.9378], grad_fn=<SqueezeBackward0>)\n",
      "Epoch [1/5], Step [251/1800], Loss: 2545839.2500\n",
      "True:  [ 119  538  950 1361 1783 2207 2617]\n",
      "Pred:  tensor([7.0922, 7.1288, 7.1300, 7.1296, 7.1307, 7.1307, 7.1302],\n",
      "       grad_fn=<SqueezeBackward0>)\n",
      "Epoch [1/5], Step [261/1800], Loss: 3225589.7500\n",
      "True:  [ 359  918 1257 1888 2276 2863]\n",
      "Pred:  tensor([7.2846, 7.3194, 7.3154, 7.3155, 7.3207, 7.3208],\n",
      "       grad_fn=<SqueezeBackward0>)\n",
      "Epoch [1/5], Step [271/1800], Loss: 3022805.0000\n",
      "True:  [ 107  419  729 1044 1352 1655 1968 2277 2580 2892]\n",
      "Pred:  tensor([7.4759, 7.5100, 7.5105, 7.5110, 7.5107, 7.5069, 7.5107, 7.5107, 7.5107,\n",
      "        7.5107], grad_fn=<SqueezeBackward0>)\n",
      "Epoch [1/5], Step [281/1800], Loss: 2863610.0000\n",
      "True:  [  30  208  385  562  739  915 1092 1270 1447 1624 1799 1977 2154 2378\n",
      " 2509 2728 2908]\n",
      "Pred:  tensor([7.6683, 7.7002, 7.7015, 7.7013, 7.7013, 7.6984, 7.7016, 7.7013, 7.7013,\n",
      "        7.7013, 7.7016, 7.7013, 7.7013, 7.7013, 7.7013, 7.7009, 7.7016],\n",
      "       grad_fn=<SqueezeBackward0>)\n",
      "Epoch [1/5], Step [291/1800], Loss: 3000232.2500\n",
      "True:  [ 288  702 1131 1559 1953 2361 2738]\n",
      "Pred:  tensor([7.8618, 7.8873, 7.8869, 7.8927, 7.8930, 7.8930, 7.8928],\n",
      "       grad_fn=<SqueezeBackward0>)\n",
      "Epoch [1/5], Step [301/1800], Loss: 2710730.2500\n",
      "True:  [ 218  567  920 1269 1611 1967 2326 2678]\n",
      "Pred:  tensor([8.0556, 8.0840, 8.0848, 8.0846, 8.0850, 8.0850, 8.0808, 8.0849],\n",
      "       grad_fn=<SqueezeBackward0>)\n",
      "Epoch [1/5], Step [311/1800], Loss: 2921499.0000\n",
      "True:  [  80  201  400  554  739  912 1097 1240 1375 1613 1875 2040 2245 2380\n",
      " 2541 2705 2966]\n",
      "Pred:  tensor([8.2485, 8.2689, 8.2764, 8.2763, 8.2763, 8.2763, 8.2763, 8.2765, 8.2763,\n",
      "        8.2763, 8.2763, 8.2763, 8.2763, 8.2765, 8.2723, 8.2765, 8.2763],\n",
      "       grad_fn=<SqueezeBackward0>)\n",
      "Epoch [1/5], Step [321/1800], Loss: 2620202.7500\n",
      "True:  [ 115  444  761 1083 1379 1757 2081 2283 2702]\n",
      "Pred:  tensor([8.4364, 8.4626, 8.4636, 8.4636, 8.4636, 8.4630, 8.4582, 8.4634, 8.4637],\n",
      "       grad_fn=<SqueezeBackward0>)\n",
      "Epoch [1/5], Step [331/1800], Loss: 3153055.0000\n",
      "True:  [ 151  374  518  778 1006 1231 1456 1680 1824 2084 2314 2538 2762 2986]\n",
      "Pred:  tensor([8.6213, 8.6465, 8.6468, 8.6440, 8.6469, 8.6383, 8.6400, 8.6462, 8.6467,\n",
      "        8.6470, 8.6469, 8.6434, 8.6417, 8.6470], grad_fn=<SqueezeBackward0>)\n",
      "Epoch [1/5], Step [341/1800], Loss: 2978523.7500\n",
      "True:  [  99  272  515  679  849 1029 1240 1467 1686 1869 2056 2246 2573 2773\n",
      " 2979]\n",
      "Pred:  tensor([8.7947, 8.8310, 8.8317, 8.8318, 8.8319, 8.8318, 8.8318, 8.8318, 8.8318,\n",
      "        8.8318, 8.8318, 8.8318, 8.8269, 8.8269, 8.8318],\n",
      "       grad_fn=<SqueezeBackward0>)\n"
     ]
    },
    {
     "name": "stdout",
     "output_type": "stream",
     "text": [
      "Epoch [1/5], Step [351/1800], Loss: 2761086.5000\n",
      "True:  [ 185  522  860 1199 1532 1701 2053 2392 2725]\n",
      "Pred:  tensor([8.9846, 9.0148, 9.0100, 9.0156, 9.0157, 9.0155, 9.0094, 9.0155, 9.0116],\n",
      "       grad_fn=<SqueezeBackward0>)\n",
      "Epoch [1/5], Step [361/1800], Loss: 3054098.2500\n",
      "True:  [ 274  489  992 1352 1717 2087 2465 2855]\n",
      "Pred:  tensor([9.1753, 9.1976, 9.1982, 9.1937, 9.1929, 9.1982, 9.1983, 9.1983],\n",
      "       grad_fn=<SqueezeBackward0>)\n",
      "Epoch [1/5], Step [371/1800], Loss: 2682049.7500\n",
      "True:  [ 189  545  897 1245 1595 1953 2319 2692]\n",
      "Pred:  tensor([9.3593, 9.3810, 9.3813, 9.3814, 9.3814, 9.3814, 9.3815, 9.3814],\n",
      "       grad_fn=<SqueezeBackward0>)\n",
      "Epoch [1/5], Step [381/1800], Loss: 3212008.0000\n",
      "True:  [ 138  594  826 1280 1513 1968 2202 2662 2896]\n",
      "Pred:  tensor([9.5450, 9.5658, 9.5663, 9.5665, 9.5664, 9.5664, 9.5664, 9.5665, 9.5665],\n",
      "       grad_fn=<SqueezeBackward0>)\n",
      "Epoch [1/5], Step [391/1800], Loss: 2823965.7500\n",
      "True:  [ 139  403  669  935 1202 1470 1736 2001 2269 2499 2803]\n",
      "Pred:  tensor([9.7309, 9.7484, 9.7519, 9.7506, 9.7520, 9.7519, 9.7519, 9.7519, 9.7520,\n",
      "        9.7520, 9.7519], grad_fn=<SqueezeBackward0>)\n",
      "Epoch [1/5], Step [401/1800], Loss: 2415626.5000\n",
      "True:  [  35  530 1046 1560 2065 2564]\n",
      "Pred:  tensor([9.9159, 9.9352, 9.9356, 9.9356, 9.9357, 9.9356],\n",
      "       grad_fn=<SqueezeBackward0>)\n",
      "Epoch [1/5], Step [411/1800], Loss: 2374558.2500\n",
      "True:  [ 341  883 1169 1912 2468]\n",
      "Pred:  tensor([10.0970, 10.1156, 10.1160, 10.1161, 10.1161],\n",
      "       grad_fn=<SqueezeBackward0>)\n",
      "Epoch [1/5], Step [421/1800], Loss: 2766990.5000\n",
      "True:  [ 157  335  571  867 1106 1395 1608 1815 2065 2269 2478 2783]\n",
      "Pred:  tensor([10.2743, 10.2971, 10.2946, 10.2974, 10.2975, 10.2975, 10.2975, 10.2908,\n",
      "        10.2963, 10.2929, 10.2974, 10.2974], grad_fn=<SqueezeBackward0>)\n",
      "Epoch [1/5], Step [431/1800], Loss: 2907927.5000\n",
      "True:  [  97  540  996 1482 1922 2350 2804]\n",
      "Pred:  tensor([10.4634, 10.4810, 10.4812, 10.4812, 10.4813, 10.4813, 10.4813],\n",
      "       grad_fn=<SqueezeBackward0>)\n",
      "Epoch [1/5], Step [441/1800], Loss: 2356383.7500\n",
      "True:  [ 145  393  970 1237 1771 2209 2455]\n",
      "Pred:  tensor([10.6470, 10.6644, 10.6647, 10.6648, 10.6647, 10.6648, 10.6648],\n",
      "       grad_fn=<SqueezeBackward0>)\n",
      "Epoch [1/5], Step [451/1800], Loss: 3163277.7500\n",
      "True:  [  32  557 1239 1780 2368 2924]\n",
      "Pred:  tensor([10.8288, 10.8456, 10.8459, 10.8460, 10.8460, 10.8420],\n",
      "       grad_fn=<SqueezeBackward0>)\n",
      "Epoch [1/5], Step [461/1800], Loss: 3341363.7500\n",
      "True:  [ 286  734 1179 1624 2065 2491 2919]\n",
      "Pred:  tensor([11.0098, 11.0259, 11.0263, 11.0263, 11.0263, 11.0263, 11.0263],\n",
      "       grad_fn=<SqueezeBackward0>)\n",
      "Epoch [1/5], Step [471/1800], Loss: 2480592.2500\n",
      "True:  [  36  313  829 1096 1400 1977 2255 2672]\n",
      "Pred:  tensor([11.1934, 11.2082, 11.2091, 11.2093, 11.2094, 11.2095, 11.2094, 11.2064],\n",
      "       grad_fn=<SqueezeBackward0>)\n",
      "Epoch [1/5], Step [481/1800], Loss: 3412773.2500\n",
      "True:  [ 204  565  795 1288 1654 1889 2381 2750 2976]\n",
      "Pred:  tensor([11.3727, 11.3877, 11.3880, 11.3881, 11.3880, 11.3880, 11.3880, 11.3880,\n",
      "        11.3880], grad_fn=<SqueezeBackward0>)\n",
      "Epoch [1/5], Step [491/1800], Loss: 3004061.2500\n",
      "True:  [ 330  585 1166 1471 2015 2325 2799]\n",
      "Pred:  tensor([11.5516, 11.5663, 11.5665, 11.5666, 11.5644, 11.5665, 11.5635],\n",
      "       grad_fn=<SqueezeBackward0>)\n",
      "Epoch [1/5], Step [501/1800], Loss: 2908380.5000\n",
      "True:  [ 159  447  728 1022 1307 1609 1929 2232 2549 2852]\n",
      "Pred:  tensor([11.7306, 11.7449, 11.7452, 11.7452, 11.7452, 11.7383, 11.7453, 11.7452,\n",
      "        11.7453, 11.7453], grad_fn=<SqueezeBackward0>)\n"
     ]
    }
   ],
   "source": [
    "train(model, train_dataset, 5, optimizer, criterion, tfr=0.3, print_every=10)"
   ]
  },
  {
   "cell_type": "code",
   "execution_count": null,
   "metadata": {},
   "outputs": [],
   "source": []
  }
 ],
 "metadata": {
  "kernelspec": {
   "display_name": "Python 3",
   "language": "python",
   "name": "python3"
  },
  "language_info": {
   "codemirror_mode": {
    "name": "ipython",
    "version": 3
   },
   "file_extension": ".py",
   "mimetype": "text/x-python",
   "name": "python",
   "nbconvert_exporter": "python",
   "pygments_lexer": "ipython3",
   "version": "3.6.7"
  }
 },
 "nbformat": 4,
 "nbformat_minor": 2
}
