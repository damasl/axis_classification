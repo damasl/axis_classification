{
 "cells": [
  {
   "cell_type": "code",
   "execution_count": 1,
   "metadata": {},
   "outputs": [
    {
     "data": {
      "text/plain": [
       "True"
      ]
     },
     "execution_count": 1,
     "metadata": {},
     "output_type": "execute_result"
    }
   ],
   "source": [
    "import torch\n",
    "torch.cuda.is_available()"
   ]
  },
  {
   "cell_type": "code",
   "execution_count": 2,
   "metadata": {},
   "outputs": [],
   "source": [
    "import pandas as pd"
   ]
  },
  {
   "cell_type": "code",
   "execution_count": 3,
   "metadata": {},
   "outputs": [],
   "source": [
    "from scipy import signal\n",
    "import numpy as np\n",
    "import matplotlib.pyplot as plt"
   ]
  },
  {
   "cell_type": "code",
   "execution_count": 4,
   "metadata": {},
   "outputs": [],
   "source": [
    "data = pd.read_csv(\"X_train.csv\")"
   ]
  },
  {
   "cell_type": "code",
   "execution_count": 5,
   "metadata": {},
   "outputs": [],
   "source": [
    "answers = pd.read_csv(\"y_train.csv\")"
   ]
  },
  {
   "cell_type": "code",
   "execution_count": 6,
   "metadata": {},
   "outputs": [],
   "source": [
    "data = (pd.merge(data ,answers, on = \"Unnamed: 0\"))\n",
    "data['age'] = (data['age'] - data['age'].mean(axis = 0))/data['age'].std(axis = 0)"
   ]
  },
  {
   "cell_type": "code",
   "execution_count": 7,
   "metadata": {},
   "outputs": [],
   "source": [
    "data = data.drop( [\"Unnamed: 0\"], axis = 1)"
   ]
  },
  {
   "cell_type": "code",
   "execution_count": 8,
   "metadata": {},
   "outputs": [],
   "source": [
    "window_size = 64\n",
    "overlap = 32   "
   ]
  },
  {
   "cell_type": "code",
   "execution_count": 9,
   "metadata": {},
   "outputs": [],
   "source": [
    "def get_spectrogramm(ecg, should_log = False, show = False):\n",
    "    f,t,x = signal.spectral.spectrogram(\n",
    "                        ecg, \n",
    "                        window=(\"tukey\", 0.25),\n",
    "                        nperseg=window_size, \n",
    "                        noverlap=overlap, \n",
    "                        return_onesided=True) \n",
    "    \n",
    "            \n",
    "    if (should_log):    \n",
    "        x = np.log(x + 1e-8)\n",
    "    x = x.astype(np.float32)\n",
    "    \n",
    "    if (show):\n",
    "        plt.pcolormesh(t, f, x)\n",
    "\n",
    "    return x"
   ]
  },
  {
   "cell_type": "code",
   "execution_count": 10,
   "metadata": {},
   "outputs": [
    {
     "data": {
      "image/png": "[encoded data removed]",
      "text/plain": [
       "<Figure size 432x288 with 1 Axes>"
      ]
     },
     "metadata": {
      "needs_background": "light"
     },
     "output_type": "display_data"
    }
   ],
   "source": [
    "spectro = get_spectrogramm(data.values[0][2:3003], False, True)"
   ]
  },
  {
   "cell_type": "code",
   "execution_count": 11,
   "metadata": {},
   "outputs": [
    {
     "data": {
      "image/png": "[encoded data removed]",
      "text/plain": [
       "<Figure size 432x288 with 1 Axes>"
      ]
     },
     "metadata": {
      "needs_background": "light"
     },
     "output_type": "display_data"
    }
   ],
   "source": [
    "spectro = get_spectrogramm(data.values[0][2:3003], True, True)"
   ]
  },
  {
   "cell_type": "code",
   "execution_count": 13,
   "metadata": {},
   "outputs": [],
   "source": [
    "from torch.utils.data import Dataset, DataLoader\n",
    "from torchvision import transforms"
   ]
  },
  {
   "cell_type": "code",
   "execution_count": 14,
   "metadata": {},
   "outputs": [],
   "source": [
    "from filters import bandpass_filter"
   ]
  },
  {
   "cell_type": "code",
   "execution_count": 15,
   "metadata": {},
   "outputs": [],
   "source": [
    "class ECGSpectroDataset(Dataset):\n",
    "    def __init__(self, data, signal_length):\n",
    "        super().__init__()\n",
    "        self.data = data.values\n",
    "        self._process_dataset()\n",
    "        self.signal_length = signal_length\n",
    "        used_data = self.signals\n",
    "        used_data = [np.array(row) for row in used_data.copy()]\n",
    "        used_data = np.array(used_data)\n",
    "        self.mean = used_data.mean()\n",
    "        self.std = used_data.std()\n",
    "        self.values = (used_data - used_data.mean())/used_data.std()\n",
    "     \n",
    "    def __len__(self):\n",
    "        return len(self.values)\n",
    "\n",
    "        \n",
    "    def _get_row(self, row):\n",
    "        return [bandpass_filter(row[i : i + 5000], {}) for i in range(2, 55003, 5000)]\n",
    "        \n",
    "    def _process_dataset(self):\n",
    "        self.signals = np.apply_along_axis(lambda x: self._get_row(x), 1, self.data)\n",
    "\n",
    "\n",
    "    def __getitem__(self, idx):\n",
    "        \"\"\"\n",
    "        Generates one sample of data.\n",
    "        \"\"\"\n",
    "        cut_point = 0 if self.signal_length >= 5000 else np.random.randint(5001 - self.signal_length)\n",
    "        signals = self.signals[idx][:, cut_point:cut_point+self.signal_length]\n",
    "        \n",
    "        images = np.zeros((12,33,92), dtype=np.float32)\n",
    "        for i in range(12):\n",
    "            images[i] = get_spectrogramm(signals[i], should_log=True)\n",
    "        \n",
    "        return images, self.data[idx][-1]"
   ]
  },
  {
   "cell_type": "code",
   "execution_count": 16,
   "metadata": {},
   "outputs": [],
   "source": [
    "class TestECGDataset(Dataset):\n",
    "    def __init__(self, data, signal_length, train_mean, train_std):\n",
    "        super().__init__()\n",
    "        self.data = data.values\n",
    "        self._process_dataset()\n",
    "        self.signal_length = signal_length\n",
    "        used_data = self.signals\n",
    "        used_data = [np.array(row) for row in used_data.copy()]\n",
    "        used_data = np.array(used_data)\n",
    "        self.values = (used_data - train_mean)/train_std\n",
    "\n",
    "\n",
    "    def __len__(self):\n",
    "        return len(self.values)\n",
    "\n",
    "        \n",
    "    def _get_row(self, row):\n",
    "        return [bandpass_filter(row[i : i + 5000], {}) for i in range(2, 55003, 5000)]\n",
    "        \n",
    "    def _process_dataset(self):\n",
    "        self.signals = np.apply_along_axis(lambda x: self._get_row(x), 1, self.data)\n",
    "\n",
    "        \n",
    "    def __getitem__(self, idx):\n",
    "        \"\"\"\n",
    "        Generates one sample of data.\n",
    "        \"\"\"\n",
    "        cut_point = 0 if self.signal_length >= 5000 else np.random.randint(5001 - self.signal_length)\n",
    "        signals = self.signals[idx][:, cut_point:cut_point+self.signal_length]\n",
    "        \n",
    "        images = np.zeros((12,33,92), dtype=np.float32)\n",
    "        for i in range(12):\n",
    "            images[i] = get_spectrogramm(signals[i], should_log=True)\n",
    "        return images, self.data[idx][-1]"
   ]
  },
  {
   "cell_type": "code",
   "execution_count": 17,
   "metadata": {},
   "outputs": [
    {
     "name": "stderr",
     "output_type": "stream",
     "text": [
      "C:\\ProgramData\\Anaconda3\\lib\\site-packages\\scipy\\signal\\_arraytools.py:45: FutureWarning: Using a non-tuple sequence for multidimensional indexing is deprecated; use `arr[tuple(seq)]` instead of `arr[seq]`. In the future this will be interpreted as an array index, `arr[np.array(seq)]`, which will result either in an error or a different result.\n",
      "  b = a[a_slice]\n"
     ]
    }
   ],
   "source": [
    "dataset = ECGSpectroDataset(data, 3000)"
   ]
  },
  {
   "cell_type": "code",
   "execution_count": 18,
   "metadata": {},
   "outputs": [],
   "source": [
    "ecg_loader = DataLoader(dataset, batch_size= 2)"
   ]
  },
  {
   "cell_type": "code",
   "execution_count": 19,
   "metadata": {},
   "outputs": [],
   "source": [
    "from torch.utils.data.sampler import SubsetRandomSampler"
   ]
  },
  {
   "cell_type": "code",
   "execution_count": 20,
   "metadata": {},
   "outputs": [],
   "source": [
    "valid_size = 0.1\n",
    "random_seed = 7\n",
    "\n",
    "num_train = len(dataset)\n",
    "indices = list(range(num_train))\n",
    "split = int(np.floor(valid_size * num_train))\n",
    "\n",
    "\n",
    "np.random.seed(random_seed)\n",
    "np.random.shuffle(indices)\n",
    "\n",
    "train_idx, valid_idx = indices[split:], indices[:split]\n",
    "train_dataset = ECGSpectroDataset(data.iloc[train_idx],  3000)\n",
    "valid_dataset = TestECGDataset(data.iloc[valid_idx], 3000, train_dataset.mean, train_dataset.std)"
   ]
  },
  {
   "cell_type": "code",
   "execution_count": 21,
   "metadata": {},
   "outputs": [],
   "source": [
    "batchsize = 32\n",
    "train_loader = torch.utils.data.DataLoader(\n",
    "    train_dataset, batch_size=batchsize, shuffle = True\n",
    ")\n",
    "valid_loader = torch.utils.data.DataLoader(\n",
    "    valid_dataset, batch_size=batchsize, shuffle = True\n",
    ")"
   ]
  },
  {
   "cell_type": "code",
   "execution_count": 22,
   "metadata": {},
   "outputs": [],
   "source": [
    "import torch.nn as nn"
   ]
  },
  {
   "cell_type": "code",
   "execution_count": 33,
   "metadata": {},
   "outputs": [],
   "source": [
    "class CNN(nn.Module):\n",
    "    # (33, 92)\n",
    "    def __init__(self, dropout = 0.3):\n",
    "        super(CNN, self).__init__()\n",
    "        \n",
    "        self.layer1 = nn.Sequential(\n",
    "            nn.Conv2d(12, 32, kernel_size=3, stride=1),\n",
    "            nn.Conv2d(32, 32, kernel_size=3, stride=1),\n",
    "            nn.MaxPool2d(kernel_size=2, stride=2),\n",
    "            nn.BatchNorm2d(32),\n",
    "            nn.ReLU()) # (14, 44, 32)\n",
    "        self.layer2 = nn.Sequential(\n",
    "            nn.Conv2d(32, 32, kernel_size=3, stride=1),\n",
    "            nn.Conv2d(32, 32, kernel_size=3, stride=1),\n",
    "            nn.MaxPool2d(kernel_size=2, stride=2),\n",
    "            nn.BatchNorm2d(32),\n",
    "            nn.ReLU()) # (5, 20, 32)\n",
    "        self.layer3 = nn.Sequential(\n",
    "            nn.Conv2d(32, 64, kernel_size=3, stride=1),\n",
    "            nn.Conv2d(64, 64, kernel_size=3, stride=1),\n",
    "            nn.MaxPool2d(kernel_size=2, stride=2),\n",
    "            nn.BatchNorm2d(64),\n",
    "            nn.ReLU()) #(1, 8, 64)\n",
    "        self.fc1 = nn.Linear(8*64, 100)\n",
    "        self.fc2 = nn.Linear(100, 4)\n",
    "        self.sm = nn.Softmax(dim = 1)\n",
    "        \n",
    "    def forward(self, x):\n",
    "        out = self.layer1(x)\n",
    "        out = self.layer2(out)\n",
    "        out = self.layer3(out)\n",
    "        out = out.reshape(out.size(0), -1)\n",
    "        out = self.fc1(out)\n",
    "        out = self.fc2(out)\n",
    "        out = self.sm(out)\n",
    "        return out"
   ]
  },
  {
   "cell_type": "code",
   "execution_count": 34,
   "metadata": {},
   "outputs": [],
   "source": [
    "device = torch.device('cuda:0' if torch.cuda.is_available() else 'cpu')"
   ]
  },
  {
   "cell_type": "code",
   "execution_count": 35,
   "metadata": {},
   "outputs": [],
   "source": [
    "model = CNN().to(device)"
   ]
  },
  {
   "cell_type": "code",
   "execution_count": 36,
   "metadata": {},
   "outputs": [],
   "source": [
    "from torch import optim\n",
    "import torch.nn.functional as F"
   ]
  },
  {
   "cell_type": "code",
   "execution_count": 37,
   "metadata": {},
   "outputs": [],
   "source": [
    "weigths = torch.tensor([sum(data.axis_id==2)/sum(data.axis_id==0),sum(data.axis_id==2)/sum(data.axis_id==1),sum(data.axis_id==2)/sum(data.axis_id==2),sum(data.axis_id==2)/sum(data.axis_id==3)]).to(device)"
   ]
  },
  {
   "cell_type": "code",
   "execution_count": 38,
   "metadata": {},
   "outputs": [],
   "source": [
    "optimizer = optim.Adam(model.parameters(), lr = 0.01)\n",
    "criterion = nn.CrossEntropyLoss(weigths)"
   ]
  },
  {
   "cell_type": "code",
   "execution_count": 39,
   "metadata": {},
   "outputs": [],
   "source": [
    "def validate(model, loader):\n",
    "    model.eval()\n",
    "    val_length = 0\n",
    "    correct_answers = 0\n",
    "    for i, (ecg, label_idx) in enumerate(loader):\n",
    "\n",
    "        src = ecg.to(device).float()\n",
    "        trg = label_idx.to(device).long()\n",
    "\n",
    "        output = model(src)\n",
    "        \n",
    "        answer = output.argmax(dim = 1).long()\n",
    "        res = answer == trg \n",
    "        \n",
    "        val_length += len(answer)\n",
    "        correct_answers += res.sum().float()\n",
    "    return correct_answers/val_length\n",
    "        "
   ]
  },
  {
   "cell_type": "code",
   "execution_count": 40,
   "metadata": {},
   "outputs": [
    {
     "data": {
      "text/plain": [
       "tensor(0.4308, device='cuda:0')"
      ]
     },
     "execution_count": 40,
     "metadata": {},
     "output_type": "execute_result"
    }
   ],
   "source": [
    "validate(model, valid_loader)"
   ]
  },
  {
   "cell_type": "code",
   "execution_count": 41,
   "metadata": {},
   "outputs": [],
   "source": [
    "def train(model, n_epoch, optimizer, criterion, print_every = 100, valid_every=10):\n",
    "    model.train()\n",
    "    total_step = len(train_loader)\n",
    "    history = []\n",
    "    for epoch in range(n_epoch):\n",
    "        epoch_loss = 0\n",
    "        \n",
    "\n",
    "        for i, (ecg, label_idx) in enumerate(train_loader):\n",
    "            \n",
    "            src = ecg.to(device).float()\n",
    "            trg = label_idx.to(device).long()\n",
    "\n",
    "            optimizer.zero_grad()\n",
    "\n",
    "            output = model(src)\n",
    "\n",
    "            loss = criterion(output, trg )\n",
    "            if (torch.isnan(loss).item()  == 1):\n",
    "                print(\"NAN loss\")\n",
    "                print(src)\n",
    "                print(trg)\n",
    "                return\n",
    "\n",
    "            loss.backward()\n",
    "            optimizer.step()\n",
    "            \n",
    "            if ((epoch+1) % valid_every == 0) and ((i+1) % print_every == 0):\n",
    "                print ('Epoch [{}/{}], Step [{}/{}], Loss: {:.4f}' \n",
    "                   .format(epoch+1, n_epoch, i+1, total_step, loss.item()))\n",
    "        \n",
    "        if ((epoch+1) % valid_every == 0):\n",
    "            train_accuracy = validate(model, train_loader).item()\n",
    "            valid_accuracy = validate(model, valid_loader).item()\n",
    "            history.append([train_accuracy, valid_accuracy])\n",
    "            print ('Epoch [{}/{}], Accuracy: {:.4f} / {:.4f}' \n",
    "                   .format(epoch+1, n_epoch, train_accuracy, valid_accuracy))\n",
    "            print()\n",
    "            model.train()\n",
    "    return history\n",
    "        "
   ]
  },
  {
   "cell_type": "code",
   "execution_count": 42,
   "metadata": {},
   "outputs": [
    {
     "name": "stdout",
     "output_type": "stream",
     "text": [
      "Epoch [10/1000], Step [9/19], Loss: 1.4264\n",
      "Epoch [10/1000], Step [18/19], Loss: 1.3404\n",
      "Epoch [10/1000], Accuracy: 0.3451 / 0.4154\n",
      "\n",
      "Epoch [20/1000], Step [9/19], Loss: 1.4306\n",
      "Epoch [20/1000], Step [18/19], Loss: 1.4114\n",
      "Epoch [20/1000], Accuracy: 0.4209 / 0.4615\n",
      "\n",
      "Epoch [30/1000], Step [9/19], Loss: 1.3002\n",
      "Epoch [30/1000], Step [18/19], Loss: 1.3058\n",
      "Epoch [30/1000], Accuracy: 0.3822 / 0.4308\n",
      "\n",
      "Epoch [40/1000], Step [9/19], Loss: 1.1450\n",
      "Epoch [40/1000], Step [18/19], Loss: 1.1430\n",
      "Epoch [40/1000], Accuracy: 0.4141 / 0.3385\n",
      "\n",
      "Epoch [50/1000], Step [9/19], Loss: 1.2716\n",
      "Epoch [50/1000], Step [18/19], Loss: 1.1203\n",
      "Epoch [50/1000], Accuracy: 0.4646 / 0.4000\n",
      "\n",
      "Epoch [60/1000], Step [9/19], Loss: 1.1405\n",
      "Epoch [60/1000], Step [18/19], Loss: 1.2896\n",
      "Epoch [60/1000], Accuracy: 0.4192 / 0.3077\n",
      "\n",
      "Epoch [70/1000], Step [9/19], Loss: 1.2438\n",
      "Epoch [70/1000], Step [18/19], Loss: 1.0542\n",
      "Epoch [70/1000], Accuracy: 0.5909 / 0.6000\n",
      "\n",
      "Epoch [80/1000], Step [9/19], Loss: 1.2812\n",
      "Epoch [80/1000], Step [18/19], Loss: 1.2353\n",
      "Epoch [80/1000], Accuracy: 0.6044 / 0.6615\n",
      "\n",
      "Epoch [90/1000], Step [9/19], Loss: 1.0507\n",
      "Epoch [90/1000], Step [18/19], Loss: 1.0947\n",
      "Epoch [90/1000], Accuracy: 0.6246 / 0.6308\n",
      "\n",
      "Epoch [100/1000], Step [9/19], Loss: 1.1516\n",
      "Epoch [100/1000], Step [18/19], Loss: 1.0896\n",
      "Epoch [100/1000], Accuracy: 0.3519 / 0.2923\n",
      "\n",
      "Epoch [110/1000], Step [9/19], Loss: 1.1579\n",
      "Epoch [110/1000], Step [18/19], Loss: 1.2000\n",
      "Epoch [110/1000], Accuracy: 0.4663 / 0.4000\n",
      "\n",
      "Epoch [120/1000], Step [9/19], Loss: 0.9894\n",
      "Epoch [120/1000], Step [18/19], Loss: 1.2501\n",
      "Epoch [120/1000], Accuracy: 0.4697 / 0.3385\n",
      "\n",
      "Epoch [130/1000], Step [9/19], Loss: 1.1411\n",
      "Epoch [130/1000], Step [18/19], Loss: 1.1991\n",
      "Epoch [130/1000], Accuracy: 0.4983 / 0.5385\n",
      "\n",
      "Epoch [140/1000], Step [9/19], Loss: 1.2130\n",
      "Epoch [140/1000], Step [18/19], Loss: 1.0327\n",
      "Epoch [140/1000], Accuracy: 0.4444 / 0.4154\n",
      "\n",
      "Epoch [150/1000], Step [9/19], Loss: 1.2790\n",
      "Epoch [150/1000], Step [18/19], Loss: 1.1627\n",
      "Epoch [150/1000], Accuracy: 0.5135 / 0.4462\n",
      "\n",
      "Epoch [160/1000], Step [9/19], Loss: 1.0724\n",
      "Epoch [160/1000], Step [18/19], Loss: 1.0867\n",
      "Epoch [160/1000], Accuracy: 0.4461 / 0.5385\n",
      "\n",
      "Epoch [170/1000], Step [9/19], Loss: 1.1843\n",
      "Epoch [170/1000], Step [18/19], Loss: 1.0819\n",
      "Epoch [170/1000], Accuracy: 0.5572 / 0.4923\n",
      "\n",
      "Epoch [180/1000], Step [9/19], Loss: 1.1762\n",
      "Epoch [180/1000], Step [18/19], Loss: 1.0035\n",
      "Epoch [180/1000], Accuracy: 0.6313 / 0.5846\n",
      "\n",
      "Epoch [190/1000], Step [9/19], Loss: 1.1466\n",
      "Epoch [190/1000], Step [18/19], Loss: 1.1860\n",
      "Epoch [190/1000], Accuracy: 0.5673 / 0.4923\n",
      "\n",
      "Epoch [200/1000], Step [9/19], Loss: 1.0546\n",
      "Epoch [200/1000], Step [18/19], Loss: 1.1524\n",
      "Epoch [200/1000], Accuracy: 0.6684 / 0.6462\n",
      "\n",
      "Epoch [210/1000], Step [9/19], Loss: 1.2208\n",
      "Epoch [210/1000], Step [18/19], Loss: 1.1598\n",
      "Epoch [210/1000], Accuracy: 0.3333 / 0.2000\n",
      "\n",
      "Epoch [220/1000], Step [9/19], Loss: 1.0111\n",
      "Epoch [220/1000], Step [18/19], Loss: 1.0491\n",
      "Epoch [220/1000], Accuracy: 0.4579 / 0.4615\n",
      "\n",
      "Epoch [230/1000], Step [9/19], Loss: 1.0368\n",
      "Epoch [230/1000], Step [18/19], Loss: 1.1431\n",
      "Epoch [230/1000], Accuracy: 0.4461 / 0.3231\n",
      "\n",
      "Epoch [240/1000], Step [9/19], Loss: 1.3489\n",
      "Epoch [240/1000], Step [18/19], Loss: 1.3102\n",
      "Epoch [240/1000], Accuracy: 0.3232 / 0.2769\n",
      "\n",
      "Epoch [250/1000], Step [9/19], Loss: 1.3535\n",
      "Epoch [250/1000], Step [18/19], Loss: 1.2412\n",
      "Epoch [250/1000], Accuracy: 0.2306 / 0.2769\n",
      "\n",
      "Epoch [260/1000], Step [9/19], Loss: 1.2328\n",
      "Epoch [260/1000], Step [18/19], Loss: 1.1057\n",
      "Epoch [260/1000], Accuracy: 0.2997 / 0.2308\n",
      "\n",
      "Epoch [270/1000], Step [9/19], Loss: 1.4163\n",
      "Epoch [270/1000], Step [18/19], Loss: 1.4538\n",
      "Epoch [270/1000], Accuracy: 0.2492 / 0.2462\n",
      "\n",
      "Epoch [280/1000], Step [9/19], Loss: 1.3353\n",
      "Epoch [280/1000], Step [18/19], Loss: 1.1841\n",
      "Epoch [280/1000], Accuracy: 0.3047 / 0.2923\n",
      "\n",
      "Epoch [290/1000], Step [9/19], Loss: 1.1138\n",
      "Epoch [290/1000], Step [18/19], Loss: 1.2039\n",
      "Epoch [290/1000], Accuracy: 0.2963 / 0.2615\n",
      "\n",
      "Epoch [300/1000], Step [9/19], Loss: 1.1621\n",
      "Epoch [300/1000], Step [18/19], Loss: 1.3165\n",
      "Epoch [300/1000], Accuracy: 0.3973 / 0.4308\n",
      "\n",
      "Epoch [310/1000], Step [9/19], Loss: 1.1508\n",
      "Epoch [310/1000], Step [18/19], Loss: 1.2934\n",
      "Epoch [310/1000], Accuracy: 0.2778 / 0.2769\n",
      "\n",
      "Epoch [320/1000], Step [9/19], Loss: 1.3668\n",
      "Epoch [320/1000], Step [18/19], Loss: 1.3627\n",
      "Epoch [320/1000], Accuracy: 0.3384 / 0.3538\n",
      "\n",
      "Epoch [330/1000], Step [9/19], Loss: 1.1925\n",
      "Epoch [330/1000], Step [18/19], Loss: 1.1587\n",
      "Epoch [330/1000], Accuracy: 0.3266 / 0.2615\n",
      "\n",
      "Epoch [340/1000], Step [9/19], Loss: 1.3173\n",
      "Epoch [340/1000], Step [18/19], Loss: 1.2296\n",
      "Epoch [340/1000], Accuracy: 0.3788 / 0.3385\n",
      "\n",
      "Epoch [350/1000], Step [9/19], Loss: 1.2725\n",
      "Epoch [350/1000], Step [18/19], Loss: 1.1717\n",
      "Epoch [350/1000], Accuracy: 0.3283 / 0.2154\n",
      "\n",
      "Epoch [360/1000], Step [9/19], Loss: 1.2248\n",
      "Epoch [360/1000], Step [18/19], Loss: 1.0670\n",
      "Epoch [360/1000], Accuracy: 0.3586 / 0.2769\n",
      "\n",
      "Epoch [370/1000], Step [9/19], Loss: 1.4311\n",
      "Epoch [370/1000], Step [18/19], Loss: 1.2601\n",
      "Epoch [370/1000], Accuracy: 0.2542 / 0.3077\n",
      "\n",
      "Epoch [380/1000], Step [9/19], Loss: 1.1584\n",
      "Epoch [380/1000], Step [18/19], Loss: 1.0682\n",
      "Epoch [380/1000], Accuracy: 0.4192 / 0.3077\n",
      "\n",
      "Epoch [390/1000], Step [9/19], Loss: 1.3184\n",
      "Epoch [390/1000], Step [18/19], Loss: 1.3844\n",
      "Epoch [390/1000], Accuracy: 0.4798 / 0.4615\n",
      "\n",
      "Epoch [400/1000], Step [9/19], Loss: 1.2355\n",
      "Epoch [400/1000], Step [18/19], Loss: 1.2206\n",
      "Epoch [400/1000], Accuracy: 0.5707 / 0.4923\n",
      "\n",
      "Epoch [410/1000], Step [9/19], Loss: 1.2296\n",
      "Epoch [410/1000], Step [18/19], Loss: 1.1320\n",
      "Epoch [410/1000], Accuracy: 0.6279 / 0.5538\n",
      "\n",
      "Epoch [420/1000], Step [9/19], Loss: 1.2773\n",
      "Epoch [420/1000], Step [18/19], Loss: 1.1985\n",
      "Epoch [420/1000], Accuracy: 0.5404 / 0.5385\n",
      "\n",
      "Epoch [430/1000], Step [9/19], Loss: 1.2867\n",
      "Epoch [430/1000], Step [18/19], Loss: 1.2939\n",
      "Epoch [430/1000], Accuracy: 0.6566 / 0.6000\n",
      "\n",
      "Epoch [440/1000], Step [9/19], Loss: 1.1304\n",
      "Epoch [440/1000], Step [18/19], Loss: 1.2551\n",
      "Epoch [440/1000], Accuracy: 0.6380 / 0.6308\n",
      "\n",
      "Epoch [450/1000], Step [9/19], Loss: 1.2451\n",
      "Epoch [450/1000], Step [18/19], Loss: 1.2092\n",
      "Epoch [450/1000], Accuracy: 0.6717 / 0.6462\n",
      "\n",
      "Epoch [460/1000], Step [9/19], Loss: 1.2824\n",
      "Epoch [460/1000], Step [18/19], Loss: 1.3181\n",
      "Epoch [460/1000], Accuracy: 0.6229 / 0.6000\n",
      "\n",
      "Epoch [470/1000], Step [9/19], Loss: 1.0403\n",
      "Epoch [470/1000], Step [18/19], Loss: 1.1169\n",
      "Epoch [470/1000], Accuracy: 0.6515 / 0.6462\n",
      "\n",
      "Epoch [480/1000], Step [9/19], Loss: 1.1089\n",
      "Epoch [480/1000], Step [18/19], Loss: 1.3121\n",
      "Epoch [480/1000], Accuracy: 0.6936 / 0.6769\n",
      "\n",
      "Epoch [490/1000], Step [9/19], Loss: 1.2358\n",
      "Epoch [490/1000], Step [18/19], Loss: 1.3368\n",
      "Epoch [490/1000], Accuracy: 0.6465 / 0.6462\n",
      "\n",
      "Epoch [500/1000], Step [9/19], Loss: 1.1363\n",
      "Epoch [500/1000], Step [18/19], Loss: 1.1412\n",
      "Epoch [500/1000], Accuracy: 0.3434 / 0.4615\n",
      "\n",
      "Epoch [510/1000], Step [9/19], Loss: 1.2096\n",
      "Epoch [510/1000], Step [18/19], Loss: 1.1548\n",
      "Epoch [510/1000], Accuracy: 0.5337 / 0.4308\n",
      "\n",
      "Epoch [520/1000], Step [9/19], Loss: 1.3028\n",
      "Epoch [520/1000], Step [18/19], Loss: 1.2582\n",
      "Epoch [520/1000], Accuracy: 0.3300 / 0.4308\n",
      "\n",
      "Epoch [530/1000], Step [9/19], Loss: 1.3375\n",
      "Epoch [530/1000], Step [18/19], Loss: 1.3433\n",
      "Epoch [530/1000], Accuracy: 0.6111 / 0.5077\n",
      "\n",
      "Epoch [540/1000], Step [9/19], Loss: 1.3091\n",
      "Epoch [540/1000], Step [18/19], Loss: 1.2845\n",
      "Epoch [540/1000], Accuracy: 0.4360 / 0.5231\n",
      "\n",
      "Epoch [550/1000], Step [9/19], Loss: 1.2135\n",
      "Epoch [550/1000], Step [18/19], Loss: 1.0716\n",
      "Epoch [550/1000], Accuracy: 0.6145 / 0.6154\n",
      "\n",
      "Epoch [560/1000], Step [9/19], Loss: 1.3798\n",
      "Epoch [560/1000], Step [18/19], Loss: 1.0599\n",
      "Epoch [560/1000], Accuracy: 0.6465 / 0.6000\n",
      "\n",
      "Epoch [570/1000], Step [9/19], Loss: 1.3396\n",
      "Epoch [570/1000], Step [18/19], Loss: 1.3575\n",
      "Epoch [570/1000], Accuracy: 0.6785 / 0.6769\n",
      "\n",
      "Epoch [580/1000], Step [9/19], Loss: 1.3130\n",
      "Epoch [580/1000], Step [18/19], Loss: 1.1378\n",
      "Epoch [580/1000], Accuracy: 0.5758 / 0.5692\n",
      "\n",
      "Epoch [590/1000], Step [9/19], Loss: 1.1406\n",
      "Epoch [590/1000], Step [18/19], Loss: 1.4635\n",
      "Epoch [590/1000], Accuracy: 0.3451 / 0.4308\n",
      "\n",
      "Epoch [600/1000], Step [9/19], Loss: 1.3422\n",
      "Epoch [600/1000], Step [18/19], Loss: 1.2435\n",
      "Epoch [600/1000], Accuracy: 0.6684 / 0.6154\n",
      "\n",
      "Epoch [610/1000], Step [9/19], Loss: 1.5050\n",
      "Epoch [610/1000], Step [18/19], Loss: 1.2822\n",
      "Epoch [610/1000], Accuracy: 0.6801 / 0.6615\n",
      "\n",
      "Epoch [620/1000], Step [9/19], Loss: 1.1729\n",
      "Epoch [620/1000], Step [18/19], Loss: 1.3301\n",
      "Epoch [620/1000], Accuracy: 0.6616 / 0.6000\n",
      "\n",
      "Epoch [630/1000], Step [9/19], Loss: 1.3050\n",
      "Epoch [630/1000], Step [18/19], Loss: 1.5354\n",
      "Epoch [630/1000], Accuracy: 0.5168 / 0.6000\n",
      "\n",
      "Epoch [640/1000], Step [9/19], Loss: 1.2192\n",
      "Epoch [640/1000], Step [18/19], Loss: 1.5051\n",
      "Epoch [640/1000], Accuracy: 0.6498 / 0.6154\n",
      "\n",
      "Epoch [650/1000], Step [9/19], Loss: 1.3805\n",
      "Epoch [650/1000], Step [18/19], Loss: 1.3690\n",
      "Epoch [650/1000], Accuracy: 0.6549 / 0.6000\n",
      "\n",
      "Epoch [660/1000], Step [9/19], Loss: 1.0769\n",
      "Epoch [660/1000], Step [18/19], Loss: 1.1201\n",
      "Epoch [660/1000], Accuracy: 0.6532 / 0.6462\n",
      "\n",
      "Epoch [670/1000], Step [9/19], Loss: 1.1647\n",
      "Epoch [670/1000], Step [18/19], Loss: 1.3276\n",
      "Epoch [670/1000], Accuracy: 0.6279 / 0.5846\n",
      "\n",
      "Epoch [680/1000], Step [9/19], Loss: 1.3725\n",
      "Epoch [680/1000], Step [18/19], Loss: 1.2400\n",
      "Epoch [680/1000], Accuracy: 0.5168 / 0.5692\n",
      "\n",
      "Epoch [690/1000], Step [9/19], Loss: 1.1646\n",
      "Epoch [690/1000], Step [18/19], Loss: 1.4342\n",
      "Epoch [690/1000], Accuracy: 0.5808 / 0.6000\n",
      "\n",
      "Epoch [700/1000], Step [9/19], Loss: 1.4564\n",
      "Epoch [700/1000], Step [18/19], Loss: 1.3925\n",
      "Epoch [700/1000], Accuracy: 0.4478 / 0.5077\n",
      "\n",
      "Epoch [710/1000], Step [9/19], Loss: 1.3227\n",
      "Epoch [710/1000], Step [18/19], Loss: 1.2117\n",
      "Epoch [710/1000], Accuracy: 0.5337 / 0.4769\n",
      "\n",
      "Epoch [720/1000], Step [9/19], Loss: 1.3331\n",
      "Epoch [720/1000], Step [18/19], Loss: 1.3197\n",
      "Epoch [720/1000], Accuracy: 0.5909 / 0.6000\n",
      "\n",
      "Epoch [730/1000], Step [9/19], Loss: 1.4004\n",
      "Epoch [730/1000], Step [18/19], Loss: 1.3634\n",
      "Epoch [730/1000], Accuracy: 0.5875 / 0.5538\n",
      "\n",
      "Epoch [740/1000], Step [9/19], Loss: 1.3213\n",
      "Epoch [740/1000], Step [18/19], Loss: 1.4262\n",
      "Epoch [740/1000], Accuracy: 0.5606 / 0.6000\n",
      "\n",
      "Epoch [750/1000], Step [9/19], Loss: 1.2060\n",
      "Epoch [750/1000], Step [18/19], Loss: 1.3178\n",
      "Epoch [750/1000], Accuracy: 0.6128 / 0.6308\n",
      "\n",
      "Epoch [760/1000], Step [9/19], Loss: 1.2587\n",
      "Epoch [760/1000], Step [18/19], Loss: 1.3302\n",
      "Epoch [760/1000], Accuracy: 0.5909 / 0.6000\n",
      "\n",
      "Epoch [770/1000], Step [9/19], Loss: 1.1991\n",
      "Epoch [770/1000], Step [18/19], Loss: 1.3284\n",
      "Epoch [770/1000], Accuracy: 0.5791 / 0.6154\n",
      "\n",
      "Epoch [780/1000], Step [9/19], Loss: 1.1413\n",
      "Epoch [780/1000], Step [18/19], Loss: 1.2713\n",
      "Epoch [780/1000], Accuracy: 0.5438 / 0.5385\n",
      "\n",
      "Epoch [790/1000], Step [9/19], Loss: 1.1188\n",
      "Epoch [790/1000], Step [18/19], Loss: 1.3109\n",
      "Epoch [790/1000], Accuracy: 0.6077 / 0.6308\n",
      "\n",
      "Epoch [800/1000], Step [9/19], Loss: 1.3267\n",
      "Epoch [800/1000], Step [18/19], Loss: 1.2053\n",
      "Epoch [800/1000], Accuracy: 0.6044 / 0.5385\n",
      "\n",
      "Epoch [810/1000], Step [9/19], Loss: 1.3729\n",
      "Epoch [810/1000], Step [18/19], Loss: 1.3681\n",
      "Epoch [810/1000], Accuracy: 0.5556 / 0.5692\n",
      "\n",
      "Epoch [820/1000], Step [9/19], Loss: 1.2114\n",
      "Epoch [820/1000], Step [18/19], Loss: 1.2402\n",
      "Epoch [820/1000], Accuracy: 0.5758 / 0.6462\n",
      "\n",
      "Epoch [830/1000], Step [9/19], Loss: 1.1593\n",
      "Epoch [830/1000], Step [18/19], Loss: 1.2465\n",
      "Epoch [830/1000], Accuracy: 0.5556 / 0.5385\n",
      "\n",
      "Epoch [840/1000], Step [9/19], Loss: 1.2554\n",
      "Epoch [840/1000], Step [18/19], Loss: 1.2249\n",
      "Epoch [840/1000], Accuracy: 0.5118 / 0.5538\n",
      "\n",
      "Epoch [850/1000], Step [9/19], Loss: 1.2324\n",
      "Epoch [850/1000], Step [18/19], Loss: 1.1876\n",
      "Epoch [850/1000], Accuracy: 0.4512 / 0.3538\n",
      "\n",
      "Epoch [860/1000], Step [9/19], Loss: 1.3616\n",
      "Epoch [860/1000], Step [18/19], Loss: 1.3401\n",
      "Epoch [860/1000], Accuracy: 0.6195 / 0.6615\n",
      "\n",
      "Epoch [870/1000], Step [9/19], Loss: 1.4028\n",
      "Epoch [870/1000], Step [18/19], Loss: 1.2514\n",
      "Epoch [870/1000], Accuracy: 0.5606 / 0.6000\n",
      "\n",
      "Epoch [880/1000], Step [9/19], Loss: 1.3070\n",
      "Epoch [880/1000], Step [18/19], Loss: 1.2821\n",
      "Epoch [880/1000], Accuracy: 0.4848 / 0.4308\n",
      "\n",
      "Epoch [890/1000], Step [9/19], Loss: 1.2264\n",
      "Epoch [890/1000], Step [18/19], Loss: 1.4380\n",
      "Epoch [890/1000], Accuracy: 0.4983 / 0.4154\n",
      "\n",
      "Epoch [900/1000], Step [9/19], Loss: 1.3904\n",
      "Epoch [900/1000], Step [18/19], Loss: 1.3193\n",
      "Epoch [900/1000], Accuracy: 0.5438 / 0.5077\n",
      "\n",
      "Epoch [910/1000], Step [9/19], Loss: 1.2651\n",
      "Epoch [910/1000], Step [18/19], Loss: 1.2397\n",
      "Epoch [910/1000], Accuracy: 0.6178 / 0.6462\n",
      "\n",
      "Epoch [920/1000], Step [9/19], Loss: 1.2203\n",
      "Epoch [920/1000], Step [18/19], Loss: 1.3530\n",
      "Epoch [920/1000], Accuracy: 0.5741 / 0.6615\n",
      "\n",
      "Epoch [930/1000], Step [9/19], Loss: 1.3217\n",
      "Epoch [930/1000], Step [18/19], Loss: 1.2826\n",
      "Epoch [930/1000], Accuracy: 0.6212 / 0.6769\n",
      "\n",
      "Epoch [940/1000], Step [9/19], Loss: 1.2238\n",
      "Epoch [940/1000], Step [18/19], Loss: 1.1547\n",
      "Epoch [940/1000], Accuracy: 0.6229 / 0.6308\n",
      "\n",
      "Epoch [950/1000], Step [9/19], Loss: 1.3200\n",
      "Epoch [950/1000], Step [18/19], Loss: 1.2004\n",
      "Epoch [950/1000], Accuracy: 0.6077 / 0.6769\n",
      "\n",
      "Epoch [960/1000], Step [9/19], Loss: 1.2056\n",
      "Epoch [960/1000], Step [18/19], Loss: 1.4042\n",
      "Epoch [960/1000], Accuracy: 0.6094 / 0.6615\n",
      "\n",
      "Epoch [970/1000], Step [9/19], Loss: 1.2183\n",
      "Epoch [970/1000], Step [18/19], Loss: 1.2618\n",
      "Epoch [970/1000], Accuracy: 0.4024 / 0.5231\n",
      "\n",
      "Epoch [980/1000], Step [9/19], Loss: 1.2910\n",
      "Epoch [980/1000], Step [18/19], Loss: 1.1900\n",
      "Epoch [980/1000], Accuracy: 0.6717 / 0.7231\n",
      "\n",
      "Epoch [990/1000], Step [9/19], Loss: 1.3225\n",
      "Epoch [990/1000], Step [18/19], Loss: 1.2660\n",
      "Epoch [990/1000], Accuracy: 0.5202 / 0.5231\n",
      "\n",
      "Epoch [1000/1000], Step [9/19], Loss: 1.2931\n",
      "Epoch [1000/1000], Step [18/19], Loss: 1.2433\n",
      "Epoch [1000/1000], Accuracy: 0.5774 / 0.6308\n",
      "\n"
     ]
    }
   ],
   "source": [
    "history = train(model, 1000, optimizer, criterion, 9, 10)"
   ]
  },
  {
   "cell_type": "code",
   "execution_count": 43,
   "metadata": {},
   "outputs": [],
   "source": [
    "history_arr = np.array(history)"
   ]
  },
  {
   "cell_type": "code",
   "execution_count": 56,
   "metadata": {},
   "outputs": [
    {
     "data": {
      "image/png": "[encoded data removed]",
      "text/plain": [
       "<Figure size 432x288 with 1 Axes>"
      ]
     },
     "metadata": {
      "needs_background": "light"
     },
     "output_type": "display_data"
    }
   ],
   "source": [
    "plt.plot(range(1, 1001, 10), history_arr[:, 0], 'b')\n",
    "plt.plot(range(1, 1001, 10), history_arr[:, 1], 'g')\n",
    "plt.xlabel('number of epohs')\n",
    "plt.ylabel('accuracy')\n",
    "plt.legend(['train', 'test'])\n",
    "plt.show()"
   ]
  },
  {
   "cell_type": "code",
   "execution_count": 61,
   "metadata": {},
   "outputs": [],
   "source": [
    "def get_preds_and_true(model, loader, dataset):\n",
    "    y_pred = np.zeros((len(dataset),))\n",
    "    y_true = np.zeros((len(dataset),))\n",
    "    offset = 0\n",
    "    for i, (ecg, label_idx) in enumerate(loader):\n",
    "\n",
    "        src = ecg.to(device).float()\n",
    "        trg = label_idx.to(device).long()\n",
    "\n",
    "        output = model(src)\n",
    "        \n",
    "        answer = output.argmax(dim = 1).long()\n",
    "        l = len(answer)\n",
    "\n",
    "        y_pred[offset:offset+l] = answer.cpu().numpy()\n",
    "        y_true[offset:offset+l] = trg.cpu().numpy()\n",
    "\n",
    "        offset = offset + l\n",
    "        \n",
    "    return y_pred, y_true"
   ]
  },
  {
   "cell_type": "code",
   "execution_count": 62,
   "metadata": {},
   "outputs": [],
   "source": [
    "import seaborn as sn\n",
    "from sklearn.metrics import confusion_matrix"
   ]
  },
  {
   "cell_type": "code",
   "execution_count": 63,
   "metadata": {},
   "outputs": [],
   "source": [
    "def plot_confusion_matrix( y_test_predict, y_test):\n",
    "    sn.heatmap(confusion_matrix(y_test, y_test_predict), annot=True)\n",
    "   "
   ]
  },
  {
   "cell_type": "code",
   "execution_count": 64,
   "metadata": {},
   "outputs": [],
   "source": [
    "y_pred, y_true = get_preds_and_true(model, valid_loader, valid_dataset)"
   ]
  },
  {
   "cell_type": "code",
   "execution_count": 65,
   "metadata": {},
   "outputs": [
    {
     "data": {
      "text/plain": [
       "0.676923076923077"
      ]
     },
     "execution_count": 65,
     "metadata": {},
     "output_type": "execute_result"
    }
   ],
   "source": [
    "np.sum(y_pred==y_true)/len(y_pred)"
   ]
  },
  {
   "cell_type": "code",
   "execution_count": 66,
   "metadata": {},
   "outputs": [
    {
     "data": {
      "image/png": "[encoded data removed]",
      "text/plain": [
       "<Figure size 432x288 with 2 Axes>"
      ]
     },
     "metadata": {
      "needs_background": "light"
     },
     "output_type": "display_data"
    }
   ],
   "source": [
    "plot_confusion_matrix(y_pred, y_true)"
   ]
  },
  {
   "cell_type": "code",
   "execution_count": 67,
   "metadata": {},
   "outputs": [],
   "source": [
    "from sklearn import metrics"
   ]
  },
  {
   "cell_type": "code",
   "execution_count": 68,
   "metadata": {},
   "outputs": [
    {
     "name": "stderr",
     "output_type": "stream",
     "text": [
      "C:\\ProgramData\\Anaconda3\\lib\\site-packages\\sklearn\\metrics\\classification.py:1143: UndefinedMetricWarning: F-score is ill-defined and being set to 0.0 in labels with no predicted samples.\n",
      "  'precision', 'predicted', average, warn_for)\n"
     ]
    },
    {
     "data": {
      "text/plain": [
       "array([0.        , 0.45454545, 0.68085106, 0.83636364])"
      ]
     },
     "execution_count": 68,
     "metadata": {},
     "output_type": "execute_result"
    }
   ],
   "source": [
    "metrics.f1_score(y_true, y_pred, average=None)"
   ]
  },
  {
   "cell_type": "code",
   "execution_count": 69,
   "metadata": {},
   "outputs": [
    {
     "data": {
      "text/plain": [
       "array([0.        , 0.45454545, 0.8       , 0.82142857])"
      ]
     },
     "execution_count": 69,
     "metadata": {},
     "output_type": "execute_result"
    }
   ],
   "source": [
    "metrics.recall_score(y_true, y_pred, average=None)"
   ]
  },
  {
   "cell_type": "code",
   "execution_count": 70,
   "metadata": {},
   "outputs": [
    {
     "name": "stderr",
     "output_type": "stream",
     "text": [
      "C:\\ProgramData\\Anaconda3\\lib\\site-packages\\sklearn\\metrics\\classification.py:1143: UndefinedMetricWarning: Precision is ill-defined and being set to 0.0 in labels with no predicted samples.\n",
      "  'precision', 'predicted', average, warn_for)\n"
     ]
    },
    {
     "data": {
      "text/plain": [
       "array([0.        , 0.45454545, 0.59259259, 0.85185185])"
      ]
     },
     "execution_count": 70,
     "metadata": {},
     "output_type": "execute_result"
    }
   ],
   "source": [
    "metrics.precision_score(y_true, y_pred, average=None)"
   ]
  },
  {
   "cell_type": "code",
   "execution_count": 71,
   "metadata": {},
   "outputs": [],
   "source": [
    "def save_model(model, path):\n",
    "    torch.save(model.state_dict(), path)"
   ]
  },
  {
   "cell_type": "code",
   "execution_count": 72,
   "metadata": {},
   "outputs": [],
   "source": [
    "save_model(model, 'cnn_spectro.pt')"
   ]
  }
 ],
 "metadata": {
  "kernelspec": {
   "display_name": "Python 3",
   "language": "python",
   "name": "python3"
  },
  "language_info": {
   "codemirror_mode": {
    "name": "ipython",
    "version": 3
   },
   "file_extension": ".py",
   "mimetype": "text/x-python",
   "name": "python",
   "nbconvert_exporter": "python",
   "pygments_lexer": "ipython3",
   "version": "3.6.7"
  }
 },
 "nbformat": 4,
 "nbformat_minor": 2
}
