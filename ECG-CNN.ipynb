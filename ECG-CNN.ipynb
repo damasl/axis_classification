{
 "cells": [
  {
   "cell_type": "code",
   "execution_count": 1,
   "metadata": {},
   "outputs": [
    {
     "data": {
      "text/plain": [
       "True"
      ]
     },
     "execution_count": 1,
     "metadata": {},
     "output_type": "execute_result"
    }
   ],
   "source": [
    "import torch\n",
    "torch.cuda.is_available()"
   ]
  },
  {
   "cell_type": "code",
   "execution_count": 2,
   "metadata": {},
   "outputs": [],
   "source": [
    "import pandas as pd"
   ]
  },
  {
   "cell_type": "code",
   "execution_count": 3,
   "metadata": {},
   "outputs": [],
   "source": [
    "from scipy import signal\n",
    "import numpy as np\n",
    "import matplotlib.pyplot as plt\n",
    "from wfdb import processing\n",
    "import numpy as np"
   ]
  },
  {
   "cell_type": "code",
   "execution_count": 4,
   "metadata": {},
   "outputs": [],
   "source": [
    "data = pd.read_csv(\"X_train.csv\")"
   ]
  },
  {
   "cell_type": "code",
   "execution_count": 5,
   "metadata": {},
   "outputs": [],
   "source": [
    "answers = pd.read_csv(\"y_train.csv\")"
   ]
  },
  {
   "cell_type": "code",
   "execution_count": 6,
   "metadata": {},
   "outputs": [],
   "source": [
    "data = (pd.merge(data ,answers, on = \"Unnamed: 0\"))\n",
    "data['age'] = (data['age'] - data['age'].mean(axis = 0))/data['age'].std(axis = 0)"
   ]
  },
  {
   "cell_type": "code",
   "execution_count": 7,
   "metadata": {},
   "outputs": [],
   "source": [
    "data = data.drop( [\"Unnamed: 0\"], axis = 1)"
   ]
  },
  {
   "cell_type": "code",
   "execution_count": 8,
   "metadata": {},
   "outputs": [
    {
     "data": {
      "text/html": [
       "<div>\n",
       "<style scoped>\n",
       "    .dataframe tbody tr th:only-of-type {\n",
       "        vertical-align: middle;\n",
       "    }\n",
       "\n",
       "    .dataframe tbody tr th {\n",
       "        vertical-align: top;\n",
       "    }\n",
       "\n",
       "    .dataframe thead th {\n",
       "        text-align: right;\n",
       "    }\n",
       "</style>\n",
       "<table border=\"1\" class=\"dataframe\">\n",
       "  <thead>\n",
       "    <tr style=\"text-align: right;\">\n",
       "      <th></th>\n",
       "      <th>age</th>\n",
       "      <th>gender</th>\n",
       "      <th>i_0</th>\n",
       "      <th>i_1</th>\n",
       "      <th>i_2</th>\n",
       "      <th>i_3</th>\n",
       "      <th>i_4</th>\n",
       "      <th>i_5</th>\n",
       "      <th>i_6</th>\n",
       "      <th>i_7</th>\n",
       "      <th>...</th>\n",
       "      <th>v6_4991</th>\n",
       "      <th>v6_4992</th>\n",
       "      <th>v6_4993</th>\n",
       "      <th>v6_4994</th>\n",
       "      <th>v6_4995</th>\n",
       "      <th>v6_4996</th>\n",
       "      <th>v6_4997</th>\n",
       "      <th>v6_4998</th>\n",
       "      <th>v6_4999</th>\n",
       "      <th>axis_id</th>\n",
       "    </tr>\n",
       "  </thead>\n",
       "  <tbody>\n",
       "    <tr>\n",
       "      <th>0</th>\n",
       "      <td>0.192357</td>\n",
       "      <td>1</td>\n",
       "      <td>-59.0</td>\n",
       "      <td>-58.0</td>\n",
       "      <td>-58.0</td>\n",
       "      <td>-58.0</td>\n",
       "      <td>-58.0</td>\n",
       "      <td>-58.0</td>\n",
       "      <td>-58.0</td>\n",
       "      <td>-58.0</td>\n",
       "      <td>...</td>\n",
       "      <td>114.0</td>\n",
       "      <td>119.0</td>\n",
       "      <td>124.0</td>\n",
       "      <td>129.0</td>\n",
       "      <td>134.0</td>\n",
       "      <td>147.0</td>\n",
       "      <td>172.0</td>\n",
       "      <td>200.0</td>\n",
       "      <td>143.0</td>\n",
       "      <td>3</td>\n",
       "    </tr>\n",
       "    <tr>\n",
       "      <th>1</th>\n",
       "      <td>1.399105</td>\n",
       "      <td>0</td>\n",
       "      <td>-39.0</td>\n",
       "      <td>-38.0</td>\n",
       "      <td>-38.0</td>\n",
       "      <td>-38.0</td>\n",
       "      <td>-38.0</td>\n",
       "      <td>-38.0</td>\n",
       "      <td>-38.0</td>\n",
       "      <td>-38.0</td>\n",
       "      <td>...</td>\n",
       "      <td>229.0</td>\n",
       "      <td>259.0</td>\n",
       "      <td>289.0</td>\n",
       "      <td>319.0</td>\n",
       "      <td>349.0</td>\n",
       "      <td>379.0</td>\n",
       "      <td>409.0</td>\n",
       "      <td>439.0</td>\n",
       "      <td>302.0</td>\n",
       "      <td>3</td>\n",
       "    </tr>\n",
       "    <tr>\n",
       "      <th>2</th>\n",
       "      <td>0.137505</td>\n",
       "      <td>0</td>\n",
       "      <td>0.0</td>\n",
       "      <td>0.0</td>\n",
       "      <td>0.0</td>\n",
       "      <td>0.0</td>\n",
       "      <td>0.0</td>\n",
       "      <td>0.0</td>\n",
       "      <td>0.0</td>\n",
       "      <td>0.0</td>\n",
       "      <td>...</td>\n",
       "      <td>-58.0</td>\n",
       "      <td>-58.0</td>\n",
       "      <td>-58.0</td>\n",
       "      <td>-58.0</td>\n",
       "      <td>-58.0</td>\n",
       "      <td>-58.0</td>\n",
       "      <td>-38.0</td>\n",
       "      <td>-11.0</td>\n",
       "      <td>-2.0</td>\n",
       "      <td>2</td>\n",
       "    </tr>\n",
       "    <tr>\n",
       "      <th>3</th>\n",
       "      <td>1.344253</td>\n",
       "      <td>0</td>\n",
       "      <td>108.0</td>\n",
       "      <td>106.0</td>\n",
       "      <td>93.0</td>\n",
       "      <td>79.0</td>\n",
       "      <td>86.0</td>\n",
       "      <td>74.0</td>\n",
       "      <td>64.0</td>\n",
       "      <td>51.0</td>\n",
       "      <td>...</td>\n",
       "      <td>81.0</td>\n",
       "      <td>89.0</td>\n",
       "      <td>79.0</td>\n",
       "      <td>59.0</td>\n",
       "      <td>61.0</td>\n",
       "      <td>64.0</td>\n",
       "      <td>49.0</td>\n",
       "      <td>26.0</td>\n",
       "      <td>10.0</td>\n",
       "      <td>3</td>\n",
       "    </tr>\n",
       "    <tr>\n",
       "      <th>4</th>\n",
       "      <td>-1.453208</td>\n",
       "      <td>1</td>\n",
       "      <td>363.0</td>\n",
       "      <td>366.0</td>\n",
       "      <td>366.0</td>\n",
       "      <td>353.0</td>\n",
       "      <td>334.0</td>\n",
       "      <td>314.0</td>\n",
       "      <td>306.0</td>\n",
       "      <td>294.0</td>\n",
       "      <td>...</td>\n",
       "      <td>-61.0</td>\n",
       "      <td>-59.0</td>\n",
       "      <td>-86.0</td>\n",
       "      <td>-66.0</td>\n",
       "      <td>-71.0</td>\n",
       "      <td>-91.0</td>\n",
       "      <td>-84.0</td>\n",
       "      <td>-11.0</td>\n",
       "      <td>-4.0</td>\n",
       "      <td>0</td>\n",
       "    </tr>\n",
       "  </tbody>\n",
       "</table>\n",
       "<p>5 rows × 60003 columns</p>\n",
       "</div>"
      ],
      "text/plain": [
       "        age  gender    i_0    i_1    i_2    i_3    i_4    i_5    i_6    i_7  \\\n",
       "0  0.192357       1  -59.0  -58.0  -58.0  -58.0  -58.0  -58.0  -58.0  -58.0   \n",
       "1  1.399105       0  -39.0  -38.0  -38.0  -38.0  -38.0  -38.0  -38.0  -38.0   \n",
       "2  0.137505       0    0.0    0.0    0.0    0.0    0.0    0.0    0.0    0.0   \n",
       "3  1.344253       0  108.0  106.0   93.0   79.0   86.0   74.0   64.0   51.0   \n",
       "4 -1.453208       1  363.0  366.0  366.0  353.0  334.0  314.0  306.0  294.0   \n",
       "\n",
       "    ...     v6_4991  v6_4992  v6_4993  v6_4994  v6_4995  v6_4996  v6_4997  \\\n",
       "0   ...       114.0    119.0    124.0    129.0    134.0    147.0    172.0   \n",
       "1   ...       229.0    259.0    289.0    319.0    349.0    379.0    409.0   \n",
       "2   ...       -58.0    -58.0    -58.0    -58.0    -58.0    -58.0    -38.0   \n",
       "3   ...        81.0     89.0     79.0     59.0     61.0     64.0     49.0   \n",
       "4   ...       -61.0    -59.0    -86.0    -66.0    -71.0    -91.0    -84.0   \n",
       "\n",
       "   v6_4998  v6_4999  axis_id  \n",
       "0    200.0    143.0        3  \n",
       "1    439.0    302.0        3  \n",
       "2    -11.0     -2.0        2  \n",
       "3     26.0     10.0        3  \n",
       "4    -11.0     -4.0        0  \n",
       "\n",
       "[5 rows x 60003 columns]"
      ]
     },
     "execution_count": 8,
     "metadata": {},
     "output_type": "execute_result"
    }
   ],
   "source": [
    "data.head()"
   ]
  },
  {
   "cell_type": "code",
   "execution_count": 9,
   "metadata": {},
   "outputs": [],
   "source": [
    "from scipy import signal\n",
    "import numpy as np\n",
    "import matplotlib.pyplot as plt"
   ]
  },
  {
   "cell_type": "code",
   "execution_count": 10,
   "metadata": {},
   "outputs": [],
   "source": [
    "signal_df = pd.read_csv(\"signal_data.csv\", sep=\"#\", index_col=False)"
   ]
  },
  {
   "cell_type": "code",
   "execution_count": 11,
   "metadata": {},
   "outputs": [],
   "source": [
    "for column in signal_df.columns:\n",
    "    signal_df[column] = signal_df[column].apply(lambda row: np.fromstring(row[1:-1], sep=\"  \", dtype=np.uint64))"
   ]
  },
  {
   "cell_type": "code",
   "execution_count": 12,
   "metadata": {},
   "outputs": [],
   "source": [
    "window_size = 64\n",
    "overlap = 32   "
   ]
  },
  {
   "cell_type": "code",
   "execution_count": 13,
   "metadata": {},
   "outputs": [],
   "source": [
    "def get_spectrogramm(ecg, should_log = False, show = False):\n",
    "    f,t,x = signal.spectral.spectrogram(\n",
    "                        ecg, \n",
    "                        window=(\"tukey\", 0.25),\n",
    "                        nperseg=window_size, \n",
    "                        noverlap=overlap, \n",
    "                        return_onesided=True) \n",
    "    \n",
    "            \n",
    "    if (should_log):    \n",
    "        x = np.log(x + 1e-8)\n",
    "    x = x.astype(np.float32)\n",
    "    \n",
    "    if (show):\n",
    "        plt.pcolormesh(t, f, x)\n",
    "\n",
    "    return x"
   ]
  },
  {
   "cell_type": "code",
   "execution_count": 14,
   "metadata": {},
   "outputs": [
    {
     "data": {
      "image/png": "[encoded data removed]",
      "text/plain": [
       "<Figure size 432x288 with 1 Axes>"
      ]
     },
     "metadata": {
      "needs_background": "light"
     },
     "output_type": "display_data"
    }
   ],
   "source": [
    "spectro = get_spectrogramm(data.values[0][2:5002], False, True)"
   ]
  },
  {
   "cell_type": "code",
   "execution_count": 15,
   "metadata": {},
   "outputs": [],
   "source": [
    "from torch.utils.data import Dataset, DataLoader\n",
    "from torchvision import transforms"
   ]
  },
  {
   "cell_type": "code",
   "execution_count": 16,
   "metadata": {},
   "outputs": [],
   "source": [
    "from basics import *"
   ]
  },
  {
   "cell_type": "code",
   "execution_count": 17,
   "metadata": {},
   "outputs": [],
   "source": [
    "class ECGDataset(FixedLengthDataset):\n",
    "    def __init__(self, data, peaks, signal_length, min_start_offset = 50, max_start_offset = 300, low_cut = 5, high_cut = 20):\n",
    "        super().__init__(data, peaks, signal_length, min_start_offset, max_start_offset, low_cut, high_cut)\n",
    "\n",
    "\n",
    "    def __getitem__(self, idx):\n",
    "        \"\"\"\n",
    "        Generates one sample of data.\n",
    "        \"\"\"\n",
    "        true_idx, cut_point = self.cut_points[idx]\n",
    "        label = self._get_label(true_idx)\n",
    "        cut_rows = self._cut(self.filtered_data[true_idx], cut_point)\n",
    "        \n",
    "        images = np.zeros((12,33,92), dtype=np.float32)\n",
    "        for i in range(12):\n",
    "            images[i] = get_spectrogramm(cut_rows[i])\n",
    "        \n",
    "        return images, label"
   ]
  },
  {
   "cell_type": "code",
   "execution_count": 18,
   "metadata": {},
   "outputs": [],
   "source": [
    "class TestECGDataset(FixedLengthDataset):\n",
    "    def __init__(self, data, peaks, signal_length, min_start_offset = 50, max_start_offset = 300, low_cut = 5, high_cut = 20):\n",
    "        super().__init__(data, peaks, signal_length, min_start_offset, max_start_offset, low_cut, high_cut)\n",
    "               \n",
    "    def _get_cuts(self):\n",
    "        cut_points = [ self._get_peaks_for_signal_cuts(peaks[0])  for peaks in self.peaks]\n",
    "        self.cut_points = cut_points\n",
    "        \n",
    "    def __len__(self):\n",
    "        return len(self.data)\n",
    "        \n",
    "        \n",
    "    def __getitem__(self, idx):\n",
    "        \"\"\"\n",
    "        Generates one sample of data.\n",
    "        \"\"\"\n",
    "        cut_point = np.random.choice(self.cut_points[idx])\n",
    "        label = self._get_label(idx)\n",
    "        cut_rows = self._cut(self.filtered_data[idx], cut_point)\n",
    "        \n",
    "        images = np.zeros((12,33,92), dtype=np.float32)\n",
    "        for i in range(12):\n",
    "            images[i] = get_spectrogramm(cut_rows[i])\n",
    "        \n",
    "        return images, label"
   ]
  },
  {
   "cell_type": "code",
   "execution_count": 19,
   "metadata": {},
   "outputs": [
    {
     "name": "stderr",
     "output_type": "stream",
     "text": [
      "C:\\ProgramData\\Anaconda3\\lib\\site-packages\\scipy\\signal\\_arraytools.py:45: FutureWarning: Using a non-tuple sequence for multidimensional indexing is deprecated; use `arr[tuple(seq)]` instead of `arr[seq]`. In the future this will be interpreted as an array index, `arr[np.array(seq)]`, which will result either in an error or a different result.\n",
      "  b = a[a_slice]\n"
     ]
    }
   ],
   "source": [
    "dataset = TestECGDataset(data, signal_df, 3000)"
   ]
  },
  {
   "cell_type": "code",
   "execution_count": 20,
   "metadata": {},
   "outputs": [],
   "source": [
    "ecg_loader = DataLoader(dataset, batch_size= 2)"
   ]
  },
  {
   "cell_type": "code",
   "execution_count": 21,
   "metadata": {},
   "outputs": [
    {
     "name": "stdout",
     "output_type": "stream",
     "text": [
      "torch.Size([2, 12, 33, 92])\n",
      "tensor([3, 3])\n"
     ]
    }
   ],
   "source": [
    "for i in ecg_loader:\n",
    "    print(i[0].shape)\n",
    "    print(i[1].argmax(dim=1))\n",
    "    break"
   ]
  },
  {
   "cell_type": "code",
   "execution_count": 22,
   "metadata": {},
   "outputs": [],
   "source": [
    "from torch.utils.data.sampler import SubsetRandomSampler"
   ]
  },
  {
   "cell_type": "code",
   "execution_count": 23,
   "metadata": {},
   "outputs": [],
   "source": [
    "valid_size = 0.1\n",
    "random_seed = 7\n",
    "\n",
    "num_train = len(dataset)\n",
    "indices = list(range(num_train))\n",
    "split = int(np.floor(valid_size * num_train))\n",
    "\n",
    "\n",
    "np.random.seed(random_seed)\n",
    "np.random.shuffle(indices)\n",
    "\n",
    "train_idx, valid_idx = indices[split:], indices[:split]\n",
    "train_dataset = ECGDataset(data.iloc[train_idx], signal_df.iloc[train_idx], 3000)\n",
    "valid_dataset = TestECGDataset(data.iloc[valid_idx], signal_df.iloc[valid_idx], 3000)"
   ]
  },
  {
   "cell_type": "code",
   "execution_count": 24,
   "metadata": {},
   "outputs": [],
   "source": [
    "batchsize = 64\n",
    "train_loader = torch.utils.data.DataLoader(\n",
    "    train_dataset, batch_size=batchsize, shuffle = True\n",
    ")\n",
    "valid_loader = torch.utils.data.DataLoader(\n",
    "    valid_dataset, batch_size=batchsize, shuffle = True\n",
    ")"
   ]
  },
  {
   "cell_type": "code",
   "execution_count": 25,
   "metadata": {},
   "outputs": [],
   "source": [
    "import torch.nn as nn"
   ]
  },
  {
   "cell_type": "code",
   "execution_count": 26,
   "metadata": {},
   "outputs": [],
   "source": [
    "class CNN(nn.Module):\n",
    "    # (33, 92)\n",
    "    def __init__(self):\n",
    "        super(CNN, self).__init__()\n",
    "        \n",
    "        self.layer1 = nn.Sequential(\n",
    "            nn.Conv2d(12, 32, kernel_size=3, stride=1),\n",
    "            nn.Conv2d(32, 32, kernel_size=3, stride=1),\n",
    "            nn.MaxPool2d(kernel_size=2, stride=2),\n",
    "            nn.BatchNorm2d(32),\n",
    "            nn.ReLU()) # (14, 44, 32)\n",
    "        self.layer2 = nn.Sequential(\n",
    "            nn.Conv2d(32, 32, kernel_size=3, stride=1),\n",
    "            nn.Conv2d(32, 32, kernel_size=3, stride=1),\n",
    "            nn.MaxPool2d(kernel_size=2, stride=2),\n",
    "            nn.BatchNorm2d(32),\n",
    "            nn.ReLU()) # (5, 20, 32)\n",
    "        self.layer3 = nn.Sequential(\n",
    "            nn.Conv2d(32, 64, kernel_size=3, stride=1),\n",
    "            nn.Conv2d(64, 64, kernel_size=3, stride=1),\n",
    "            nn.MaxPool2d(kernel_size=2, stride=2),\n",
    "            nn.BatchNorm2d(64),\n",
    "            nn.ReLU()) #(1, 8, 64)\n",
    "        self.fc1 = nn.Linear(8*64, 100)\n",
    "        self.fc2 = nn.Linear(100, 4)\n",
    "        self.sm = nn.Softmax(dim = 1)\n",
    "        \n",
    "    def forward(self, x):\n",
    "        out = self.layer1(x)\n",
    "        out = self.layer2(out)\n",
    "        out = self.layer3(out)\n",
    "        out = out.reshape(out.size(0), -1)\n",
    "        out = self.fc1(out)\n",
    "        out = self.fc2(out)\n",
    "        out = self.sm(out)\n",
    "        return out"
   ]
  },
  {
   "cell_type": "code",
   "execution_count": 27,
   "metadata": {},
   "outputs": [],
   "source": [
    "device = torch.device('cuda:0' if torch.cuda.is_available() else 'cpu')"
   ]
  },
  {
   "cell_type": "code",
   "execution_count": 28,
   "metadata": {},
   "outputs": [],
   "source": [
    "model = CNN().to(device)"
   ]
  },
  {
   "cell_type": "code",
   "execution_count": 29,
   "metadata": {},
   "outputs": [],
   "source": [
    "import torch.nn.functional as F"
   ]
  },
  {
   "cell_type": "code",
   "execution_count": 30,
   "metadata": {},
   "outputs": [],
   "source": [
    "def validate():\n",
    "    val_length = 0\n",
    "    correct_answers = 0\n",
    "    for i, data in enumerate(valid_loader, 0):\n",
    "        # get the inputs\n",
    "        (images, labels) = data\n",
    "        images = images.to(device)\n",
    "        labels = labels.to(device).argmax(dim = 1)\n",
    "\n",
    "        # forward + backward + optimize\n",
    "        outputs = model.forward(images)\n",
    "\n",
    "\n",
    "        answer = outputs.argmax(dim = 1)\n",
    "\n",
    "        res = answer == labels \n",
    "\n",
    "        #print(answer)\n",
    "        ##print(res)\n",
    "        #print(np.sum(res)/len(answer))\n",
    "        val_length += len(answer)\n",
    "        correct_answers += res.sum().float()\n",
    "        \n",
    "    return correct_answers/val_length"
   ]
  },
  {
   "cell_type": "code",
   "execution_count": 31,
   "metadata": {},
   "outputs": [
    {
     "name": "stdout",
     "output_type": "stream",
     "text": [
      "Epoch [1/150], Step [10/57], Loss: 1.3748\n",
      "Epoch [1/150], Step [20/57], Loss: 1.3584\n",
      "Epoch [1/150], Step [30/57], Loss: 1.3262\n",
      "Epoch [1/150], Step [40/57], Loss: 1.2712\n",
      "Epoch [1/150], Step [50/57], Loss: 1.2236\n",
      "Epoch [1/150], Score: 0.6000000238418579\n",
      "Epoch [4/150], Step [10/57], Loss: 0.9919\n",
      "Epoch [4/150], Step [20/57], Loss: 1.1009\n",
      "Epoch [4/150], Step [30/57], Loss: 1.0561\n",
      "Epoch [4/150], Step [40/57], Loss: 1.0368\n",
      "Epoch [4/150], Step [50/57], Loss: 0.9762\n",
      "Epoch [4/150], Score: 0.6153846383094788\n",
      "Epoch [7/150], Step [10/57], Loss: 1.0124\n",
      "Epoch [7/150], Step [20/57], Loss: 1.0142\n",
      "Epoch [7/150], Step [30/57], Loss: 0.9824\n",
      "Epoch [7/150], Step [40/57], Loss: 0.9868\n",
      "Epoch [7/150], Step [50/57], Loss: 0.9528\n",
      "Epoch [7/150], Score: 0.6307692527770996\n",
      "Epoch [10/150], Step [10/57], Loss: 1.0494\n",
      "Epoch [10/150], Step [20/57], Loss: 1.0513\n",
      "Epoch [10/150], Step [30/57], Loss: 1.0871\n",
      "Epoch [10/150], Step [40/57], Loss: 0.9797\n",
      "Epoch [10/150], Step [50/57], Loss: 0.9819\n",
      "Epoch [10/150], Score: 0.692307710647583\n",
      "Epoch [13/150], Step [10/57], Loss: 1.0013\n",
      "Epoch [13/150], Step [20/57], Loss: 0.9607\n",
      "Epoch [13/150], Step [30/57], Loss: 0.9395\n",
      "Epoch [13/150], Step [40/57], Loss: 0.9353\n",
      "Epoch [13/150], Step [50/57], Loss: 0.9444\n",
      "Epoch [13/150], Score: 0.6615384817123413\n",
      "Epoch [16/150], Step [10/57], Loss: 1.0056\n",
      "Epoch [16/150], Step [20/57], Loss: 1.0069\n",
      "Epoch [16/150], Step [30/57], Loss: 1.0082\n",
      "Epoch [16/150], Step [40/57], Loss: 0.9435\n",
      "Epoch [16/150], Step [50/57], Loss: 0.9922\n",
      "Epoch [16/150], Score: 0.6769230961799622\n",
      "Epoch [19/150], Step [10/57], Loss: 0.9360\n",
      "Epoch [19/150], Step [20/57], Loss: 1.0330\n",
      "Epoch [19/150], Step [30/57], Loss: 0.9571\n",
      "Epoch [19/150], Step [40/57], Loss: 1.0123\n",
      "Epoch [19/150], Step [50/57], Loss: 0.9675\n",
      "Epoch [19/150], Score: 0.6769230961799622\n",
      "Epoch [22/150], Step [10/57], Loss: 1.0150\n",
      "Epoch [22/150], Step [20/57], Loss: 0.9771\n",
      "Epoch [22/150], Step [30/57], Loss: 0.9407\n",
      "Epoch [22/150], Step [40/57], Loss: 0.9641\n",
      "Epoch [22/150], Step [50/57], Loss: 0.9051\n",
      "Epoch [22/150], Score: 0.6769230961799622\n",
      "Epoch [25/150], Step [10/57], Loss: 0.9498\n",
      "Epoch [25/150], Step [20/57], Loss: 0.9101\n",
      "Epoch [25/150], Step [30/57], Loss: 0.9465\n",
      "Epoch [25/150], Step [40/57], Loss: 0.9571\n",
      "Epoch [25/150], Step [50/57], Loss: 0.9995\n",
      "Epoch [25/150], Score: 0.6615384817123413\n",
      "Epoch [28/150], Step [10/57], Loss: 0.9670\n",
      "Epoch [28/150], Step [20/57], Loss: 0.9649\n",
      "Epoch [28/150], Step [30/57], Loss: 0.9520\n",
      "Epoch [28/150], Step [40/57], Loss: 0.8784\n",
      "Epoch [28/150], Step [50/57], Loss: 0.8646\n",
      "Epoch [28/150], Score: 0.6769230961799622\n",
      "Epoch [31/150], Step [10/57], Loss: 0.9146\n",
      "Epoch [31/150], Step [20/57], Loss: 0.8902\n",
      "Epoch [31/150], Step [30/57], Loss: 0.9942\n",
      "Epoch [31/150], Step [40/57], Loss: 0.9863\n",
      "Epoch [31/150], Step [50/57], Loss: 0.9689\n",
      "Epoch [31/150], Score: 0.6615384817123413\n",
      "Epoch [34/150], Step [10/57], Loss: 0.9330\n",
      "Epoch [34/150], Step [20/57], Loss: 0.9136\n",
      "Epoch [34/150], Step [30/57], Loss: 0.9027\n",
      "Epoch [34/150], Step [40/57], Loss: 0.8787\n",
      "Epoch [34/150], Step [50/57], Loss: 0.9229\n",
      "Epoch [34/150], Score: 0.692307710647583\n",
      "Epoch [37/150], Step [10/57], Loss: 0.9160\n",
      "Epoch [37/150], Step [20/57], Loss: 0.9191\n",
      "Epoch [37/150], Step [30/57], Loss: 0.9106\n",
      "Epoch [37/150], Step [40/57], Loss: 0.9437\n",
      "Epoch [37/150], Step [50/57], Loss: 0.8939\n",
      "Epoch [37/150], Score: 0.6461538672447205\n",
      "Epoch [40/150], Step [10/57], Loss: 0.9543\n",
      "Epoch [40/150], Step [20/57], Loss: 0.8767\n",
      "Epoch [40/150], Step [30/57], Loss: 0.8671\n",
      "Epoch [40/150], Step [40/57], Loss: 0.8981\n",
      "Epoch [40/150], Step [50/57], Loss: 0.8779\n",
      "Epoch [40/150], Score: 0.6153846383094788\n",
      "Epoch [43/150], Step [10/57], Loss: 0.9126\n",
      "Epoch [43/150], Step [20/57], Loss: 0.8307\n",
      "Epoch [43/150], Step [30/57], Loss: 0.8533\n",
      "Epoch [43/150], Step [40/57], Loss: 0.8601\n",
      "Epoch [43/150], Step [50/57], Loss: 0.9711\n",
      "Epoch [43/150], Score: 0.6461538672447205\n",
      "Epoch [46/150], Step [10/57], Loss: 0.9265\n",
      "Epoch [46/150], Step [20/57], Loss: 0.9458\n",
      "Epoch [46/150], Step [30/57], Loss: 0.8862\n",
      "Epoch [46/150], Step [40/57], Loss: 0.8891\n",
      "Epoch [46/150], Step [50/57], Loss: 0.8953\n",
      "Epoch [46/150], Score: 0.6307692527770996\n",
      "Epoch [49/150], Step [10/57], Loss: 0.9285\n",
      "Epoch [49/150], Step [20/57], Loss: 0.9061\n",
      "Epoch [49/150], Step [30/57], Loss: 0.8848\n",
      "Epoch [49/150], Step [40/57], Loss: 0.8904\n",
      "Epoch [49/150], Step [50/57], Loss: 0.8477\n",
      "Epoch [49/150], Score: 0.5692307949066162\n",
      "Epoch [52/150], Step [10/57], Loss: 0.8801\n",
      "Epoch [52/150], Step [20/57], Loss: 0.9115\n",
      "Epoch [52/150], Step [30/57], Loss: 0.8442\n",
      "Epoch [52/150], Step [40/57], Loss: 0.8466\n",
      "Epoch [52/150], Step [50/57], Loss: 0.8907\n",
      "Epoch [52/150], Score: 0.6153846383094788\n",
      "Epoch [55/150], Step [10/57], Loss: 0.7898\n",
      "Epoch [55/150], Step [20/57], Loss: 0.8134\n",
      "Epoch [55/150], Step [30/57], Loss: 0.8245\n",
      "Epoch [55/150], Step [40/57], Loss: 0.8639\n",
      "Epoch [55/150], Step [50/57], Loss: 0.8951\n",
      "Epoch [55/150], Score: 0.6153846383094788\n",
      "Epoch [58/150], Step [10/57], Loss: 0.8629\n",
      "Epoch [58/150], Step [20/57], Loss: 0.8684\n",
      "Epoch [58/150], Step [30/57], Loss: 0.8384\n",
      "Epoch [58/150], Step [40/57], Loss: 0.7937\n",
      "Epoch [58/150], Step [50/57], Loss: 0.9830\n",
      "Epoch [58/150], Score: 0.6000000238418579\n",
      "Epoch [61/150], Step [10/57], Loss: 0.8789\n",
      "Epoch [61/150], Step [20/57], Loss: 0.8170\n",
      "Epoch [61/150], Step [30/57], Loss: 0.8663\n",
      "Epoch [61/150], Step [40/57], Loss: 0.8122\n",
      "Epoch [61/150], Step [50/57], Loss: 0.9454\n",
      "Epoch [61/150], Score: 0.5846154093742371\n",
      "Epoch [64/150], Step [10/57], Loss: 0.8267\n",
      "Epoch [64/150], Step [20/57], Loss: 0.8988\n",
      "Epoch [64/150], Step [30/57], Loss: 0.8240\n",
      "Epoch [64/150], Step [40/57], Loss: 0.8493\n",
      "Epoch [64/150], Step [50/57], Loss: 0.8581\n",
      "Epoch [64/150], Score: 0.6153846383094788\n",
      "Epoch [67/150], Step [10/57], Loss: 0.7706\n",
      "Epoch [67/150], Step [20/57], Loss: 0.8418\n",
      "Epoch [67/150], Step [30/57], Loss: 0.8341\n",
      "Epoch [67/150], Step [40/57], Loss: 0.8055\n",
      "Epoch [67/150], Step [50/57], Loss: 0.7919\n",
      "Epoch [67/150], Score: 0.5538461804389954\n",
      "Epoch [70/150], Step [10/57], Loss: 0.8430\n",
      "Epoch [70/150], Step [20/57], Loss: 0.9120\n",
      "Epoch [70/150], Step [30/57], Loss: 0.8080\n",
      "Epoch [70/150], Step [40/57], Loss: 0.8127\n",
      "Epoch [70/150], Step [50/57], Loss: 0.8227\n",
      "Epoch [70/150], Score: 0.5846154093742371\n",
      "Epoch [73/150], Step [10/57], Loss: 0.8090\n",
      "Epoch [73/150], Step [20/57], Loss: 0.8277\n",
      "Epoch [73/150], Step [30/57], Loss: 0.7978\n",
      "Epoch [73/150], Step [40/57], Loss: 0.8228\n",
      "Epoch [73/150], Step [50/57], Loss: 0.8874\n",
      "Epoch [73/150], Score: 0.5538461804389954\n",
      "Epoch [76/150], Step [10/57], Loss: 0.8782\n",
      "Epoch [76/150], Step [20/57], Loss: 0.8369\n",
      "Epoch [76/150], Step [30/57], Loss: 0.8403\n",
      "Epoch [76/150], Step [40/57], Loss: 0.8526\n",
      "Epoch [76/150], Step [50/57], Loss: 0.8341\n",
      "Epoch [76/150], Score: 0.5538461804389954\n",
      "Epoch [79/150], Step [10/57], Loss: 0.7842\n",
      "Epoch [79/150], Step [20/57], Loss: 0.8094\n",
      "Epoch [79/150], Step [30/57], Loss: 0.7794\n",
      "Epoch [79/150], Step [40/57], Loss: 0.8614\n",
      "Epoch [79/150], Step [50/57], Loss: 0.7688\n",
      "Epoch [79/150], Score: 0.5538461804389954\n",
      "Epoch [82/150], Step [10/57], Loss: 0.7939\n",
      "Epoch [82/150], Step [20/57], Loss: 0.8272\n",
      "Epoch [82/150], Step [30/57], Loss: 0.8724\n",
      "Epoch [82/150], Step [40/57], Loss: 0.8278\n",
      "Epoch [82/150], Step [50/57], Loss: 0.8156\n",
      "Epoch [82/150], Score: 0.6461538672447205\n",
      "Epoch [85/150], Step [10/57], Loss: 0.8288\n",
      "Epoch [85/150], Step [20/57], Loss: 0.8168\n",
      "Epoch [85/150], Step [30/57], Loss: 0.8218\n",
      "Epoch [85/150], Step [40/57], Loss: 0.8263\n",
      "Epoch [85/150], Step [50/57], Loss: 0.7502\n",
      "Epoch [85/150], Score: 0.6307692527770996\n",
      "Epoch [88/150], Step [10/57], Loss: 0.8102\n",
      "Epoch [88/150], Step [20/57], Loss: 0.7926\n",
      "Epoch [88/150], Step [30/57], Loss: 0.7729\n",
      "Epoch [88/150], Step [40/57], Loss: 0.8341\n",
      "Epoch [88/150], Step [50/57], Loss: 0.7894\n",
      "Epoch [88/150], Score: 0.5384615659713745\n",
      "Epoch [91/150], Step [10/57], Loss: 0.7910\n",
      "Epoch [91/150], Step [20/57], Loss: 0.7665\n",
      "Epoch [91/150], Step [30/57], Loss: 0.7614\n",
      "Epoch [91/150], Step [40/57], Loss: 0.8363\n",
      "Epoch [91/150], Step [50/57], Loss: 0.7600\n",
      "Epoch [91/150], Score: 0.6307692527770996\n",
      "Epoch [94/150], Step [10/57], Loss: 0.8184\n",
      "Epoch [94/150], Step [20/57], Loss: 0.7686\n",
      "Epoch [94/150], Step [30/57], Loss: 0.8563\n",
      "Epoch [94/150], Step [40/57], Loss: 0.8252\n",
      "Epoch [94/150], Step [50/57], Loss: 0.8210\n"
     ]
    },
    {
     "name": "stdout",
     "output_type": "stream",
     "text": [
      "Epoch [94/150], Score: 0.6307692527770996\n",
      "Epoch [97/150], Step [10/57], Loss: 0.8026\n",
      "Epoch [97/150], Step [20/57], Loss: 0.8112\n",
      "Epoch [97/150], Step [30/57], Loss: 0.7907\n",
      "Epoch [97/150], Step [40/57], Loss: 0.8209\n",
      "Epoch [97/150], Step [50/57], Loss: 0.8379\n",
      "Epoch [97/150], Score: 0.6461538672447205\n",
      "Epoch [100/150], Step [10/57], Loss: 0.7934\n",
      "Epoch [100/150], Step [20/57], Loss: 0.7782\n",
      "Epoch [100/150], Step [30/57], Loss: 0.8006\n",
      "Epoch [100/150], Step [40/57], Loss: 0.8015\n",
      "Epoch [100/150], Step [50/57], Loss: 0.8103\n",
      "Epoch [100/150], Score: 0.6000000238418579\n",
      "Epoch [103/150], Step [10/57], Loss: 0.8545\n",
      "Epoch [103/150], Step [20/57], Loss: 0.8048\n",
      "Epoch [103/150], Step [30/57], Loss: 0.7604\n",
      "Epoch [103/150], Step [40/57], Loss: 0.7834\n",
      "Epoch [103/150], Step [50/57], Loss: 0.7934\n",
      "Epoch [103/150], Score: 0.5538461804389954\n",
      "Epoch [106/150], Step [10/57], Loss: 0.7995\n",
      "Epoch [106/150], Step [20/57], Loss: 0.8025\n",
      "Epoch [106/150], Step [30/57], Loss: 0.7996\n",
      "Epoch [106/150], Step [40/57], Loss: 0.8044\n",
      "Epoch [106/150], Step [50/57], Loss: 0.7815\n",
      "Epoch [106/150], Score: 0.6153846383094788\n",
      "Epoch [109/150], Step [10/57], Loss: 0.7474\n",
      "Epoch [109/150], Step [20/57], Loss: 0.7983\n",
      "Epoch [109/150], Step [30/57], Loss: 0.7597\n",
      "Epoch [109/150], Step [40/57], Loss: 0.8242\n",
      "Epoch [109/150], Step [50/57], Loss: 0.7913\n",
      "Epoch [109/150], Score: 0.6307692527770996\n",
      "Epoch [112/150], Step [10/57], Loss: 0.7722\n",
      "Epoch [112/150], Step [20/57], Loss: 0.7943\n",
      "Epoch [112/150], Step [30/57], Loss: 0.7745\n",
      "Epoch [112/150], Step [40/57], Loss: 0.7964\n",
      "Epoch [112/150], Step [50/57], Loss: 0.7763\n",
      "Epoch [112/150], Score: 0.5692307949066162\n",
      "Epoch [115/150], Step [10/57], Loss: 0.8151\n",
      "Epoch [115/150], Step [20/57], Loss: 0.7443\n",
      "Epoch [115/150], Step [30/57], Loss: 0.7561\n",
      "Epoch [115/150], Step [40/57], Loss: 0.7992\n",
      "Epoch [115/150], Step [50/57], Loss: 0.7755\n",
      "Epoch [115/150], Score: 0.6153846383094788\n",
      "Epoch [118/150], Step [10/57], Loss: 0.8479\n",
      "Epoch [118/150], Step [20/57], Loss: 0.7628\n",
      "Epoch [118/150], Step [30/57], Loss: 0.7625\n",
      "Epoch [118/150], Step [40/57], Loss: 0.7778\n",
      "Epoch [118/150], Step [50/57], Loss: 0.7778\n",
      "Epoch [118/150], Score: 0.6000000238418579\n",
      "Epoch [121/150], Step [10/57], Loss: 0.8245\n",
      "Epoch [121/150], Step [20/57], Loss: 0.7934\n",
      "Epoch [121/150], Step [30/57], Loss: 0.7839\n",
      "Epoch [121/150], Step [40/57], Loss: 0.7452\n",
      "Epoch [121/150], Step [50/57], Loss: 0.8005\n",
      "Epoch [121/150], Score: 0.5846154093742371\n",
      "Epoch [124/150], Step [10/57], Loss: 0.7814\n",
      "Epoch [124/150], Step [20/57], Loss: 0.7912\n",
      "Epoch [124/150], Step [30/57], Loss: 0.7619\n",
      "Epoch [124/150], Step [40/57], Loss: 0.8692\n",
      "Epoch [124/150], Step [50/57], Loss: 0.7844\n",
      "Epoch [124/150], Score: 0.6000000238418579\n",
      "Epoch [127/150], Step [10/57], Loss: 0.7608\n",
      "Epoch [127/150], Step [20/57], Loss: 0.8070\n",
      "Epoch [127/150], Step [30/57], Loss: 0.7909\n",
      "Epoch [127/150], Step [40/57], Loss: 0.7806\n",
      "Epoch [127/150], Step [50/57], Loss: 0.7650\n",
      "Epoch [127/150], Score: 0.6000000238418579\n",
      "Epoch [130/150], Step [10/57], Loss: 0.7691\n",
      "Epoch [130/150], Step [20/57], Loss: 0.8220\n",
      "Epoch [130/150], Step [30/57], Loss: 0.7916\n",
      "Epoch [130/150], Step [40/57], Loss: 0.7548\n",
      "Epoch [130/150], Step [50/57], Loss: 0.7763\n",
      "Epoch [130/150], Score: 0.5846154093742371\n",
      "Epoch [133/150], Step [10/57], Loss: 0.7907\n",
      "Epoch [133/150], Step [20/57], Loss: 0.7685\n",
      "Epoch [133/150], Step [30/57], Loss: 0.7598\n",
      "Epoch [133/150], Step [40/57], Loss: 0.7608\n",
      "Epoch [133/150], Step [50/57], Loss: 0.8337\n",
      "Epoch [133/150], Score: 0.5538461804389954\n",
      "Epoch [136/150], Step [10/57], Loss: 0.7751\n",
      "Epoch [136/150], Step [20/57], Loss: 0.7987\n",
      "Epoch [136/150], Step [30/57], Loss: 0.7984\n",
      "Epoch [136/150], Step [40/57], Loss: 0.7754\n",
      "Epoch [136/150], Step [50/57], Loss: 0.7446\n",
      "Epoch [136/150], Score: 0.6307692527770996\n",
      "Epoch [139/150], Step [10/57], Loss: 0.7494\n",
      "Epoch [139/150], Step [20/57], Loss: 0.7601\n",
      "Epoch [139/150], Step [30/57], Loss: 0.7766\n",
      "Epoch [139/150], Step [40/57], Loss: 0.8376\n",
      "Epoch [139/150], Step [50/57], Loss: 0.7749\n",
      "Epoch [139/150], Score: 0.5846154093742371\n",
      "Epoch [142/150], Step [10/57], Loss: 0.7600\n",
      "Epoch [142/150], Step [20/57], Loss: 0.7438\n",
      "Epoch [142/150], Step [30/57], Loss: 0.7594\n",
      "Epoch [142/150], Step [40/57], Loss: 0.8224\n",
      "Epoch [142/150], Step [50/57], Loss: 0.8081\n",
      "Epoch [142/150], Score: 0.6461538672447205\n",
      "Epoch [145/150], Step [10/57], Loss: 0.7917\n",
      "Epoch [145/150], Step [20/57], Loss: 0.7678\n",
      "Epoch [145/150], Step [30/57], Loss: 0.8150\n",
      "Epoch [145/150], Step [40/57], Loss: 0.8223\n",
      "Epoch [145/150], Step [50/57], Loss: 0.7610\n",
      "Epoch [145/150], Score: 0.5692307949066162\n",
      "Epoch [148/150], Step [10/57], Loss: 0.7751\n",
      "Epoch [148/150], Step [20/57], Loss: 0.7650\n",
      "Epoch [148/150], Step [30/57], Loss: 0.8024\n",
      "Epoch [148/150], Step [40/57], Loss: 0.7648\n",
      "Epoch [148/150], Step [50/57], Loss: 0.8536\n",
      "Epoch [148/150], Score: 0.5692307949066162\n"
     ]
    }
   ],
   "source": [
    "no_of_epochs = 150\n",
    "criterion = nn.CrossEntropyLoss()\n",
    "optimizer = torch.optim.SGD(model.parameters(), lr=0.01, momentum=0.8)\n",
    "total_step = len(train_loader)\n",
    "for epoch in range(no_of_epochs):\n",
    "    model.train()\n",
    "    for i, (images, label) in enumerate(train_loader):\n",
    "        images = images.to(device)\n",
    "        label  = label.to(device).argmax(dim=1).long()\n",
    "\n",
    "        # Forward Pass\n",
    "        preds = model(images)\n",
    "        loss = criterion(preds, label)\n",
    "        \n",
    "        if (epoch%3==0 and i % 10 == 9):\n",
    "            print ('Epoch [{}/{}], Step [{}/{}], Loss: {:.4f}' \n",
    "                   .format(epoch+1, no_of_epochs, i+1, total_step, loss.item()))\n",
    "\n",
    "        # Backward Pass and Optimization\n",
    "        optimizer.zero_grad()\n",
    "        loss.backward()\n",
    "        optimizer.step()\n",
    "    model.eval()\n",
    "    if (epoch%3 == 0):\n",
    "        print('Epoch [{}/{}], Score: {}' \n",
    "                   .format(epoch+1, no_of_epochs, validate()))"
   ]
  },
  {
   "cell_type": "code",
   "execution_count": 32,
   "metadata": {},
   "outputs": [
    {
     "data": {
      "text/plain": [
       "tensor(0.5538, device='cuda:0')"
      ]
     },
     "execution_count": 32,
     "metadata": {},
     "output_type": "execute_result"
    }
   ],
   "source": [
    "model.eval()\n",
    "validate()"
   ]
  },
  {
   "cell_type": "code",
   "execution_count": 33,
   "metadata": {},
   "outputs": [
    {
     "data": {
      "text/plain": [
       "(array([ 6.,  0.,  0., 11.,  0.,  0., 20.,  0.,  0., 28.]),\n",
       " array([0. , 0.3, 0.6, 0.9, 1.2, 1.5, 1.8, 2.1, 2.4, 2.7, 3. ]),\n",
       " <a list of 10 Patch objects>)"
      ]
     },
     "execution_count": 33,
     "metadata": {},
     "output_type": "execute_result"
    },
    {
     "data": {
      "image/png": "[encoded data removed]",
      "text/plain": [
       "<Figure size 432x288 with 1 Axes>"
      ]
     },
     "metadata": {
      "needs_background": "light"
     },
     "output_type": "display_data"
    }
   ],
   "source": [
    "plt.hist(data[\"axis_id\"].values[valid_idx])"
   ]
  },
  {
   "cell_type": "code",
   "execution_count": 34,
   "metadata": {},
   "outputs": [
    {
     "data": {
      "text/plain": [
       "(array([ 75.,   0.,   0.,  74.,   0.,   0., 249.,   0.,   0., 196.]),\n",
       " array([0. , 0.3, 0.6, 0.9, 1.2, 1.5, 1.8, 2.1, 2.4, 2.7, 3. ]),\n",
       " <a list of 10 Patch objects>)"
      ]
     },
     "execution_count": 34,
     "metadata": {},
     "output_type": "execute_result"
    },
    {
     "data": {
      "image/png": "[encoded data removed]",
      "text/plain": [
       "<Figure size 432x288 with 1 Axes>"
      ]
     },
     "metadata": {
      "needs_background": "light"
     },
     "output_type": "display_data"
    }
   ],
   "source": [
    "plt.hist(data[\"axis_id\"].values[train_idx])"
   ]
  },
  {
   "cell_type": "code",
   "execution_count": 35,
   "metadata": {},
   "outputs": [
    {
     "data": {
      "text/plain": [
       "tensor([[0.2689, 0.7311],\n",
       "        [0.1192, 0.8808]])"
      ]
     },
     "execution_count": 35,
     "metadata": {},
     "output_type": "execute_result"
    }
   ],
   "source": [
    "F.softmax(torch.tensor([[2.0,3.0], [1.0, 3.0]]).float(), dim  = 1)"
   ]
  },
  {
   "cell_type": "code",
   "execution_count": 36,
   "metadata": {},
   "outputs": [
    {
     "data": {
      "text/plain": [
       "(3, 2)"
      ]
     },
     "execution_count": 36,
     "metadata": {},
     "output_type": "execute_result"
    }
   ],
   "source": [
    "np.array([[2,3],[2,2],[1,2]]).shape"
   ]
  },
  {
   "cell_type": "code",
   "execution_count": null,
   "metadata": {},
   "outputs": [],
   "source": []
  }
 ],
 "metadata": {
  "kernelspec": {
   "display_name": "Python 3",
   "language": "python",
   "name": "python3"
  },
  "language_info": {
   "codemirror_mode": {
    "name": "ipython",
    "version": 3
   },
   "file_extension": ".py",
   "mimetype": "text/x-python",
   "name": "python",
   "nbconvert_exporter": "python",
   "pygments_lexer": "ipython3",
   "version": "3.6.7"
  }
 },
 "nbformat": 4,
 "nbformat_minor": 2
}
